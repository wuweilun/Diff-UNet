{
 "cells": [
  {
   "cell_type": "markdown",
   "metadata": {
    "id": "CaH5GnU7Fcbp"
   },
   "source": [
    " ## Download from google drive & create json file\n",
    "\n"
   ]
  },
  {
   "cell_type": "code",
   "execution_count": 1,
   "metadata": {
    "id": "dLYVdw8d8g04"
   },
   "outputs": [],
   "source": [
    "# !gdown 1VFZDI21HXbVQRJOawGxAiQZxFERysLC4 -O datasets.zip\n",
    "\n",
    "# !unzip ./datasets.zip"
   ]
  },
  {
   "cell_type": "code",
   "execution_count": 2,
   "metadata": {
    "id": "fs8IsUzX8jW9"
   },
   "outputs": [],
   "source": [
    "# import os\n",
    "# import json\n",
    "\n",
    "# # Set the path to data directory\n",
    "# data_dir = \"./BraTS2020_TrainingData/MICCAI_BraTS2020_TrainingData/\"\n",
    "\n",
    "# base_dir = \"MICCAI_BraTS2020_TrainingData/\"\n",
    "# # Get a list of all directories in the data directory\n",
    "# all_dirs = os.listdir(data_dir)\n",
    "\n",
    "# # Create a list of all file paths by joining data directory and directory names\n",
    "# all_paths = [os.path.join(data_dir, d) for d in all_dirs]\n",
    "\n",
    "# # Calculate sizes for training, validation, and test sets\n",
    "# size = len(all_paths)\n",
    "# train_size = int(0.7 * size)\n",
    "# val_size = int(0.1 * size)\n",
    "\n",
    "# # Split the file paths into training, validation, and test sets\n",
    "# train_files = all_paths[:train_size]\n",
    "# val_files = all_paths[train_size:train_size + val_size]\n",
    "# test_files = all_paths[train_size + val_size:]\n",
    "\n",
    "# # Function to extract ID from file path\n",
    "# def extract_id_from_path(file_path):\n",
    "#     return file_path.split(\"/\")[-1]\n",
    "\n",
    "# # Create a list for training samples\n",
    "# training_samples = []\n",
    "# for file_path in train_files:\n",
    "#     id = extract_id_from_path(file_path)\n",
    "#     if \"csv\" in id:\n",
    "#       continue\n",
    "#     sample = {\n",
    "#         \"fold\": 0,  # Set fold to 0 to indicate it's in the training set\n",
    "#         \"image\": [\n",
    "#             os.path.join(base_dir, f\"{id}/{id}_flair.nii\"),\n",
    "#             os.path.join(base_dir, f\"{id}/{id}_t1ce.nii\"),\n",
    "#             os.path.join(base_dir, f\"{id}/{id}_t1.nii\"),\n",
    "#             os.path.join(base_dir, f\"{id}/{id}_t2.nii\")\n",
    "#         ],\n",
    "#         \"label\": os.path.join(base_dir, f\"{id}/{id}_seg.nii\")\n",
    "#     }\n",
    "#     training_samples.append(sample)\n",
    "\n",
    "# # Create a list for validation samples\n",
    "# validation_samples = []\n",
    "# for file_path in val_files:\n",
    "#     id = extract_id_from_path(file_path)\n",
    "#     if \"csv\" in id:\n",
    "#       continue\n",
    "#     sample = {\n",
    "#         \"fold\": 1,  # Set fold to 1 to indicate it's in the validation set\n",
    "#         \"image\": [\n",
    "#             os.path.join(base_dir, f\"{id}/{id}_flair.nii\"),\n",
    "#             os.path.join(base_dir, f\"{id}/{id}_t1ce.nii\"),\n",
    "#             os.path.join(base_dir, f\"{id}/{id}_t1.nii\"),\n",
    "#             os.path.join(base_dir, f\"{id}/{id}_t2.nii\")\n",
    "#         ],\n",
    "#         \"label\": os.path.join(base_dir, f\"{id}/{id}_seg.nii\")\n",
    "#     }\n",
    "#     validation_samples.append(sample)\n",
    "\n",
    "# # Create a list for test samples\n",
    "# test_samples = []\n",
    "# for file_path in test_files:\n",
    "#     id = extract_id_from_path(file_path)\n",
    "#     if \"csv\" in id:\n",
    "#       continue\n",
    "#     sample = {\n",
    "#         \"fold\": 2,  # Set fold to 2 to indicate it's in the test set\n",
    "#         \"image\": [\n",
    "#             os.path.join(base_dir, f\"{id}/{id}_flair.nii\"),\n",
    "#             os.path.join(base_dir, f\"{id}/{id}_t1ce.nii\"),\n",
    "#             os.path.join(base_dir, f\"{id}/{id}_t1.nii\"),\n",
    "#             os.path.join(base_dir, f\"{id}/{id}_t2.nii\")\n",
    "#         ],\n",
    "#         \"label\": os.path.join(base_dir, f\"{id}/{id}_seg.nii\")\n",
    "#     }\n",
    "#     test_samples.append(sample)\n",
    "\n",
    "# # Combine all samples into one list\n",
    "# all_samples = training_samples + validation_samples + test_samples\n",
    "\n",
    "# # Create JSON data structure\n",
    "# all_data = {\"training\": all_samples}\n",
    "\n",
    "# # Convert the dictionary to a JSON string\n",
    "# json_data = json.dumps(all_data, indent=4)\n",
    "\n",
    "# # Write the JSON string to a file\n",
    "# with open('brats20_folds.json', 'w') as json_file:\n",
    "#     json_file.write(json_data)\n"
   ]
  },
  {
   "cell_type": "markdown",
   "metadata": {
    "id": "ZGf-j0zUFcbp"
   },
   "source": [
    "## Setup environment"
   ]
  },
  {
   "cell_type": "code",
   "execution_count": 3,
   "metadata": {
    "colab": {
     "base_uri": "https://localhost:8080/"
    },
    "id": "e7x-8xwJ_p5N",
    "outputId": "9a1cb7a3-861f-47e1-d1f7-ba576944d405"
   },
   "outputs": [],
   "source": [
    "# !pip install -r requirements.txt"
   ]
  },
  {
   "cell_type": "code",
   "execution_count": 4,
   "metadata": {
    "colab": {
     "base_uri": "https://localhost:8080/"
    },
    "id": "gVVatpxMFcbq",
    "outputId": "f73466b1-e82e-4007-bf16-d7f426bac616"
   },
   "outputs": [],
   "source": [
    "!python -c \"import monai\" || pip install -q \"monai-weekly[nibabel]\"\n",
    "!python -c \"import matplotlib\" || pip install -q matplotlib\n",
    "%matplotlib inline"
   ]
  },
  {
   "cell_type": "markdown",
   "metadata": {
    "id": "i2a6wQobFcbq"
   },
   "source": [
    "## Setup imports"
   ]
  },
  {
   "cell_type": "code",
   "execution_count": 5,
   "metadata": {
    "colab": {
     "base_uri": "https://localhost:8080/"
    },
    "id": "yKvZy_a3Fcbq",
    "outputId": "3418161a-37e3-43de-b3ca-1dc146a95ba4"
   },
   "outputs": [
    {
     "name": "stdout",
     "output_type": "stream",
     "text": [
      "MONAI version: 0.8.1+271.g07de215c\n",
      "Numpy version: 1.23.5\n",
      "Pytorch version: 1.12.1\n",
      "MONAI flags: HAS_EXT = False, USE_COMPILED = False\n",
      "MONAI rev id: 07de215caf79dabec20ac53fb38d9f2df36f182a\n",
      "MONAI __file__: /home/pippi/anaconda3/envs/DLCV/lib/python3.8/site-packages/monai/__init__.py\n",
      "\n",
      "Optional dependencies:\n",
      "Pytorch Ignite version: NOT INSTALLED or UNKNOWN VERSION.\n",
      "Nibabel version: 3.1.1\n",
      "scikit-image version: NOT INSTALLED or UNKNOWN VERSION.\n",
      "Pillow version: 9.4.0\n",
      "Tensorboard version: 2.14.0\n",
      "gdown version: 4.7.1\n",
      "TorchVision version: 0.13.1\n",
      "tqdm version: 4.59.0\n",
      "lmdb version: NOT INSTALLED or UNKNOWN VERSION.\n",
      "psutil version: 5.9.0\n",
      "pandas version: NOT INSTALLED or UNKNOWN VERSION.\n",
      "einops version: 0.4.1\n",
      "transformers version: NOT INSTALLED or UNKNOWN VERSION.\n",
      "mlflow version: NOT INSTALLED or UNKNOWN VERSION.\n",
      "pynrrd version: NOT INSTALLED or UNKNOWN VERSION.\n",
      "\n",
      "For details about installing the optional dependencies, please visit:\n",
      "    https://docs.monai.io/en/latest/installation.html#installing-the-recommended-dependencies\n",
      "\n"
     ]
    }
   ],
   "source": [
    "import os\n",
    "import json\n",
    "import shutil\n",
    "import tempfile\n",
    "import time\n",
    "\n",
    "import matplotlib.pyplot as plt\n",
    "import numpy as np\n",
    "import nibabel as nib\n",
    "\n",
    "from monai.losses import DiceLoss\n",
    "from monai.inferers import sliding_window_inference\n",
    "from monai import transforms\n",
    "from monai.transforms import (\n",
    "    AsDiscrete,\n",
    "    Activations,\n",
    ")\n",
    "\n",
    "from monai.config import print_config\n",
    "from monai.metrics import DiceMetric\n",
    "from monai.utils.enums import MetricReduction\n",
    "from monai.networks.nets import SegResNet\n",
    "from monai import data\n",
    "from monai.data import decollate_batch\n",
    "from functools import partial\n",
    "\n",
    "import torch\n",
    "from tqdm import tqdm\n",
    "\n",
    "\n",
    "print_config()"
   ]
  },
  {
   "cell_type": "markdown",
   "metadata": {
    "id": "VY8MFeDUFcbr"
   },
   "source": [
    "## Setup data directory\n",
    "\n",
    "You can specify a directory with the `MONAI_DATA_DIRECTORY` environment variable.  \n",
    "This allows you to save results and reuse downloads.  \n",
    "If not specified a temporary directory will be used."
   ]
  },
  {
   "cell_type": "code",
   "execution_count": 6,
   "metadata": {
    "colab": {
     "base_uri": "https://localhost:8080/"
    },
    "id": "fn5oyNpgFcbr",
    "outputId": "7820ccb7-a30b-4f76-f513-f03d4ef7ff42"
   },
   "outputs": [
    {
     "name": "stdout",
     "output_type": "stream",
     "text": [
      "/tmp/tmpxf10cv61\n"
     ]
    }
   ],
   "source": [
    "directory = os.environ.get(\"MONAI_DATA_DIRECTORY\")\n",
    "root_dir = tempfile.mkdtemp() if directory is None else directory\n",
    "print(root_dir)"
   ]
  },
  {
   "cell_type": "markdown",
   "metadata": {
    "id": "SA3zMgzgFcbr"
   },
   "source": [
    "## Setup average meter, fold reader, checkpoint saver"
   ]
  },
  {
   "cell_type": "code",
   "execution_count": 7,
   "metadata": {
    "id": "lpkpkff3Fcbs"
   },
   "outputs": [],
   "source": [
    "class AverageMeter(object):\n",
    "    def __init__(self):\n",
    "        self.reset()\n",
    "\n",
    "    def reset(self):\n",
    "        self.val = 0\n",
    "        self.avg = 0\n",
    "        self.sum = 0\n",
    "        self.count = 0\n",
    "\n",
    "    def update(self, val, n=1):\n",
    "        self.val = val\n",
    "        self.sum += val * n\n",
    "        self.count += n\n",
    "        self.avg = np.where(self.count > 0, self.sum / self.count, self.sum)\n",
    "\n",
    "# Add test data\n",
    "def datafold_read(datalist, basedir, fold=0, key=\"training\"):\n",
    "    with open(datalist) as f:\n",
    "        json_data = json.load(f)\n",
    "\n",
    "    json_data = json_data[key]\n",
    "\n",
    "    for d in json_data:\n",
    "        for k in d:\n",
    "            if isinstance(d[k], list):\n",
    "                d[k] = [os.path.join(basedir, iv) for iv in d[k]]\n",
    "                #print([os.path.join(basedir, iv) for iv in d[k]])\n",
    "            elif isinstance(d[k], str):\n",
    "                d[k] = os.path.join(basedir, d[k]) if len(d[k]) > 0 else d[k]\n",
    "\n",
    "    tr = []\n",
    "    val = []\n",
    "    test = []\n",
    "    for d in json_data:\n",
    "        if \"fold\" in d and d[\"fold\"] == fold:\n",
    "            val.append(d)\n",
    "        elif \"fold\" in d and d[\"fold\"] == 2:\n",
    "            test.append(d)\n",
    "        else:\n",
    "            tr.append(d)\n",
    "\n",
    "    return tr, val, test\n",
    "\n",
    "\n",
    "def save_checkpoint(model, epoch, filename=\"model.pt\", best_acc=0, dir_add=root_dir):\n",
    "    state_dict = model.state_dict()\n",
    "    save_dict = {\"epoch\": epoch, \"best_acc\": best_acc, \"state_dict\": state_dict}\n",
    "    filename = os.path.join(dir_add, filename)\n",
    "    torch.save(save_dict, filename)\n",
    "    print(\"Saving checkpoint\", filename)"
   ]
  },
  {
   "cell_type": "markdown",
   "metadata": {
    "id": "gc1oP2ATFcbs"
   },
   "source": [
    "## Setup dataloader"
   ]
  },
  {
   "cell_type": "code",
   "execution_count": 8,
   "metadata": {
    "id": "j2r5-m_TFcbs"
   },
   "outputs": [],
   "source": [
    "# Add test dataloader\n",
    "def get_loader(batch_size, data_dir, json_list, fold, roi):\n",
    "    data_dir = data_dir\n",
    "    datalist_json = json_list\n",
    "    train_files, validation_files, test_files = datafold_read(datalist=datalist_json, basedir=data_dir, fold=fold)\n",
    "    print(len(train_files), len(validation_files), len(test_files))\n",
    "    train_transform = transforms.Compose(\n",
    "        [\n",
    "            transforms.LoadImaged(keys=[\"image\", \"label\"]),\n",
    "            transforms.ConvertToMultiChannelBasedOnBratsClassesd(keys=\"label\"),\n",
    "            transforms.CropForegroundd(\n",
    "                keys=[\"image\", \"label\"],\n",
    "                source_key=\"image\",\n",
    "                k_divisible=[roi[0], roi[1], roi[2]],\n",
    "            ),\n",
    "            transforms.RandSpatialCropd(\n",
    "                keys=[\"image\", \"label\"],\n",
    "                roi_size=[roi[0], roi[1], roi[2]],\n",
    "                random_size=False,\n",
    "            ),\n",
    "            transforms.RandFlipd(keys=[\"image\", \"label\"], prob=0.5, spatial_axis=0),\n",
    "            transforms.RandFlipd(keys=[\"image\", \"label\"], prob=0.5, spatial_axis=1),\n",
    "            transforms.RandFlipd(keys=[\"image\", \"label\"], prob=0.5, spatial_axis=2),\n",
    "            transforms.NormalizeIntensityd(keys=\"image\", nonzero=True, channel_wise=True),\n",
    "            transforms.RandScaleIntensityd(keys=\"image\", factors=0.1, prob=1.0),\n",
    "            transforms.RandShiftIntensityd(keys=\"image\", offsets=0.1, prob=1.0),\n",
    "        ]\n",
    "    )\n",
    "    val_transform = transforms.Compose(\n",
    "        [\n",
    "            transforms.LoadImaged(keys=[\"image\", \"label\"]),\n",
    "            transforms.ConvertToMultiChannelBasedOnBratsClassesd(keys=\"label\"),\n",
    "            transforms.NormalizeIntensityd(keys=\"image\", nonzero=True, channel_wise=True),\n",
    "        ]\n",
    "    )\n",
    "\n",
    "    train_ds = data.Dataset(data=train_files, transform=train_transform)\n",
    "\n",
    "    train_loader = data.DataLoader(\n",
    "        train_ds,\n",
    "        batch_size=batch_size,\n",
    "        shuffle=True,\n",
    "        num_workers=8,\n",
    "        pin_memory=True,\n",
    "    )\n",
    "    val_ds = data.Dataset(data=validation_files, transform=val_transform)\n",
    "    val_loader = data.DataLoader(\n",
    "        val_ds,\n",
    "        batch_size=1,\n",
    "        shuffle=False,\n",
    "        num_workers=8,\n",
    "        pin_memory=True,\n",
    "    )\n",
    "\n",
    "    test_ds = data.Dataset(data=test_files, transform=val_transform)\n",
    "    test_loader = data.DataLoader(\n",
    "        test_ds,\n",
    "        batch_size=1,\n",
    "        shuffle=False,\n",
    "        num_workers=8,\n",
    "        pin_memory=True,\n",
    "    )\n",
    "    print(len(train_loader), len(val_loader), len(test_loader))\n",
    "    return train_loader, val_loader, test_loader"
   ]
  },
  {
   "cell_type": "markdown",
   "metadata": {
    "id": "vJlF4Z40Fcbs"
   },
   "source": [
    "## Set dataset root directory and hyper-parameters\n",
    "\n",
    "The following hyper-parameters are set for the purpose of this tutorial. However, additional changes, as described below, maybe beneficial.\n",
    "\n",
    "If GPU memory is not sufficient, reduce sw_batch_size to 2 or batch_size to 1.\n",
    "\n",
    "Decrease val_every (validation frequency) to 1 for obtaining more accurate checkpoints."
   ]
  },
  {
   "cell_type": "code",
   "execution_count": 9,
   "metadata": {
    "colab": {
     "base_uri": "https://localhost:8080/"
    },
    "id": "XU646YB5Fcbs",
    "outputId": "68524474-f16b-470b-f983-e5e492be15d8"
   },
   "outputs": [
    {
     "name": "stdout",
     "output_type": "stream",
     "text": [
      "257 37 75\n",
      "257 37 75\n"
     ]
    }
   ],
   "source": [
    "data_dir = \"./BraTS2020_TrainingData\"\n",
    "json_list = \"./brats20_folds.json\"\n",
    "roi = (128, 128, 128)\n",
    "batch_size = 1\n",
    "sw_batch_size = 1\n",
    "fold = 1\n",
    "infer_overlap = 0.5\n",
    "max_epochs = 300\n",
    "val_every = 10\n",
    "train_loader, val_loader, test_loader = get_loader(batch_size, data_dir, json_list, fold, roi)"
   ]
  },
  {
   "cell_type": "markdown",
   "metadata": {
    "id": "dfEUUKw2Fcbs"
   },
   "source": [
    "## Check data shape and visualize"
   ]
  },
  {
   "cell_type": "code",
   "execution_count": 10,
   "metadata": {
    "colab": {
     "base_uri": "https://localhost:8080/",
     "height": 405
    },
    "id": "JTemPhuBFcbs",
    "outputId": "8ad6f39a-f82c-4773-bdf8-1968f964f349"
   },
   "outputs": [
    {
     "name": "stdout",
     "output_type": "stream",
     "text": [
      "image shape: (240, 240, 155), label shape: (240, 240, 155)\n"
     ]
    },
    {
     "data": {
      "image/png": "[encoded data removed]",
      "text/plain": [
       "<Figure size 1800x600 with 2 Axes>"
      ]
     },
     "metadata": {},
     "output_type": "display_data"
    }
   ],
   "source": [
    "img_add = os.path.join(data_dir, \"MICCAI_BraTS2020_TrainingData/BraTS20_Training_001/BraTS20_Training_001_flair.nii\")\n",
    "label_add = os.path.join(data_dir, \"MICCAI_BraTS2020_TrainingData/BraTS20_Training_001/BraTS20_Training_001_seg.nii\")\n",
    "img = nib.load(img_add).get_fdata()\n",
    "label = nib.load(label_add).get_fdata()\n",
    "print(f\"image shape: {img.shape}, label shape: {label.shape}\")\n",
    "plt.figure(\"image\", (18, 6))\n",
    "plt.subplot(1, 2, 1)\n",
    "plt.title(\"image\")\n",
    "plt.imshow(img[:, :, 78], cmap=\"gray\")\n",
    "plt.subplot(1, 2, 2)\n",
    "plt.title(\"label\")\n",
    "plt.imshow(label[:, :, 78])\n",
    "plt.show()"
   ]
  },
  {
   "cell_type": "markdown",
   "metadata": {
    "id": "GCET1ddvFcbt"
   },
   "source": [
    "## Create SegResNet model"
   ]
  },
  {
   "cell_type": "code",
   "execution_count": 11,
   "metadata": {
    "id": "ofPNDBJnFcbt"
   },
   "outputs": [],
   "source": [
    "os.environ[\"CUDA_DEVICE_ORDER\"] = \"PCI_BUS_ID\"\n",
    "device = torch.device(\"cuda\" if torch.cuda.is_available() else \"cpu\")\n",
    "\n",
    "model = SegResNet(\n",
    "    blocks_down=[1, 2, 2, 4],\n",
    "    blocks_up=[1, 1, 1],\n",
    "    init_filters=16,\n",
    "    in_channels=4,\n",
    "    out_channels=3,\n",
    "    dropout_prob=0.2,\n",
    ").to(device)"
   ]
  },
  {
   "cell_type": "markdown",
   "metadata": {
    "id": "AdKxtFOmFcbt"
   },
   "source": [
    "## Optimizer and loss function"
   ]
  },
  {
   "cell_type": "code",
   "execution_count": 12,
   "metadata": {
    "id": "eDoFuHenFcbt"
   },
   "outputs": [],
   "source": [
    "torch.backends.cudnn.benchmark = True\n",
    "dice_loss = DiceLoss(to_onehot_y=False, sigmoid=True)\n",
    "post_sigmoid = Activations(sigmoid=True)\n",
    "post_pred = AsDiscrete(argmax=False, threshold=0.5)\n",
    "dice_acc = DiceMetric(include_background=True, reduction=MetricReduction.MEAN_BATCH, get_not_nans=True)\n",
    "model_inferer = partial(\n",
    "    sliding_window_inference,\n",
    "    roi_size=[roi[0], roi[1], roi[2]],\n",
    "    sw_batch_size=sw_batch_size,\n",
    "    predictor=model,\n",
    "    overlap=infer_overlap,\n",
    ")\n",
    "\n",
    "optimizer = torch.optim.AdamW(model.parameters(), lr=1e-4, weight_decay=1e-5)\n",
    "scheduler = torch.optim.lr_scheduler.CosineAnnealingLR(optimizer, T_max=max_epochs)"
   ]
  },
  {
   "cell_type": "markdown",
   "metadata": {
    "id": "ukkP4tq_Fcbt"
   },
   "source": [
    "## Define Train and Validation Epoch"
   ]
  },
  {
   "cell_type": "code",
   "execution_count": 13,
   "metadata": {
    "id": "p7Kl6o_YFcbt",
    "scrolled": true
   },
   "outputs": [],
   "source": [
    "def train_epoch(model, loader, optimizer, epoch, loss_func):\n",
    "    model.train()\n",
    "    # start_time = time.time()\n",
    "    run_loss = AverageMeter()\n",
    "    for batch_data in tqdm(loader):\n",
    "        data, target = batch_data[\"image\"].to(device), batch_data[\"label\"].to(device)\n",
    "        logits = model(data)\n",
    "        loss = loss_func(logits, target)\n",
    "        loss.backward()\n",
    "        optimizer.step()\n",
    "        run_loss.update(loss.item(), n=batch_size)\n",
    "        # print(\n",
    "        #     \"Epoch {}/{} {}/{}\".format(epoch, max_epochs, idx, len(loader)),\n",
    "        #     \"loss: {:.4f}\".format(run_loss.avg),\n",
    "        #     \"time {:.2f}s\".format(time.time() - start_time),\n",
    "        # )\n",
    "        # start_time = time.time()\n",
    "    return run_loss.avg\n",
    "\n",
    "\n",
    "def val_epoch(\n",
    "    model,\n",
    "    loader,\n",
    "    epoch,\n",
    "    acc_func,\n",
    "    model_inferer=None,\n",
    "    post_sigmoid=None,\n",
    "    post_pred=None,\n",
    "):\n",
    "    model.eval()\n",
    "    # start_time = time.time()\n",
    "    run_acc = AverageMeter()\n",
    "\n",
    "    with torch.no_grad():\n",
    "        for batch_data in tqdm(loader):\n",
    "            data, target = batch_data[\"image\"].to(device), batch_data[\"label\"].to(device)\n",
    "            logits = model_inferer(data)\n",
    "            val_labels_list = decollate_batch(target)\n",
    "            val_outputs_list = decollate_batch(logits)\n",
    "            val_output_convert = [post_pred(post_sigmoid(val_pred_tensor)) for val_pred_tensor in val_outputs_list]\n",
    "            acc_func.reset()\n",
    "            acc_func(y_pred=val_output_convert, y=val_labels_list)\n",
    "            acc, not_nans = acc_func.aggregate()\n",
    "            run_acc.update(acc.cpu().numpy(), n=not_nans.cpu().numpy())\n",
    "            dice_tc = run_acc.avg[0]\n",
    "            dice_wt = run_acc.avg[1]\n",
    "            dice_et = run_acc.avg[2]\n",
    "            # print(\n",
    "            #     \"Val {}/{} {}/{}\".format(epoch, max_epochs, idx, len(loader)),\n",
    "            #     \", dice_tc:\",\n",
    "            #     dice_tc,\n",
    "            #     \", dice_wt:\",\n",
    "            #     dice_wt,\n",
    "            #     \", dice_et:\",\n",
    "            #     dice_et,\n",
    "            #     \", time {:.2f}s\".format(time.time() - start_time),\n",
    "            # )\n",
    "            # start_time = time.time()\n",
    "\n",
    "    return run_acc.avg"
   ]
  },
  {
   "cell_type": "markdown",
   "metadata": {
    "id": "rrjd-L2LFcbt"
   },
   "source": [
    "## Define Trainer"
   ]
  },
  {
   "cell_type": "code",
   "execution_count": 14,
   "metadata": {
    "id": "Chpps4_VFcbt"
   },
   "outputs": [],
   "source": [
    "def trainer(\n",
    "    model,\n",
    "    train_loader,\n",
    "    val_loader,\n",
    "    optimizer,\n",
    "    loss_func,\n",
    "    acc_func,\n",
    "    scheduler,\n",
    "    model_inferer=None,\n",
    "    start_epoch=0,\n",
    "    post_sigmoid=None,\n",
    "    post_pred=None,\n",
    "):\n",
    "    val_acc_max = 0.0\n",
    "    dices_tc = []\n",
    "    dices_wt = []\n",
    "    dices_et = []\n",
    "    dices_avg = []\n",
    "    loss_epochs = []\n",
    "    trains_epoch = []\n",
    "    for epoch in range(start_epoch, max_epochs):\n",
    "        print(time.ctime(), \"Epoch:\", epoch)\n",
    "        epoch_time = time.time()\n",
    "        train_loss = train_epoch(\n",
    "            model,\n",
    "            train_loader,\n",
    "            optimizer,\n",
    "            epoch=epoch,\n",
    "            loss_func=loss_func,\n",
    "        )\n",
    "        print(\n",
    "            \"Final training  {}/{}\".format(epoch, max_epochs - 1),\n",
    "            \"loss: {:.4f}\".format(train_loss),\n",
    "            \"time {:.2f}s\".format(time.time() - epoch_time),\n",
    "        )\n",
    "\n",
    "        if (epoch + 1) % val_every == 0 or epoch == 0:\n",
    "            loss_epochs.append(train_loss)\n",
    "            trains_epoch.append(int(epoch))\n",
    "            epoch_time = time.time()\n",
    "            val_acc = val_epoch(\n",
    "                model,\n",
    "                val_loader,\n",
    "                epoch=epoch,\n",
    "                acc_func=acc_func,\n",
    "                model_inferer=model_inferer,\n",
    "                post_sigmoid=post_sigmoid,\n",
    "                post_pred=post_pred,\n",
    "            )\n",
    "            dice_tc = val_acc[0]\n",
    "            dice_wt = val_acc[1]\n",
    "            dice_et = val_acc[2]\n",
    "            val_avg_acc = np.mean(val_acc)\n",
    "            print(\n",
    "                \"Final validation stats {}/{}\".format(epoch, max_epochs - 1),\n",
    "                \", dice_tc:\",\n",
    "                dice_tc,\n",
    "                \", dice_wt:\",\n",
    "                dice_wt,\n",
    "                \", dice_et:\",\n",
    "                dice_et,\n",
    "                \", Dice_Avg:\",\n",
    "                val_avg_acc,\n",
    "                \", time {:.2f}s\".format(time.time() - epoch_time),\n",
    "            )\n",
    "            dices_tc.append(dice_tc)\n",
    "            dices_wt.append(dice_wt)\n",
    "            dices_et.append(dice_et)\n",
    "            dices_avg.append(val_avg_acc)\n",
    "            if val_avg_acc > val_acc_max:\n",
    "                print(\"new best ({:.6f} --> {:.6f}). \".format(val_acc_max, val_avg_acc))\n",
    "                val_acc_max = val_avg_acc\n",
    "                save_checkpoint(\n",
    "                    model,\n",
    "                    epoch,\n",
    "                    best_acc=val_acc_max,\n",
    "                    dir_add = './'\n",
    "                )\n",
    "            scheduler.step()\n",
    "    print(\"Training Finished !, Best Accuracy: \", val_acc_max)\n",
    "    return (\n",
    "        val_acc_max,\n",
    "        dices_tc,\n",
    "        dices_wt,\n",
    "        dices_et,\n",
    "        dices_avg,\n",
    "        loss_epochs,\n",
    "        trains_epoch,\n",
    "    )"
   ]
  },
  {
   "cell_type": "markdown",
   "metadata": {
    "id": "GqEzVFM2Fcbt"
   },
   "source": [
    "## Execute training"
   ]
  },
  {
   "cell_type": "code",
   "execution_count": 15,
   "metadata": {
    "colab": {
     "base_uri": "https://localhost:8080/"
    },
    "id": "lLJIjEnvFcbt",
    "outputId": "70bec748-e3fd-4425-8d45-26d494dc08e1",
    "scrolled": true
   },
   "outputs": [
    {
     "name": "stderr",
     "output_type": "stream",
     "text": [
      "  0%|                                                                                           | 0/257 [00:00<?, ?it/s]"
     ]
    },
    {
     "name": "stdout",
     "output_type": "stream",
     "text": [
      "Wed Dec  6 14:40:27 2023 Epoch: 0\n"
     ]
    },
    {
     "name": "stderr",
     "output_type": "stream",
     "text": [
      "100%|█████████████████████████████████████████████████████████████████████████████████| 257/257 [01:07<00:00,  3.78it/s]\n",
      "  0%|                                                                                            | 0/37 [00:00<?, ?it/s]"
     ]
    },
    {
     "name": "stdout",
     "output_type": "stream",
     "text": [
      "Final training  0/299 loss: 0.9428 time 67.95s\n"
     ]
    },
    {
     "name": "stderr",
     "output_type": "stream",
     "text": [
      "100%|███████████████████████████████████████████████████████████████████████████████████| 37/37 [00:41<00:00,  1.11s/it]\n",
      "  0%|                                                                                           | 0/257 [00:00<?, ?it/s]"
     ]
    },
    {
     "name": "stdout",
     "output_type": "stream",
     "text": [
      "Final validation stats 0/299 , dice_tc: 0.025745194 , dice_wt: 0.30957958 , dice_et: 0.092023335 , Dice_Avg: 0.14244936 , time 41.06s\n",
      "new best (0.000000 --> 0.142449). \n",
      "Saving checkpoint ./model.pt\n",
      "Wed Dec  6 14:42:16 2023 Epoch: 1\n"
     ]
    },
    {
     "name": "stderr",
     "output_type": "stream",
     "text": [
      "100%|█████████████████████████████████████████████████████████████████████████████████| 257/257 [01:04<00:00,  3.98it/s]\n",
      "  0%|                                                                                           | 0/257 [00:00<?, ?it/s]"
     ]
    },
    {
     "name": "stdout",
     "output_type": "stream",
     "text": [
      "Final training  1/299 loss: 0.9186 time 64.59s\n",
      "Wed Dec  6 14:43:20 2023 Epoch: 2\n"
     ]
    },
    {
     "name": "stderr",
     "output_type": "stream",
     "text": [
      "100%|█████████████████████████████████████████████████████████████████████████████████| 257/257 [01:05<00:00,  3.89it/s]\n",
      "  0%|                                                                                           | 0/257 [00:00<?, ?it/s]"
     ]
    },
    {
     "name": "stdout",
     "output_type": "stream",
     "text": [
      "Final training  2/299 loss: 0.8908 time 65.99s\n",
      "Wed Dec  6 14:44:26 2023 Epoch: 3\n"
     ]
    },
    {
     "name": "stderr",
     "output_type": "stream",
     "text": [
      "100%|█████████████████████████████████████████████████████████████████████████████████| 257/257 [01:04<00:00,  3.96it/s]\n",
      "  0%|                                                                                           | 0/257 [00:00<?, ?it/s]"
     ]
    },
    {
     "name": "stdout",
     "output_type": "stream",
     "text": [
      "Final training  3/299 loss: 0.8418 time 64.89s\n",
      "Wed Dec  6 14:45:31 2023 Epoch: 4\n"
     ]
    },
    {
     "name": "stderr",
     "output_type": "stream",
     "text": [
      "100%|█████████████████████████████████████████████████████████████████████████████████| 257/257 [01:02<00:00,  4.14it/s]\n",
      "  0%|                                                                                           | 0/257 [00:00<?, ?it/s]"
     ]
    },
    {
     "name": "stdout",
     "output_type": "stream",
     "text": [
      "Final training  4/299 loss: 0.7935 time 62.05s\n",
      "Wed Dec  6 14:46:33 2023 Epoch: 5\n"
     ]
    },
    {
     "name": "stderr",
     "output_type": "stream",
     "text": [
      "100%|█████████████████████████████████████████████████████████████████████████████████| 257/257 [01:04<00:00,  3.98it/s]\n",
      "  0%|                                                                                           | 0/257 [00:00<?, ?it/s]"
     ]
    },
    {
     "name": "stdout",
     "output_type": "stream",
     "text": [
      "Final training  5/299 loss: 0.7343 time 64.65s\n",
      "Wed Dec  6 14:47:38 2023 Epoch: 6\n"
     ]
    },
    {
     "name": "stderr",
     "output_type": "stream",
     "text": [
      "100%|█████████████████████████████████████████████████████████████████████████████████| 257/257 [01:02<00:00,  4.09it/s]\n",
      "  0%|                                                                                           | 0/257 [00:00<?, ?it/s]"
     ]
    },
    {
     "name": "stdout",
     "output_type": "stream",
     "text": [
      "Final training  6/299 loss: 0.7108 time 62.84s\n",
      "Wed Dec  6 14:48:41 2023 Epoch: 7\n"
     ]
    },
    {
     "name": "stderr",
     "output_type": "stream",
     "text": [
      "100%|█████████████████████████████████████████████████████████████████████████████████| 257/257 [01:03<00:00,  4.03it/s]\n",
      "  0%|                                                                                           | 0/257 [00:00<?, ?it/s]"
     ]
    },
    {
     "name": "stdout",
     "output_type": "stream",
     "text": [
      "Final training  7/299 loss: 0.6396 time 63.79s\n",
      "Wed Dec  6 14:49:44 2023 Epoch: 8\n"
     ]
    },
    {
     "name": "stderr",
     "output_type": "stream",
     "text": [
      "100%|█████████████████████████████████████████████████████████████████████████████████| 257/257 [01:07<00:00,  3.79it/s]\n",
      "  0%|                                                                                           | 0/257 [00:00<?, ?it/s]"
     ]
    },
    {
     "name": "stdout",
     "output_type": "stream",
     "text": [
      "Final training  8/299 loss: 0.6366 time 67.81s\n",
      "Wed Dec  6 14:50:52 2023 Epoch: 9\n"
     ]
    },
    {
     "name": "stderr",
     "output_type": "stream",
     "text": [
      "100%|█████████████████████████████████████████████████████████████████████████████████| 257/257 [01:04<00:00,  4.00it/s]\n",
      "  0%|                                                                                            | 0/37 [00:00<?, ?it/s]"
     ]
    },
    {
     "name": "stdout",
     "output_type": "stream",
     "text": [
      "Final training  9/299 loss: 0.6095 time 64.18s\n"
     ]
    },
    {
     "name": "stderr",
     "output_type": "stream",
     "text": [
      "100%|███████████████████████████████████████████████████████████████████████████████████| 37/37 [00:41<00:00,  1.13s/it]\n",
      "  0%|                                                                                           | 0/257 [00:00<?, ?it/s]"
     ]
    },
    {
     "name": "stdout",
     "output_type": "stream",
     "text": [
      "Final validation stats 9/299 , dice_tc: 0.45880982 , dice_wt: 0.7466995 , dice_et: 0.349871 , Dice_Avg: 0.5184601 , time 41.84s\n",
      "new best (0.142449 --> 0.518460). \n",
      "Saving checkpoint ./model.pt\n",
      "Wed Dec  6 14:52:38 2023 Epoch: 10\n"
     ]
    },
    {
     "name": "stderr",
     "output_type": "stream",
     "text": [
      "100%|█████████████████████████████████████████████████████████████████████████████████| 257/257 [01:04<00:00,  3.97it/s]\n",
      "  0%|                                                                                           | 0/257 [00:00<?, ?it/s]"
     ]
    },
    {
     "name": "stdout",
     "output_type": "stream",
     "text": [
      "Final training  10/299 loss: 0.5929 time 64.77s\n",
      "Wed Dec  6 14:53:43 2023 Epoch: 11\n"
     ]
    },
    {
     "name": "stderr",
     "output_type": "stream",
     "text": [
      "100%|█████████████████████████████████████████████████████████████████████████████████| 257/257 [01:02<00:00,  4.14it/s]\n",
      "  0%|                                                                                           | 0/257 [00:00<?, ?it/s]"
     ]
    },
    {
     "name": "stdout",
     "output_type": "stream",
     "text": [
      "Final training  11/299 loss: 0.5662 time 62.04s\n",
      "Wed Dec  6 14:54:45 2023 Epoch: 12\n"
     ]
    },
    {
     "name": "stderr",
     "output_type": "stream",
     "text": [
      "100%|█████████████████████████████████████████████████████████████████████████████████| 257/257 [01:01<00:00,  4.15it/s]\n",
      "  0%|                                                                                           | 0/257 [00:00<?, ?it/s]"
     ]
    },
    {
     "name": "stdout",
     "output_type": "stream",
     "text": [
      "Final training  12/299 loss: 0.5797 time 61.96s\n",
      "Wed Dec  6 14:55:47 2023 Epoch: 13\n"
     ]
    },
    {
     "name": "stderr",
     "output_type": "stream",
     "text": [
      "100%|█████████████████████████████████████████████████████████████████████████████████| 257/257 [01:01<00:00,  4.18it/s]\n",
      "  0%|                                                                                           | 0/257 [00:00<?, ?it/s]"
     ]
    },
    {
     "name": "stdout",
     "output_type": "stream",
     "text": [
      "Final training  13/299 loss: 0.5225 time 61.44s\n",
      "Wed Dec  6 14:56:49 2023 Epoch: 14\n"
     ]
    },
    {
     "name": "stderr",
     "output_type": "stream",
     "text": [
      "100%|█████████████████████████████████████████████████████████████████████████████████| 257/257 [01:02<00:00,  4.14it/s]\n",
      "  0%|                                                                                           | 0/257 [00:00<?, ?it/s]"
     ]
    },
    {
     "name": "stdout",
     "output_type": "stream",
     "text": [
      "Final training  14/299 loss: 0.5444 time 62.03s\n",
      "Wed Dec  6 14:57:51 2023 Epoch: 15\n"
     ]
    },
    {
     "name": "stderr",
     "output_type": "stream",
     "text": [
      "100%|█████████████████████████████████████████████████████████████████████████████████| 257/257 [01:01<00:00,  4.18it/s]\n",
      "  0%|                                                                                           | 0/257 [00:00<?, ?it/s]"
     ]
    },
    {
     "name": "stdout",
     "output_type": "stream",
     "text": [
      "Final training  15/299 loss: 0.5365 time 61.51s\n",
      "Wed Dec  6 14:58:52 2023 Epoch: 16\n"
     ]
    },
    {
     "name": "stderr",
     "output_type": "stream",
     "text": [
      "100%|█████████████████████████████████████████████████████████████████████████████████| 257/257 [01:01<00:00,  4.19it/s]\n",
      "  0%|                                                                                           | 0/257 [00:00<?, ?it/s]"
     ]
    },
    {
     "name": "stdout",
     "output_type": "stream",
     "text": [
      "Final training  16/299 loss: 0.5314 time 61.40s\n",
      "Wed Dec  6 14:59:53 2023 Epoch: 17\n"
     ]
    },
    {
     "name": "stderr",
     "output_type": "stream",
     "text": [
      "100%|█████████████████████████████████████████████████████████████████████████████████| 257/257 [01:01<00:00,  4.19it/s]\n",
      "  0%|                                                                                           | 0/257 [00:00<?, ?it/s]"
     ]
    },
    {
     "name": "stdout",
     "output_type": "stream",
     "text": [
      "Final training  17/299 loss: 0.5128 time 61.37s\n",
      "Wed Dec  6 15:00:55 2023 Epoch: 18\n"
     ]
    },
    {
     "name": "stderr",
     "output_type": "stream",
     "text": [
      "100%|█████████████████████████████████████████████████████████████████████████████████| 257/257 [01:04<00:00,  3.98it/s]\n",
      "  0%|                                                                                           | 0/257 [00:00<?, ?it/s]"
     ]
    },
    {
     "name": "stdout",
     "output_type": "stream",
     "text": [
      "Final training  18/299 loss: 0.5459 time 64.51s\n",
      "Wed Dec  6 15:01:59 2023 Epoch: 19\n"
     ]
    },
    {
     "name": "stderr",
     "output_type": "stream",
     "text": [
      "100%|█████████████████████████████████████████████████████████████████████████████████| 257/257 [01:01<00:00,  4.16it/s]\n",
      "  0%|                                                                                            | 0/37 [00:00<?, ?it/s]"
     ]
    },
    {
     "name": "stdout",
     "output_type": "stream",
     "text": [
      "Final training  19/299 loss: 0.5237 time 61.71s\n"
     ]
    },
    {
     "name": "stderr",
     "output_type": "stream",
     "text": [
      "100%|███████████████████████████████████████████████████████████████████████████████████| 37/37 [00:41<00:00,  1.11s/it]\n",
      "  0%|                                                                                           | 0/257 [00:00<?, ?it/s]"
     ]
    },
    {
     "name": "stdout",
     "output_type": "stream",
     "text": [
      "Final validation stats 19/299 , dice_tc: 0.633013 , dice_wt: 0.71963805 , dice_et: 0.5017657 , Dice_Avg: 0.61813897 , time 41.07s\n",
      "new best (0.518460 --> 0.618139). \n",
      "Saving checkpoint ./model.pt\n",
      "Wed Dec  6 15:03:42 2023 Epoch: 20\n"
     ]
    },
    {
     "name": "stderr",
     "output_type": "stream",
     "text": [
      "100%|█████████████████████████████████████████████████████████████████████████████████| 257/257 [01:03<00:00,  4.07it/s]\n",
      "  0%|                                                                                           | 0/257 [00:00<?, ?it/s]"
     ]
    },
    {
     "name": "stdout",
     "output_type": "stream",
     "text": [
      "Final training  20/299 loss: 0.5210 time 63.08s\n",
      "Wed Dec  6 15:04:45 2023 Epoch: 21\n"
     ]
    },
    {
     "name": "stderr",
     "output_type": "stream",
     "text": [
      "100%|█████████████████████████████████████████████████████████████████████████████████| 257/257 [01:02<00:00,  4.10it/s]\n",
      "  0%|                                                                                           | 0/257 [00:00<?, ?it/s]"
     ]
    },
    {
     "name": "stdout",
     "output_type": "stream",
     "text": [
      "Final training  21/299 loss: 0.5175 time 62.62s\n",
      "Wed Dec  6 15:05:48 2023 Epoch: 22\n"
     ]
    },
    {
     "name": "stderr",
     "output_type": "stream",
     "text": [
      "100%|█████████████████████████████████████████████████████████████████████████████████| 257/257 [01:02<00:00,  4.11it/s]\n",
      "  0%|                                                                                           | 0/257 [00:00<?, ?it/s]"
     ]
    },
    {
     "name": "stdout",
     "output_type": "stream",
     "text": [
      "Final training  22/299 loss: 0.5286 time 62.54s\n",
      "Wed Dec  6 15:06:50 2023 Epoch: 23\n"
     ]
    },
    {
     "name": "stderr",
     "output_type": "stream",
     "text": [
      "100%|█████████████████████████████████████████████████████████████████████████████████| 257/257 [01:01<00:00,  4.15it/s]\n",
      "  0%|                                                                                           | 0/257 [00:00<?, ?it/s]"
     ]
    },
    {
     "name": "stdout",
     "output_type": "stream",
     "text": [
      "Final training  23/299 loss: 0.4963 time 61.91s\n",
      "Wed Dec  6 15:07:52 2023 Epoch: 24\n"
     ]
    },
    {
     "name": "stderr",
     "output_type": "stream",
     "text": [
      "100%|█████████████████████████████████████████████████████████████████████████████████| 257/257 [01:02<00:00,  4.09it/s]\n",
      "  0%|                                                                                           | 0/257 [00:00<?, ?it/s]"
     ]
    },
    {
     "name": "stdout",
     "output_type": "stream",
     "text": [
      "Final training  24/299 loss: 0.5373 time 62.78s\n",
      "Wed Dec  6 15:08:55 2023 Epoch: 25\n"
     ]
    },
    {
     "name": "stderr",
     "output_type": "stream",
     "text": [
      "100%|█████████████████████████████████████████████████████████████████████████████████| 257/257 [01:03<00:00,  4.06it/s]\n",
      "  0%|                                                                                           | 0/257 [00:00<?, ?it/s]"
     ]
    },
    {
     "name": "stdout",
     "output_type": "stream",
     "text": [
      "Final training  25/299 loss: 0.5350 time 63.38s\n",
      "Wed Dec  6 15:09:58 2023 Epoch: 26\n"
     ]
    },
    {
     "name": "stderr",
     "output_type": "stream",
     "text": [
      "100%|█████████████████████████████████████████████████████████████████████████████████| 257/257 [01:01<00:00,  4.16it/s]\n",
      "  0%|                                                                                           | 0/257 [00:00<?, ?it/s]"
     ]
    },
    {
     "name": "stdout",
     "output_type": "stream",
     "text": [
      "Final training  26/299 loss: 0.5001 time 61.73s\n",
      "Wed Dec  6 15:11:00 2023 Epoch: 27\n"
     ]
    },
    {
     "name": "stderr",
     "output_type": "stream",
     "text": [
      "100%|█████████████████████████████████████████████████████████████████████████████████| 257/257 [01:01<00:00,  4.17it/s]\n",
      "  0%|                                                                                           | 0/257 [00:00<?, ?it/s]"
     ]
    },
    {
     "name": "stdout",
     "output_type": "stream",
     "text": [
      "Final training  27/299 loss: 0.5156 time 61.63s\n",
      "Wed Dec  6 15:12:02 2023 Epoch: 28\n"
     ]
    },
    {
     "name": "stderr",
     "output_type": "stream",
     "text": [
      "100%|█████████████████████████████████████████████████████████████████████████████████| 257/257 [01:01<00:00,  4.15it/s]\n",
      "  0%|                                                                                           | 0/257 [00:00<?, ?it/s]"
     ]
    },
    {
     "name": "stdout",
     "output_type": "stream",
     "text": [
      "Final training  28/299 loss: 0.5377 time 61.98s\n",
      "Wed Dec  6 15:13:04 2023 Epoch: 29\n"
     ]
    },
    {
     "name": "stderr",
     "output_type": "stream",
     "text": [
      "100%|█████████████████████████████████████████████████████████████████████████████████| 257/257 [01:02<00:00,  4.13it/s]\n",
      "  0%|                                                                                            | 0/37 [00:00<?, ?it/s]"
     ]
    },
    {
     "name": "stdout",
     "output_type": "stream",
     "text": [
      "Final training  29/299 loss: 0.5129 time 62.29s\n"
     ]
    },
    {
     "name": "stderr",
     "output_type": "stream",
     "text": [
      "100%|███████████████████████████████████████████████████████████████████████████████████| 37/37 [00:40<00:00,  1.09s/it]\n",
      "  0%|                                                                                           | 0/257 [00:00<?, ?it/s]"
     ]
    },
    {
     "name": "stdout",
     "output_type": "stream",
     "text": [
      "Final validation stats 29/299 , dice_tc: 0.65526664 , dice_wt: 0.70935154 , dice_et: 0.5430814 , Dice_Avg: 0.63589984 , time 40.37s\n",
      "new best (0.618139 --> 0.635900). \n",
      "Saving checkpoint ./model.pt\n",
      "Wed Dec  6 15:14:47 2023 Epoch: 30\n"
     ]
    },
    {
     "name": "stderr",
     "output_type": "stream",
     "text": [
      "100%|█████████████████████████████████████████████████████████████████████████████████| 257/257 [01:03<00:00,  4.03it/s]\n",
      "  0%|                                                                                           | 0/257 [00:00<?, ?it/s]"
     ]
    },
    {
     "name": "stdout",
     "output_type": "stream",
     "text": [
      "Final training  30/299 loss: 0.5021 time 63.71s\n",
      "Wed Dec  6 15:15:50 2023 Epoch: 31\n"
     ]
    },
    {
     "name": "stderr",
     "output_type": "stream",
     "text": [
      "100%|█████████████████████████████████████████████████████████████████████████████████| 257/257 [01:02<00:00,  4.11it/s]\n",
      "  0%|                                                                                           | 0/257 [00:00<?, ?it/s]"
     ]
    },
    {
     "name": "stdout",
     "output_type": "stream",
     "text": [
      "Final training  31/299 loss: 0.5039 time 62.48s\n",
      "Wed Dec  6 15:16:53 2023 Epoch: 32\n"
     ]
    },
    {
     "name": "stderr",
     "output_type": "stream",
     "text": [
      "100%|█████████████████████████████████████████████████████████████████████████████████| 257/257 [01:01<00:00,  4.16it/s]\n",
      "  0%|                                                                                           | 0/257 [00:00<?, ?it/s]"
     ]
    },
    {
     "name": "stdout",
     "output_type": "stream",
     "text": [
      "Final training  32/299 loss: 0.4994 time 61.83s\n",
      "Wed Dec  6 15:17:55 2023 Epoch: 33\n"
     ]
    },
    {
     "name": "stderr",
     "output_type": "stream",
     "text": [
      "100%|█████████████████████████████████████████████████████████████████████████████████| 257/257 [01:02<00:00,  4.11it/s]\n",
      "  0%|                                                                                           | 0/257 [00:00<?, ?it/s]"
     ]
    },
    {
     "name": "stdout",
     "output_type": "stream",
     "text": [
      "Final training  33/299 loss: 0.5111 time 62.47s\n",
      "Wed Dec  6 15:18:57 2023 Epoch: 34\n"
     ]
    },
    {
     "name": "stderr",
     "output_type": "stream",
     "text": [
      "100%|█████████████████████████████████████████████████████████████████████████████████| 257/257 [01:00<00:00,  4.23it/s]\n",
      "  0%|                                                                                           | 0/257 [00:00<?, ?it/s]"
     ]
    },
    {
     "name": "stdout",
     "output_type": "stream",
     "text": [
      "Final training  34/299 loss: 0.4995 time 60.81s\n",
      "Wed Dec  6 15:19:58 2023 Epoch: 35\n"
     ]
    },
    {
     "name": "stderr",
     "output_type": "stream",
     "text": [
      "100%|█████████████████████████████████████████████████████████████████████████████████| 257/257 [01:01<00:00,  4.16it/s]\n",
      "  0%|                                                                                           | 0/257 [00:00<?, ?it/s]"
     ]
    },
    {
     "name": "stdout",
     "output_type": "stream",
     "text": [
      "Final training  35/299 loss: 0.5119 time 61.75s\n",
      "Wed Dec  6 15:21:00 2023 Epoch: 36\n"
     ]
    },
    {
     "name": "stderr",
     "output_type": "stream",
     "text": [
      "100%|█████████████████████████████████████████████████████████████████████████████████| 257/257 [01:01<00:00,  4.17it/s]\n",
      "  0%|                                                                                           | 0/257 [00:00<?, ?it/s]"
     ]
    },
    {
     "name": "stdout",
     "output_type": "stream",
     "text": [
      "Final training  36/299 loss: 0.4847 time 61.64s\n",
      "Wed Dec  6 15:22:01 2023 Epoch: 37\n"
     ]
    },
    {
     "name": "stderr",
     "output_type": "stream",
     "text": [
      "100%|█████████████████████████████████████████████████████████████████████████████████| 257/257 [01:01<00:00,  4.15it/s]\n",
      "  0%|                                                                                           | 0/257 [00:00<?, ?it/s]"
     ]
    },
    {
     "name": "stdout",
     "output_type": "stream",
     "text": [
      "Final training  37/299 loss: 0.4986 time 61.95s\n",
      "Wed Dec  6 15:23:03 2023 Epoch: 38\n"
     ]
    },
    {
     "name": "stderr",
     "output_type": "stream",
     "text": [
      "100%|█████████████████████████████████████████████████████████████████████████████████| 257/257 [01:01<00:00,  4.16it/s]\n",
      "  0%|                                                                                           | 0/257 [00:00<?, ?it/s]"
     ]
    },
    {
     "name": "stdout",
     "output_type": "stream",
     "text": [
      "Final training  38/299 loss: 0.4639 time 61.83s\n",
      "Wed Dec  6 15:24:05 2023 Epoch: 39\n"
     ]
    },
    {
     "name": "stderr",
     "output_type": "stream",
     "text": [
      "100%|█████████████████████████████████████████████████████████████████████████████████| 257/257 [01:01<00:00,  4.18it/s]\n",
      "  0%|                                                                                            | 0/37 [00:00<?, ?it/s]"
     ]
    },
    {
     "name": "stdout",
     "output_type": "stream",
     "text": [
      "Final training  39/299 loss: 0.4484 time 61.42s\n"
     ]
    },
    {
     "name": "stderr",
     "output_type": "stream",
     "text": [
      "100%|███████████████████████████████████████████████████████████████████████████████████| 37/37 [00:39<00:00,  1.08s/it]\n",
      "  0%|                                                                                           | 0/257 [00:00<?, ?it/s]"
     ]
    },
    {
     "name": "stdout",
     "output_type": "stream",
     "text": [
      "Final validation stats 39/299 , dice_tc: 0.58844274 , dice_wt: 0.76519805 , dice_et: 0.4665603 , Dice_Avg: 0.60673374 , time 39.95s\n",
      "Wed Dec  6 15:25:46 2023 Epoch: 40\n"
     ]
    },
    {
     "name": "stderr",
     "output_type": "stream",
     "text": [
      "100%|█████████████████████████████████████████████████████████████████████████████████| 257/257 [01:03<00:00,  4.04it/s]\n",
      "  0%|                                                                                           | 0/257 [00:00<?, ?it/s]"
     ]
    },
    {
     "name": "stdout",
     "output_type": "stream",
     "text": [
      "Final training  40/299 loss: 0.4704 time 63.56s\n",
      "Wed Dec  6 15:26:50 2023 Epoch: 41\n"
     ]
    },
    {
     "name": "stderr",
     "output_type": "stream",
     "text": [
      "100%|█████████████████████████████████████████████████████████████████████████████████| 257/257 [01:02<00:00,  4.14it/s]\n",
      "  0%|                                                                                           | 0/257 [00:00<?, ?it/s]"
     ]
    },
    {
     "name": "stdout",
     "output_type": "stream",
     "text": [
      "Final training  41/299 loss: 0.4557 time 62.07s\n",
      "Wed Dec  6 15:27:52 2023 Epoch: 42\n"
     ]
    },
    {
     "name": "stderr",
     "output_type": "stream",
     "text": [
      "100%|█████████████████████████████████████████████████████████████████████████████████| 257/257 [01:00<00:00,  4.24it/s]\n",
      "  0%|                                                                                           | 0/257 [00:00<?, ?it/s]"
     ]
    },
    {
     "name": "stdout",
     "output_type": "stream",
     "text": [
      "Final training  42/299 loss: 0.4573 time 60.55s\n",
      "Wed Dec  6 15:28:53 2023 Epoch: 43\n"
     ]
    },
    {
     "name": "stderr",
     "output_type": "stream",
     "text": [
      "100%|█████████████████████████████████████████████████████████████████████████████████| 257/257 [01:01<00:00,  4.19it/s]\n",
      "  0%|                                                                                           | 0/257 [00:00<?, ?it/s]"
     ]
    },
    {
     "name": "stdout",
     "output_type": "stream",
     "text": [
      "Final training  43/299 loss: 0.4544 time 61.30s\n",
      "Wed Dec  6 15:29:54 2023 Epoch: 44\n"
     ]
    },
    {
     "name": "stderr",
     "output_type": "stream",
     "text": [
      "100%|█████████████████████████████████████████████████████████████████████████████████| 257/257 [01:02<00:00,  4.12it/s]\n",
      "  0%|                                                                                           | 0/257 [00:00<?, ?it/s]"
     ]
    },
    {
     "name": "stdout",
     "output_type": "stream",
     "text": [
      "Final training  44/299 loss: 0.4565 time 62.45s\n",
      "Wed Dec  6 15:30:56 2023 Epoch: 45\n"
     ]
    },
    {
     "name": "stderr",
     "output_type": "stream",
     "text": [
      "100%|█████████████████████████████████████████████████████████████████████████████████| 257/257 [01:01<00:00,  4.21it/s]\n",
      "  0%|                                                                                           | 0/257 [00:00<?, ?it/s]"
     ]
    },
    {
     "name": "stdout",
     "output_type": "stream",
     "text": [
      "Final training  45/299 loss: 0.4605 time 61.04s\n",
      "Wed Dec  6 15:31:57 2023 Epoch: 46\n"
     ]
    },
    {
     "name": "stderr",
     "output_type": "stream",
     "text": [
      "100%|█████████████████████████████████████████████████████████████████████████████████| 257/257 [01:01<00:00,  4.19it/s]\n",
      "  0%|                                                                                           | 0/257 [00:00<?, ?it/s]"
     ]
    },
    {
     "name": "stdout",
     "output_type": "stream",
     "text": [
      "Final training  46/299 loss: 0.4486 time 61.35s\n",
      "Wed Dec  6 15:32:59 2023 Epoch: 47\n"
     ]
    },
    {
     "name": "stderr",
     "output_type": "stream",
     "text": [
      "100%|█████████████████████████████████████████████████████████████████████████████████| 257/257 [01:01<00:00,  4.19it/s]\n",
      "  0%|                                                                                           | 0/257 [00:00<?, ?it/s]"
     ]
    },
    {
     "name": "stdout",
     "output_type": "stream",
     "text": [
      "Final training  47/299 loss: 0.4427 time 61.30s\n",
      "Wed Dec  6 15:34:00 2023 Epoch: 48\n"
     ]
    },
    {
     "name": "stderr",
     "output_type": "stream",
     "text": [
      "100%|█████████████████████████████████████████████████████████████████████████████████| 257/257 [01:01<00:00,  4.17it/s]\n",
      "  0%|                                                                                           | 0/257 [00:00<?, ?it/s]"
     ]
    },
    {
     "name": "stdout",
     "output_type": "stream",
     "text": [
      "Final training  48/299 loss: 0.4446 time 61.65s\n",
      "Wed Dec  6 15:35:02 2023 Epoch: 49\n"
     ]
    },
    {
     "name": "stderr",
     "output_type": "stream",
     "text": [
      "100%|█████████████████████████████████████████████████████████████████████████████████| 257/257 [01:01<00:00,  4.19it/s]\n",
      "  0%|                                                                                            | 0/37 [00:00<?, ?it/s]"
     ]
    },
    {
     "name": "stdout",
     "output_type": "stream",
     "text": [
      "Final training  49/299 loss: 0.4415 time 61.38s\n"
     ]
    },
    {
     "name": "stderr",
     "output_type": "stream",
     "text": [
      "100%|███████████████████████████████████████████████████████████████████████████████████| 37/37 [00:40<00:00,  1.11s/it]\n",
      "  0%|                                                                                           | 0/257 [00:00<?, ?it/s]"
     ]
    },
    {
     "name": "stdout",
     "output_type": "stream",
     "text": [
      "Final validation stats 49/299 , dice_tc: 0.6182027 , dice_wt: 0.7166054 , dice_et: 0.49148738 , Dice_Avg: 0.6087652 , time 40.96s\n",
      "Wed Dec  6 15:36:44 2023 Epoch: 50\n"
     ]
    },
    {
     "name": "stderr",
     "output_type": "stream",
     "text": [
      "100%|█████████████████████████████████████████████████████████████████████████████████| 257/257 [01:02<00:00,  4.09it/s]\n",
      "  0%|                                                                                           | 0/257 [00:00<?, ?it/s]"
     ]
    },
    {
     "name": "stdout",
     "output_type": "stream",
     "text": [
      "Final training  50/299 loss: 0.4500 time 62.82s\n",
      "Wed Dec  6 15:37:47 2023 Epoch: 51\n"
     ]
    },
    {
     "name": "stderr",
     "output_type": "stream",
     "text": [
      "100%|█████████████████████████████████████████████████████████████████████████████████| 257/257 [01:01<00:00,  4.15it/s]\n",
      "  0%|                                                                                           | 0/257 [00:00<?, ?it/s]"
     ]
    },
    {
     "name": "stdout",
     "output_type": "stream",
     "text": [
      "Final training  51/299 loss: 0.4518 time 61.91s\n",
      "Wed Dec  6 15:38:49 2023 Epoch: 52\n"
     ]
    },
    {
     "name": "stderr",
     "output_type": "stream",
     "text": [
      "100%|█████████████████████████████████████████████████████████████████████████████████| 257/257 [01:03<00:00,  4.07it/s]\n",
      "  0%|                                                                                           | 0/257 [00:00<?, ?it/s]"
     ]
    },
    {
     "name": "stdout",
     "output_type": "stream",
     "text": [
      "Final training  52/299 loss: 0.4578 time 63.10s\n",
      "Wed Dec  6 15:39:52 2023 Epoch: 53\n"
     ]
    },
    {
     "name": "stderr",
     "output_type": "stream",
     "text": [
      "100%|█████████████████████████████████████████████████████████████████████████████████| 257/257 [01:02<00:00,  4.13it/s]\n",
      "  0%|                                                                                           | 0/257 [00:00<?, ?it/s]"
     ]
    },
    {
     "name": "stdout",
     "output_type": "stream",
     "text": [
      "Final training  53/299 loss: 0.4455 time 62.20s\n",
      "Wed Dec  6 15:40:54 2023 Epoch: 54\n"
     ]
    },
    {
     "name": "stderr",
     "output_type": "stream",
     "text": [
      "100%|█████████████████████████████████████████████████████████████████████████████████| 257/257 [01:02<00:00,  4.13it/s]\n",
      "  0%|                                                                                           | 0/257 [00:00<?, ?it/s]"
     ]
    },
    {
     "name": "stdout",
     "output_type": "stream",
     "text": [
      "Final training  54/299 loss: 0.4482 time 62.22s\n",
      "Wed Dec  6 15:41:56 2023 Epoch: 55\n"
     ]
    },
    {
     "name": "stderr",
     "output_type": "stream",
     "text": [
      "100%|█████████████████████████████████████████████████████████████████████████████████| 257/257 [01:02<00:00,  4.13it/s]\n",
      "  0%|                                                                                           | 0/257 [00:00<?, ?it/s]"
     ]
    },
    {
     "name": "stdout",
     "output_type": "stream",
     "text": [
      "Final training  55/299 loss: 0.4511 time 62.21s\n",
      "Wed Dec  6 15:42:58 2023 Epoch: 56\n"
     ]
    },
    {
     "name": "stderr",
     "output_type": "stream",
     "text": [
      "100%|█████████████████████████████████████████████████████████████████████████████████| 257/257 [01:01<00:00,  4.18it/s]\n",
      "  0%|                                                                                           | 0/257 [00:00<?, ?it/s]"
     ]
    },
    {
     "name": "stdout",
     "output_type": "stream",
     "text": [
      "Final training  56/299 loss: 0.4392 time 61.56s\n",
      "Wed Dec  6 15:44:00 2023 Epoch: 57\n"
     ]
    },
    {
     "name": "stderr",
     "output_type": "stream",
     "text": [
      "100%|█████████████████████████████████████████████████████████████████████████████████| 257/257 [01:01<00:00,  4.20it/s]\n",
      "  0%|                                                                                           | 0/257 [00:00<?, ?it/s]"
     ]
    },
    {
     "name": "stdout",
     "output_type": "stream",
     "text": [
      "Final training  57/299 loss: 0.4309 time 61.26s\n",
      "Wed Dec  6 15:45:01 2023 Epoch: 58\n"
     ]
    },
    {
     "name": "stderr",
     "output_type": "stream",
     "text": [
      "100%|█████████████████████████████████████████████████████████████████████████████████| 257/257 [01:01<00:00,  4.17it/s]\n",
      "  0%|                                                                                           | 0/257 [00:00<?, ?it/s]"
     ]
    },
    {
     "name": "stdout",
     "output_type": "stream",
     "text": [
      "Final training  58/299 loss: 0.4437 time 61.61s\n",
      "Wed Dec  6 15:46:03 2023 Epoch: 59\n"
     ]
    },
    {
     "name": "stderr",
     "output_type": "stream",
     "text": [
      "100%|█████████████████████████████████████████████████████████████████████████████████| 257/257 [01:01<00:00,  4.16it/s]\n",
      "  0%|                                                                                            | 0/37 [00:00<?, ?it/s]"
     ]
    },
    {
     "name": "stdout",
     "output_type": "stream",
     "text": [
      "Final training  59/299 loss: 0.4288 time 61.84s\n"
     ]
    },
    {
     "name": "stderr",
     "output_type": "stream",
     "text": [
      "100%|███████████████████████████████████████████████████████████████████████████████████| 37/37 [00:40<00:00,  1.08s/it]\n",
      "  0%|                                                                                           | 0/257 [00:00<?, ?it/s]"
     ]
    },
    {
     "name": "stdout",
     "output_type": "stream",
     "text": [
      "Final validation stats 59/299 , dice_tc: 0.62942475 , dice_wt: 0.7145851 , dice_et: 0.5132332 , Dice_Avg: 0.619081 , time 40.00s\n",
      "Wed Dec  6 15:47:45 2023 Epoch: 60\n"
     ]
    },
    {
     "name": "stderr",
     "output_type": "stream",
     "text": [
      "100%|█████████████████████████████████████████████████████████████████████████████████| 257/257 [01:02<00:00,  4.10it/s]\n",
      "  0%|                                                                                           | 0/257 [00:00<?, ?it/s]"
     ]
    },
    {
     "name": "stdout",
     "output_type": "stream",
     "text": [
      "Final training  60/299 loss: 0.4281 time 62.73s\n",
      "Wed Dec  6 15:48:47 2023 Epoch: 61\n"
     ]
    },
    {
     "name": "stderr",
     "output_type": "stream",
     "text": [
      "100%|█████████████████████████████████████████████████████████████████████████████████| 257/257 [01:02<00:00,  4.12it/s]\n",
      "  0%|                                                                                           | 0/257 [00:00<?, ?it/s]"
     ]
    },
    {
     "name": "stdout",
     "output_type": "stream",
     "text": [
      "Final training  61/299 loss: 0.4237 time 62.44s\n",
      "Wed Dec  6 15:49:50 2023 Epoch: 62\n"
     ]
    },
    {
     "name": "stderr",
     "output_type": "stream",
     "text": [
      "100%|█████████████████████████████████████████████████████████████████████████████████| 257/257 [01:02<00:00,  4.12it/s]\n",
      "  0%|                                                                                           | 0/257 [00:00<?, ?it/s]"
     ]
    },
    {
     "name": "stdout",
     "output_type": "stream",
     "text": [
      "Final training  62/299 loss: 0.4310 time 62.37s\n",
      "Wed Dec  6 15:50:52 2023 Epoch: 63\n"
     ]
    },
    {
     "name": "stderr",
     "output_type": "stream",
     "text": [
      "100%|█████████████████████████████████████████████████████████████████████████████████| 257/257 [01:03<00:00,  4.08it/s]\n",
      "  0%|                                                                                           | 0/257 [00:00<?, ?it/s]"
     ]
    },
    {
     "name": "stdout",
     "output_type": "stream",
     "text": [
      "Final training  63/299 loss: 0.4478 time 63.05s\n",
      "Wed Dec  6 15:51:55 2023 Epoch: 64\n"
     ]
    },
    {
     "name": "stderr",
     "output_type": "stream",
     "text": [
      "100%|█████████████████████████████████████████████████████████████████████████████████| 257/257 [01:01<00:00,  4.15it/s]\n",
      "  0%|                                                                                           | 0/257 [00:00<?, ?it/s]"
     ]
    },
    {
     "name": "stdout",
     "output_type": "stream",
     "text": [
      "Final training  64/299 loss: 0.4419 time 61.95s\n",
      "Wed Dec  6 15:52:57 2023 Epoch: 65\n"
     ]
    },
    {
     "name": "stderr",
     "output_type": "stream",
     "text": [
      "100%|█████████████████████████████████████████████████████████████████████████████████| 257/257 [01:03<00:00,  4.05it/s]\n",
      "  0%|                                                                                           | 0/257 [00:00<?, ?it/s]"
     ]
    },
    {
     "name": "stdout",
     "output_type": "stream",
     "text": [
      "Final training  65/299 loss: 0.4370 time 63.54s\n",
      "Wed Dec  6 15:54:01 2023 Epoch: 66\n"
     ]
    },
    {
     "name": "stderr",
     "output_type": "stream",
     "text": [
      "100%|█████████████████████████████████████████████████████████████████████████████████| 257/257 [01:01<00:00,  4.15it/s]\n",
      "  0%|                                                                                           | 0/257 [00:00<?, ?it/s]"
     ]
    },
    {
     "name": "stdout",
     "output_type": "stream",
     "text": [
      "Final training  66/299 loss: 0.4722 time 61.91s\n",
      "Wed Dec  6 15:55:03 2023 Epoch: 67\n"
     ]
    },
    {
     "name": "stderr",
     "output_type": "stream",
     "text": [
      "100%|█████████████████████████████████████████████████████████████████████████████████| 257/257 [01:01<00:00,  4.17it/s]\n",
      "  0%|                                                                                           | 0/257 [00:00<?, ?it/s]"
     ]
    },
    {
     "name": "stdout",
     "output_type": "stream",
     "text": [
      "Final training  67/299 loss: 0.4424 time 61.56s\n",
      "Wed Dec  6 15:56:04 2023 Epoch: 68\n"
     ]
    },
    {
     "name": "stderr",
     "output_type": "stream",
     "text": [
      "100%|█████████████████████████████████████████████████████████████████████████████████| 257/257 [01:01<00:00,  4.17it/s]\n",
      "  0%|                                                                                           | 0/257 [00:00<?, ?it/s]"
     ]
    },
    {
     "name": "stdout",
     "output_type": "stream",
     "text": [
      "Final training  68/299 loss: 0.4730 time 61.66s\n",
      "Wed Dec  6 15:57:06 2023 Epoch: 69\n"
     ]
    },
    {
     "name": "stderr",
     "output_type": "stream",
     "text": [
      "100%|█████████████████████████████████████████████████████████████████████████████████| 257/257 [01:01<00:00,  4.16it/s]\n",
      "  0%|                                                                                            | 0/37 [00:00<?, ?it/s]"
     ]
    },
    {
     "name": "stdout",
     "output_type": "stream",
     "text": [
      "Final training  69/299 loss: 0.4297 time 61.76s\n"
     ]
    },
    {
     "name": "stderr",
     "output_type": "stream",
     "text": [
      "100%|███████████████████████████████████████████████████████████████████████████████████| 37/37 [00:40<00:00,  1.09s/it]\n",
      "  0%|                                                                                           | 0/257 [00:00<?, ?it/s]"
     ]
    },
    {
     "name": "stdout",
     "output_type": "stream",
     "text": [
      "Final validation stats 69/299 , dice_tc: 0.6275184 , dice_wt: 0.6876313 , dice_et: 0.5561258 , Dice_Avg: 0.62375855 , time 40.23s\n",
      "Wed Dec  6 15:58:48 2023 Epoch: 70\n"
     ]
    },
    {
     "name": "stderr",
     "output_type": "stream",
     "text": [
      "100%|█████████████████████████████████████████████████████████████████████████████████| 257/257 [01:03<00:00,  4.02it/s]\n",
      "  0%|                                                                                           | 0/257 [00:00<?, ?it/s]"
     ]
    },
    {
     "name": "stdout",
     "output_type": "stream",
     "text": [
      "Final training  70/299 loss: 0.4244 time 63.94s\n",
      "Wed Dec  6 15:59:52 2023 Epoch: 71\n"
     ]
    },
    {
     "name": "stderr",
     "output_type": "stream",
     "text": [
      "100%|█████████████████████████████████████████████████████████████████████████████████| 257/257 [01:01<00:00,  4.15it/s]\n",
      "  0%|                                                                                           | 0/257 [00:00<?, ?it/s]"
     ]
    },
    {
     "name": "stdout",
     "output_type": "stream",
     "text": [
      "Final training  71/299 loss: 0.4270 time 61.96s\n",
      "Wed Dec  6 16:00:54 2023 Epoch: 72\n"
     ]
    },
    {
     "name": "stderr",
     "output_type": "stream",
     "text": [
      "100%|█████████████████████████████████████████████████████████████████████████████████| 257/257 [01:01<00:00,  4.21it/s]\n",
      "  0%|                                                                                           | 0/257 [00:00<?, ?it/s]"
     ]
    },
    {
     "name": "stdout",
     "output_type": "stream",
     "text": [
      "Final training  72/299 loss: 0.4704 time 61.01s\n",
      "Wed Dec  6 16:01:55 2023 Epoch: 73\n"
     ]
    },
    {
     "name": "stderr",
     "output_type": "stream",
     "text": [
      "100%|█████████████████████████████████████████████████████████████████████████████████| 257/257 [01:02<00:00,  4.13it/s]\n",
      "  0%|                                                                                           | 0/257 [00:00<?, ?it/s]"
     ]
    },
    {
     "name": "stdout",
     "output_type": "stream",
     "text": [
      "Final training  73/299 loss: 0.4388 time 62.23s\n",
      "Wed Dec  6 16:02:57 2023 Epoch: 74\n"
     ]
    },
    {
     "name": "stderr",
     "output_type": "stream",
     "text": [
      "100%|█████████████████████████████████████████████████████████████████████████████████| 257/257 [01:01<00:00,  4.18it/s]\n",
      "  0%|                                                                                           | 0/257 [00:00<?, ?it/s]"
     ]
    },
    {
     "name": "stdout",
     "output_type": "stream",
     "text": [
      "Final training  74/299 loss: 0.4221 time 61.52s\n",
      "Wed Dec  6 16:03:59 2023 Epoch: 75\n"
     ]
    },
    {
     "name": "stderr",
     "output_type": "stream",
     "text": [
      "100%|█████████████████████████████████████████████████████████████████████████████████| 257/257 [01:02<00:00,  4.11it/s]\n",
      "  0%|                                                                                           | 0/257 [00:00<?, ?it/s]"
     ]
    },
    {
     "name": "stdout",
     "output_type": "stream",
     "text": [
      "Final training  75/299 loss: 0.4700 time 62.60s\n",
      "Wed Dec  6 16:05:01 2023 Epoch: 76\n"
     ]
    },
    {
     "name": "stderr",
     "output_type": "stream",
     "text": [
      "100%|█████████████████████████████████████████████████████████████████████████████████| 257/257 [01:01<00:00,  4.18it/s]\n",
      "  0%|                                                                                           | 0/257 [00:00<?, ?it/s]"
     ]
    },
    {
     "name": "stdout",
     "output_type": "stream",
     "text": [
      "Final training  76/299 loss: 0.4528 time 61.44s\n",
      "Wed Dec  6 16:06:03 2023 Epoch: 77\n"
     ]
    },
    {
     "name": "stderr",
     "output_type": "stream",
     "text": [
      "100%|█████████████████████████████████████████████████████████████████████████████████| 257/257 [01:01<00:00,  4.20it/s]\n",
      "  0%|                                                                                           | 0/257 [00:00<?, ?it/s]"
     ]
    },
    {
     "name": "stdout",
     "output_type": "stream",
     "text": [
      "Final training  77/299 loss: 0.4457 time 61.18s\n",
      "Wed Dec  6 16:07:04 2023 Epoch: 78\n"
     ]
    },
    {
     "name": "stderr",
     "output_type": "stream",
     "text": [
      "100%|█████████████████████████████████████████████████████████████████████████████████| 257/257 [01:02<00:00,  4.10it/s]\n",
      "  0%|                                                                                           | 0/257 [00:00<?, ?it/s]"
     ]
    },
    {
     "name": "stdout",
     "output_type": "stream",
     "text": [
      "Final training  78/299 loss: 0.4605 time 62.61s\n",
      "Wed Dec  6 16:08:06 2023 Epoch: 79\n"
     ]
    },
    {
     "name": "stderr",
     "output_type": "stream",
     "text": [
      "100%|█████████████████████████████████████████████████████████████████████████████████| 257/257 [01:02<00:00,  4.09it/s]\n",
      "  0%|                                                                                            | 0/37 [00:00<?, ?it/s]"
     ]
    },
    {
     "name": "stdout",
     "output_type": "stream",
     "text": [
      "Final training  79/299 loss: 0.4390 time 62.79s\n"
     ]
    },
    {
     "name": "stderr",
     "output_type": "stream",
     "text": [
      "100%|███████████████████████████████████████████████████████████████████████████████████| 37/37 [00:40<00:00,  1.09s/it]\n",
      "  0%|                                                                                           | 0/257 [00:00<?, ?it/s]"
     ]
    },
    {
     "name": "stdout",
     "output_type": "stream",
     "text": [
      "Final validation stats 79/299 , dice_tc: 0.60038316 , dice_wt: 0.72184545 , dice_et: 0.51489794 , Dice_Avg: 0.61237556 , time 40.50s\n",
      "Wed Dec  6 16:09:50 2023 Epoch: 80\n"
     ]
    },
    {
     "name": "stderr",
     "output_type": "stream",
     "text": [
      "100%|█████████████████████████████████████████████████████████████████████████████████| 257/257 [01:02<00:00,  4.09it/s]\n",
      "  0%|                                                                                           | 0/257 [00:00<?, ?it/s]"
     ]
    },
    {
     "name": "stdout",
     "output_type": "stream",
     "text": [
      "Final training  80/299 loss: 0.4487 time 62.87s\n",
      "Wed Dec  6 16:10:53 2023 Epoch: 81\n"
     ]
    },
    {
     "name": "stderr",
     "output_type": "stream",
     "text": [
      "100%|█████████████████████████████████████████████████████████████████████████████████| 257/257 [01:02<00:00,  4.11it/s]\n",
      "  0%|                                                                                           | 0/257 [00:00<?, ?it/s]"
     ]
    },
    {
     "name": "stdout",
     "output_type": "stream",
     "text": [
      "Final training  81/299 loss: 0.4378 time 62.58s\n",
      "Wed Dec  6 16:11:55 2023 Epoch: 82\n"
     ]
    },
    {
     "name": "stderr",
     "output_type": "stream",
     "text": [
      "100%|█████████████████████████████████████████████████████████████████████████████████| 257/257 [01:03<00:00,  4.07it/s]\n",
      "  0%|                                                                                           | 0/257 [00:00<?, ?it/s]"
     ]
    },
    {
     "name": "stdout",
     "output_type": "stream",
     "text": [
      "Final training  82/299 loss: 0.4693 time 63.21s\n",
      "Wed Dec  6 16:12:58 2023 Epoch: 83\n"
     ]
    },
    {
     "name": "stderr",
     "output_type": "stream",
     "text": [
      "100%|█████████████████████████████████████████████████████████████████████████████████| 257/257 [01:01<00:00,  4.16it/s]\n",
      "  0%|                                                                                           | 0/257 [00:00<?, ?it/s]"
     ]
    },
    {
     "name": "stdout",
     "output_type": "stream",
     "text": [
      "Final training  83/299 loss: 0.5557 time 61.72s\n",
      "Wed Dec  6 16:14:00 2023 Epoch: 84\n"
     ]
    },
    {
     "name": "stderr",
     "output_type": "stream",
     "text": [
      "100%|█████████████████████████████████████████████████████████████████████████████████| 257/257 [01:01<00:00,  4.17it/s]\n",
      "  0%|                                                                                           | 0/257 [00:00<?, ?it/s]"
     ]
    },
    {
     "name": "stdout",
     "output_type": "stream",
     "text": [
      "Final training  84/299 loss: 0.6987 time 61.57s\n",
      "Wed Dec  6 16:15:02 2023 Epoch: 85\n"
     ]
    },
    {
     "name": "stderr",
     "output_type": "stream",
     "text": [
      "100%|█████████████████████████████████████████████████████████████████████████████████| 257/257 [01:01<00:00,  4.19it/s]\n",
      "  0%|                                                                                           | 0/257 [00:00<?, ?it/s]"
     ]
    },
    {
     "name": "stdout",
     "output_type": "stream",
     "text": [
      "Final training  85/299 loss: 0.7393 time 61.41s\n",
      "Wed Dec  6 16:16:03 2023 Epoch: 86\n"
     ]
    },
    {
     "name": "stderr",
     "output_type": "stream",
     "text": [
      "100%|█████████████████████████████████████████████████████████████████████████████████| 257/257 [01:02<00:00,  4.14it/s]\n",
      "  0%|                                                                                           | 0/257 [00:00<?, ?it/s]"
     ]
    },
    {
     "name": "stdout",
     "output_type": "stream",
     "text": [
      "Final training  86/299 loss: 0.7236 time 62.03s\n",
      "Wed Dec  6 16:17:05 2023 Epoch: 87\n"
     ]
    },
    {
     "name": "stderr",
     "output_type": "stream",
     "text": [
      "100%|█████████████████████████████████████████████████████████████████████████████████| 257/257 [01:02<00:00,  4.11it/s]\n",
      "  0%|                                                                                           | 0/257 [00:00<?, ?it/s]"
     ]
    },
    {
     "name": "stdout",
     "output_type": "stream",
     "text": [
      "Final training  87/299 loss: 0.7721 time 62.46s\n",
      "Wed Dec  6 16:18:07 2023 Epoch: 88\n"
     ]
    },
    {
     "name": "stderr",
     "output_type": "stream",
     "text": [
      "100%|█████████████████████████████████████████████████████████████████████████████████| 257/257 [01:01<00:00,  4.16it/s]\n",
      "  0%|                                                                                           | 0/257 [00:00<?, ?it/s]"
     ]
    },
    {
     "name": "stdout",
     "output_type": "stream",
     "text": [
      "Final training  88/299 loss: 0.7621 time 61.83s\n",
      "Wed Dec  6 16:19:09 2023 Epoch: 89\n"
     ]
    },
    {
     "name": "stderr",
     "output_type": "stream",
     "text": [
      "100%|█████████████████████████████████████████████████████████████████████████████████| 257/257 [01:01<00:00,  4.19it/s]\n",
      "  0%|                                                                                            | 0/37 [00:00<?, ?it/s]"
     ]
    },
    {
     "name": "stdout",
     "output_type": "stream",
     "text": [
      "Final training  89/299 loss: 0.7380 time 61.38s\n"
     ]
    },
    {
     "name": "stderr",
     "output_type": "stream",
     "text": [
      "100%|███████████████████████████████████████████████████████████████████████████████████| 37/37 [00:40<00:00,  1.09s/it]\n",
      "  0%|                                                                                           | 0/257 [00:00<?, ?it/s]"
     ]
    },
    {
     "name": "stdout",
     "output_type": "stream",
     "text": [
      "Final validation stats 89/299 , dice_tc: 0.0 , dice_wt: 0.543611 , dice_et: 0.0 , Dice_Avg: 0.18120366 , time 40.48s\n",
      "Wed Dec  6 16:20:51 2023 Epoch: 90\n"
     ]
    },
    {
     "name": "stderr",
     "output_type": "stream",
     "text": [
      "100%|█████████████████████████████████████████████████████████████████████████████████| 257/257 [01:02<00:00,  4.10it/s]\n",
      "  0%|                                                                                           | 0/257 [00:00<?, ?it/s]"
     ]
    },
    {
     "name": "stdout",
     "output_type": "stream",
     "text": [
      "Final training  90/299 loss: 0.7144 time 62.70s\n",
      "Wed Dec  6 16:21:54 2023 Epoch: 91\n"
     ]
    },
    {
     "name": "stderr",
     "output_type": "stream",
     "text": [
      "100%|█████████████████████████████████████████████████████████████████████████████████| 257/257 [01:02<00:00,  4.13it/s]\n",
      "  0%|                                                                                           | 0/257 [00:00<?, ?it/s]"
     ]
    },
    {
     "name": "stdout",
     "output_type": "stream",
     "text": [
      "Final training  91/299 loss: 0.7253 time 62.19s\n",
      "Wed Dec  6 16:22:56 2023 Epoch: 92\n"
     ]
    },
    {
     "name": "stderr",
     "output_type": "stream",
     "text": [
      "100%|█████████████████████████████████████████████████████████████████████████████████| 257/257 [01:02<00:00,  4.09it/s]\n",
      "  0%|                                                                                           | 0/257 [00:00<?, ?it/s]"
     ]
    },
    {
     "name": "stdout",
     "output_type": "stream",
     "text": [
      "Final training  92/299 loss: 0.6920 time 62.88s\n",
      "Wed Dec  6 16:23:59 2023 Epoch: 93\n"
     ]
    },
    {
     "name": "stderr",
     "output_type": "stream",
     "text": [
      "100%|█████████████████████████████████████████████████████████████████████████████████| 257/257 [01:02<00:00,  4.09it/s]\n",
      "  0%|                                                                                           | 0/257 [00:00<?, ?it/s]"
     ]
    },
    {
     "name": "stdout",
     "output_type": "stream",
     "text": [
      "Final training  93/299 loss: 0.7064 time 62.85s\n",
      "Wed Dec  6 16:25:02 2023 Epoch: 94\n"
     ]
    },
    {
     "name": "stderr",
     "output_type": "stream",
     "text": [
      "100%|█████████████████████████████████████████████████████████████████████████████████| 257/257 [01:02<00:00,  4.11it/s]\n",
      "  0%|                                                                                           | 0/257 [00:00<?, ?it/s]"
     ]
    },
    {
     "name": "stdout",
     "output_type": "stream",
     "text": [
      "Final training  94/299 loss: 0.7641 time 62.52s\n",
      "Wed Dec  6 16:26:04 2023 Epoch: 95\n"
     ]
    },
    {
     "name": "stderr",
     "output_type": "stream",
     "text": [
      "100%|█████████████████████████████████████████████████████████████████████████████████| 257/257 [01:02<00:00,  4.09it/s]\n",
      "  0%|                                                                                           | 0/257 [00:00<?, ?it/s]"
     ]
    },
    {
     "name": "stdout",
     "output_type": "stream",
     "text": [
      "Final training  95/299 loss: 0.7932 time 62.85s\n",
      "Wed Dec  6 16:27:07 2023 Epoch: 96\n"
     ]
    },
    {
     "name": "stderr",
     "output_type": "stream",
     "text": [
      "100%|█████████████████████████████████████████████████████████████████████████████████| 257/257 [01:01<00:00,  4.16it/s]\n",
      "  0%|                                                                                           | 0/257 [00:00<?, ?it/s]"
     ]
    },
    {
     "name": "stdout",
     "output_type": "stream",
     "text": [
      "Final training  96/299 loss: 0.8323 time 61.84s\n",
      "Wed Dec  6 16:28:09 2023 Epoch: 97\n"
     ]
    },
    {
     "name": "stderr",
     "output_type": "stream",
     "text": [
      "100%|█████████████████████████████████████████████████████████████████████████████████| 257/257 [01:02<00:00,  4.13it/s]\n",
      "  0%|                                                                                           | 0/257 [00:00<?, ?it/s]"
     ]
    },
    {
     "name": "stdout",
     "output_type": "stream",
     "text": [
      "Final training  97/299 loss: 0.8776 time 62.18s\n",
      "Wed Dec  6 16:29:11 2023 Epoch: 98\n"
     ]
    },
    {
     "name": "stderr",
     "output_type": "stream",
     "text": [
      "100%|█████████████████████████████████████████████████████████████████████████████████| 257/257 [01:01<00:00,  4.17it/s]\n",
      "  0%|                                                                                           | 0/257 [00:00<?, ?it/s]"
     ]
    },
    {
     "name": "stdout",
     "output_type": "stream",
     "text": [
      "Final training  98/299 loss: 0.8739 time 61.68s\n",
      "Wed Dec  6 16:30:13 2023 Epoch: 99\n"
     ]
    },
    {
     "name": "stderr",
     "output_type": "stream",
     "text": [
      "100%|█████████████████████████████████████████████████████████████████████████████████| 257/257 [01:02<00:00,  4.09it/s]\n",
      "  0%|                                                                                            | 0/37 [00:00<?, ?it/s]"
     ]
    },
    {
     "name": "stdout",
     "output_type": "stream",
     "text": [
      "Final training  99/299 loss: 0.8662 time 62.82s\n"
     ]
    },
    {
     "name": "stderr",
     "output_type": "stream",
     "text": [
      "100%|███████████████████████████████████████████████████████████████████████████████████| 37/37 [00:40<00:00,  1.09s/it]\n",
      "  0%|                                                                                           | 0/257 [00:00<?, ?it/s]"
     ]
    },
    {
     "name": "stdout",
     "output_type": "stream",
     "text": [
      "Final validation stats 99/299 , dice_tc: 0.0 , dice_wt: 0.0 , dice_et: 0.0 , Dice_Avg: 0.0 , time 40.35s\n",
      "Wed Dec  6 16:31:56 2023 Epoch: 100\n"
     ]
    },
    {
     "name": "stderr",
     "output_type": "stream",
     "text": [
      "100%|█████████████████████████████████████████████████████████████████████████████████| 257/257 [01:03<00:00,  4.06it/s]\n",
      "  0%|                                                                                           | 0/257 [00:00<?, ?it/s]"
     ]
    },
    {
     "name": "stdout",
     "output_type": "stream",
     "text": [
      "Final training  100/299 loss: 0.8399 time 63.27s\n",
      "Wed Dec  6 16:32:59 2023 Epoch: 101\n"
     ]
    },
    {
     "name": "stderr",
     "output_type": "stream",
     "text": [
      "100%|█████████████████████████████████████████████████████████████████████████████████| 257/257 [01:03<00:00,  4.07it/s]\n",
      "  0%|                                                                                           | 0/257 [00:00<?, ?it/s]"
     ]
    },
    {
     "name": "stdout",
     "output_type": "stream",
     "text": [
      "Final training  101/299 loss: 0.8782 time 63.09s\n",
      "Wed Dec  6 16:34:02 2023 Epoch: 102\n"
     ]
    },
    {
     "name": "stderr",
     "output_type": "stream",
     "text": [
      "100%|█████████████████████████████████████████████████████████████████████████████████| 257/257 [01:03<00:00,  4.05it/s]\n",
      "  0%|                                                                                           | 0/257 [00:00<?, ?it/s]"
     ]
    },
    {
     "name": "stdout",
     "output_type": "stream",
     "text": [
      "Final training  102/299 loss: 0.8975 time 63.44s\n",
      "Wed Dec  6 16:35:06 2023 Epoch: 103\n"
     ]
    },
    {
     "name": "stderr",
     "output_type": "stream",
     "text": [
      "100%|█████████████████████████████████████████████████████████████████████████████████| 257/257 [01:01<00:00,  4.17it/s]\n",
      "  0%|                                                                                           | 0/257 [00:00<?, ?it/s]"
     ]
    },
    {
     "name": "stdout",
     "output_type": "stream",
     "text": [
      "Final training  103/299 loss: 0.8119 time 61.61s\n",
      "Wed Dec  6 16:36:07 2023 Epoch: 104\n"
     ]
    },
    {
     "name": "stderr",
     "output_type": "stream",
     "text": [
      "100%|█████████████████████████████████████████████████████████████████████████████████| 257/257 [01:02<00:00,  4.12it/s]\n",
      "  0%|                                                                                           | 0/257 [00:00<?, ?it/s]"
     ]
    },
    {
     "name": "stdout",
     "output_type": "stream",
     "text": [
      "Final training  104/299 loss: 0.8470 time 62.43s\n",
      "Wed Dec  6 16:37:10 2023 Epoch: 105\n"
     ]
    },
    {
     "name": "stderr",
     "output_type": "stream",
     "text": [
      "100%|█████████████████████████████████████████████████████████████████████████████████| 257/257 [01:02<00:00,  4.11it/s]\n",
      "  0%|                                                                                           | 0/257 [00:00<?, ?it/s]"
     ]
    },
    {
     "name": "stdout",
     "output_type": "stream",
     "text": [
      "Final training  105/299 loss: 0.8573 time 62.53s\n",
      "Wed Dec  6 16:38:12 2023 Epoch: 106\n"
     ]
    },
    {
     "name": "stderr",
     "output_type": "stream",
     "text": [
      "100%|█████████████████████████████████████████████████████████████████████████████████| 257/257 [01:03<00:00,  4.03it/s]\n",
      "  0%|                                                                                           | 0/257 [00:00<?, ?it/s]"
     ]
    },
    {
     "name": "stdout",
     "output_type": "stream",
     "text": [
      "Final training  106/299 loss: 0.8457 time 63.71s\n",
      "Wed Dec  6 16:39:16 2023 Epoch: 107\n"
     ]
    },
    {
     "name": "stderr",
     "output_type": "stream",
     "text": [
      "100%|█████████████████████████████████████████████████████████████████████████████████| 257/257 [01:01<00:00,  4.17it/s]\n",
      "  0%|                                                                                           | 0/257 [00:00<?, ?it/s]"
     ]
    },
    {
     "name": "stdout",
     "output_type": "stream",
     "text": [
      "Final training  107/299 loss: 0.8262 time 61.67s\n",
      "Wed Dec  6 16:40:18 2023 Epoch: 108\n"
     ]
    },
    {
     "name": "stderr",
     "output_type": "stream",
     "text": [
      "100%|█████████████████████████████████████████████████████████████████████████████████| 257/257 [01:02<00:00,  4.13it/s]\n",
      "  0%|                                                                                           | 0/257 [00:00<?, ?it/s]"
     ]
    },
    {
     "name": "stdout",
     "output_type": "stream",
     "text": [
      "Final training  108/299 loss: 0.8586 time 62.30s\n",
      "Wed Dec  6 16:41:20 2023 Epoch: 109\n"
     ]
    },
    {
     "name": "stderr",
     "output_type": "stream",
     "text": [
      "100%|█████████████████████████████████████████████████████████████████████████████████| 257/257 [01:03<00:00,  4.04it/s]\n",
      "  0%|                                                                                            | 0/37 [00:00<?, ?it/s]"
     ]
    },
    {
     "name": "stdout",
     "output_type": "stream",
     "text": [
      "Final training  109/299 loss: 0.8547 time 63.62s\n"
     ]
    },
    {
     "name": "stderr",
     "output_type": "stream",
     "text": [
      "100%|███████████████████████████████████████████████████████████████████████████████████| 37/37 [00:40<00:00,  1.09s/it]\n",
      "  0%|                                                                                           | 0/257 [00:00<?, ?it/s]"
     ]
    },
    {
     "name": "stdout",
     "output_type": "stream",
     "text": [
      "Final validation stats 109/299 , dice_tc: 0.0 , dice_wt: 0.0 , dice_et: 0.0 , Dice_Avg: 0.0 , time 40.31s\n",
      "Wed Dec  6 16:43:04 2023 Epoch: 110\n"
     ]
    },
    {
     "name": "stderr",
     "output_type": "stream",
     "text": [
      "100%|█████████████████████████████████████████████████████████████████████████████████| 257/257 [01:04<00:00,  4.01it/s]\n",
      "  0%|                                                                                           | 0/257 [00:00<?, ?it/s]"
     ]
    },
    {
     "name": "stdout",
     "output_type": "stream",
     "text": [
      "Final training  110/299 loss: 0.8353 time 64.13s\n",
      "Wed Dec  6 16:44:08 2023 Epoch: 111\n"
     ]
    },
    {
     "name": "stderr",
     "output_type": "stream",
     "text": [
      "100%|█████████████████████████████████████████████████████████████████████████████████| 257/257 [01:04<00:00,  3.99it/s]\n",
      "  0%|                                                                                           | 0/257 [00:00<?, ?it/s]"
     ]
    },
    {
     "name": "stdout",
     "output_type": "stream",
     "text": [
      "Final training  111/299 loss: 0.8560 time 64.40s\n",
      "Wed Dec  6 16:45:13 2023 Epoch: 112\n"
     ]
    },
    {
     "name": "stderr",
     "output_type": "stream",
     "text": [
      "100%|█████████████████████████████████████████████████████████████████████████████████| 257/257 [01:03<00:00,  4.07it/s]\n",
      "  0%|                                                                                           | 0/257 [00:00<?, ?it/s]"
     ]
    },
    {
     "name": "stdout",
     "output_type": "stream",
     "text": [
      "Final training  112/299 loss: 0.8612 time 63.17s\n",
      "Wed Dec  6 16:46:16 2023 Epoch: 113\n"
     ]
    },
    {
     "name": "stderr",
     "output_type": "stream",
     "text": [
      "100%|█████████████████████████████████████████████████████████████████████████████████| 257/257 [01:01<00:00,  4.18it/s]\n",
      "  0%|                                                                                           | 0/257 [00:00<?, ?it/s]"
     ]
    },
    {
     "name": "stdout",
     "output_type": "stream",
     "text": [
      "Final training  113/299 loss: 0.8521 time 61.47s\n",
      "Wed Dec  6 16:47:17 2023 Epoch: 114\n"
     ]
    },
    {
     "name": "stderr",
     "output_type": "stream",
     "text": [
      "100%|█████████████████████████████████████████████████████████████████████████████████| 257/257 [01:03<00:00,  4.04it/s]\n",
      "  0%|                                                                                           | 0/257 [00:00<?, ?it/s]"
     ]
    },
    {
     "name": "stdout",
     "output_type": "stream",
     "text": [
      "Final training  114/299 loss: 0.8236 time 63.66s\n",
      "Wed Dec  6 16:48:21 2023 Epoch: 115\n"
     ]
    },
    {
     "name": "stderr",
     "output_type": "stream",
     "text": [
      "100%|█████████████████████████████████████████████████████████████████████████████████| 257/257 [01:04<00:00,  3.99it/s]\n",
      "  0%|                                                                                           | 0/257 [00:00<?, ?it/s]"
     ]
    },
    {
     "name": "stdout",
     "output_type": "stream",
     "text": [
      "Final training  115/299 loss: 0.8573 time 64.47s\n",
      "Wed Dec  6 16:49:25 2023 Epoch: 116\n"
     ]
    },
    {
     "name": "stderr",
     "output_type": "stream",
     "text": [
      "100%|█████████████████████████████████████████████████████████████████████████████████| 257/257 [01:02<00:00,  4.12it/s]\n",
      "  0%|                                                                                           | 0/257 [00:00<?, ?it/s]"
     ]
    },
    {
     "name": "stdout",
     "output_type": "stream",
     "text": [
      "Final training  116/299 loss: 0.8638 time 62.38s\n",
      "Wed Dec  6 16:50:28 2023 Epoch: 117\n"
     ]
    },
    {
     "name": "stderr",
     "output_type": "stream",
     "text": [
      "100%|█████████████████████████████████████████████████████████████████████████████████| 257/257 [01:03<00:00,  4.06it/s]\n",
      "  0%|                                                                                           | 0/257 [00:00<?, ?it/s]"
     ]
    },
    {
     "name": "stdout",
     "output_type": "stream",
     "text": [
      "Final training  117/299 loss: 0.8379 time 63.30s\n",
      "Wed Dec  6 16:51:31 2023 Epoch: 118\n"
     ]
    },
    {
     "name": "stderr",
     "output_type": "stream",
     "text": [
      "100%|█████████████████████████████████████████████████████████████████████████████████| 257/257 [01:04<00:00,  4.00it/s]\n",
      "  0%|                                                                                           | 0/257 [00:00<?, ?it/s]"
     ]
    },
    {
     "name": "stdout",
     "output_type": "stream",
     "text": [
      "Final training  118/299 loss: 0.8755 time 64.32s\n",
      "Wed Dec  6 16:52:35 2023 Epoch: 119\n"
     ]
    },
    {
     "name": "stderr",
     "output_type": "stream",
     "text": [
      "100%|█████████████████████████████████████████████████████████████████████████████████| 257/257 [01:02<00:00,  4.13it/s]\n",
      "  0%|                                                                                            | 0/37 [00:00<?, ?it/s]"
     ]
    },
    {
     "name": "stdout",
     "output_type": "stream",
     "text": [
      "Final training  119/299 loss: 0.8651 time 62.26s\n"
     ]
    },
    {
     "name": "stderr",
     "output_type": "stream",
     "text": [
      "100%|███████████████████████████████████████████████████████████████████████████████████| 37/37 [00:40<00:00,  1.09s/it]\n",
      "  0%|                                                                                           | 0/257 [00:00<?, ?it/s]"
     ]
    },
    {
     "name": "stdout",
     "output_type": "stream",
     "text": [
      "Final validation stats 119/299 , dice_tc: 0.0 , dice_wt: 0.0 , dice_et: 0.0 , Dice_Avg: 0.0 , time 40.39s\n",
      "Wed Dec  6 16:54:18 2023 Epoch: 120\n"
     ]
    },
    {
     "name": "stderr",
     "output_type": "stream",
     "text": [
      "100%|█████████████████████████████████████████████████████████████████████████████████| 257/257 [01:03<00:00,  4.02it/s]\n",
      "  0%|                                                                                           | 0/257 [00:00<?, ?it/s]"
     ]
    },
    {
     "name": "stdout",
     "output_type": "stream",
     "text": [
      "Final training  120/299 loss: 0.8547 time 63.99s\n",
      "Wed Dec  6 16:55:22 2023 Epoch: 121\n"
     ]
    },
    {
     "name": "stderr",
     "output_type": "stream",
     "text": [
      "100%|█████████████████████████████████████████████████████████████████████████████████| 257/257 [01:05<00:00,  3.93it/s]\n",
      "  0%|                                                                                           | 0/257 [00:00<?, ?it/s]"
     ]
    },
    {
     "name": "stdout",
     "output_type": "stream",
     "text": [
      "Final training  121/299 loss: 0.8677 time 65.37s\n",
      "Wed Dec  6 16:56:27 2023 Epoch: 122\n"
     ]
    },
    {
     "name": "stderr",
     "output_type": "stream",
     "text": [
      "100%|█████████████████████████████████████████████████████████████████████████████████| 257/257 [01:02<00:00,  4.10it/s]\n",
      "  0%|                                                                                           | 0/257 [00:00<?, ?it/s]"
     ]
    },
    {
     "name": "stdout",
     "output_type": "stream",
     "text": [
      "Final training  122/299 loss: 0.8353 time 62.71s\n",
      "Wed Dec  6 16:57:30 2023 Epoch: 123\n"
     ]
    },
    {
     "name": "stderr",
     "output_type": "stream",
     "text": [
      "100%|█████████████████████████████████████████████████████████████████████████████████| 257/257 [01:03<00:00,  4.06it/s]\n",
      "  0%|                                                                                           | 0/257 [00:00<?, ?it/s]"
     ]
    },
    {
     "name": "stdout",
     "output_type": "stream",
     "text": [
      "Final training  123/299 loss: 0.8249 time 63.38s\n",
      "Wed Dec  6 16:58:33 2023 Epoch: 124\n"
     ]
    },
    {
     "name": "stderr",
     "output_type": "stream",
     "text": [
      "100%|█████████████████████████████████████████████████████████████████████████████████| 257/257 [01:03<00:00,  4.08it/s]\n",
      "  0%|                                                                                           | 0/257 [00:00<?, ?it/s]"
     ]
    },
    {
     "name": "stdout",
     "output_type": "stream",
     "text": [
      "Final training  124/299 loss: 0.8975 time 63.05s\n",
      "Wed Dec  6 16:59:36 2023 Epoch: 125\n"
     ]
    },
    {
     "name": "stderr",
     "output_type": "stream",
     "text": [
      "100%|█████████████████████████████████████████████████████████████████████████████████| 257/257 [01:02<00:00,  4.08it/s]\n",
      "  0%|                                                                                           | 0/257 [00:00<?, ?it/s]"
     ]
    },
    {
     "name": "stdout",
     "output_type": "stream",
     "text": [
      "Final training  125/299 loss: 0.8405 time 62.94s\n",
      "Wed Dec  6 17:00:39 2023 Epoch: 126\n"
     ]
    },
    {
     "name": "stderr",
     "output_type": "stream",
     "text": [
      "100%|█████████████████████████████████████████████████████████████████████████████████| 257/257 [01:05<00:00,  3.92it/s]\n",
      "  0%|                                                                                           | 0/257 [00:00<?, ?it/s]"
     ]
    },
    {
     "name": "stdout",
     "output_type": "stream",
     "text": [
      "Final training  126/299 loss: 0.8495 time 65.64s\n",
      "Wed Dec  6 17:01:45 2023 Epoch: 127\n"
     ]
    },
    {
     "name": "stderr",
     "output_type": "stream",
     "text": [
      "100%|█████████████████████████████████████████████████████████████████████████████████| 257/257 [01:01<00:00,  4.15it/s]\n",
      "  0%|                                                                                           | 0/257 [00:00<?, ?it/s]"
     ]
    },
    {
     "name": "stdout",
     "output_type": "stream",
     "text": [
      "Final training  127/299 loss: 0.8301 time 61.96s\n",
      "Wed Dec  6 17:02:47 2023 Epoch: 128\n"
     ]
    },
    {
     "name": "stderr",
     "output_type": "stream",
     "text": [
      "100%|█████████████████████████████████████████████████████████████████████████████████| 257/257 [01:01<00:00,  4.16it/s]\n",
      "  0%|                                                                                           | 0/257 [00:00<?, ?it/s]"
     ]
    },
    {
     "name": "stdout",
     "output_type": "stream",
     "text": [
      "Final training  128/299 loss: 0.8405 time 61.84s\n",
      "Wed Dec  6 17:03:49 2023 Epoch: 129\n"
     ]
    },
    {
     "name": "stderr",
     "output_type": "stream",
     "text": [
      "100%|█████████████████████████████████████████████████████████████████████████████████| 257/257 [01:02<00:00,  4.09it/s]\n",
      "  0%|                                                                                            | 0/37 [00:00<?, ?it/s]"
     ]
    },
    {
     "name": "stdout",
     "output_type": "stream",
     "text": [
      "Final training  129/299 loss: 0.8664 time 62.90s\n"
     ]
    },
    {
     "name": "stderr",
     "output_type": "stream",
     "text": [
      "100%|███████████████████████████████████████████████████████████████████████████████████| 37/37 [00:40<00:00,  1.10s/it]\n",
      "  0%|                                                                                           | 0/257 [00:00<?, ?it/s]"
     ]
    },
    {
     "name": "stdout",
     "output_type": "stream",
     "text": [
      "Final validation stats 129/299 , dice_tc: 0.0 , dice_wt: 0.0 , dice_et: 0.0 , Dice_Avg: 0.0 , time 40.78s\n",
      "Wed Dec  6 17:05:33 2023 Epoch: 130\n"
     ]
    },
    {
     "name": "stderr",
     "output_type": "stream",
     "text": [
      "100%|█████████████████████████████████████████████████████████████████████████████████| 257/257 [01:03<00:00,  4.07it/s]\n",
      "  0%|                                                                                           | 0/257 [00:00<?, ?it/s]"
     ]
    },
    {
     "name": "stdout",
     "output_type": "stream",
     "text": [
      "Final training  130/299 loss: 0.8781 time 63.12s\n",
      "Wed Dec  6 17:06:36 2023 Epoch: 131\n"
     ]
    },
    {
     "name": "stderr",
     "output_type": "stream",
     "text": [
      "100%|█████████████████████████████████████████████████████████████████████████████████| 257/257 [01:01<00:00,  4.18it/s]\n",
      "  0%|                                                                                           | 0/257 [00:00<?, ?it/s]"
     ]
    },
    {
     "name": "stdout",
     "output_type": "stream",
     "text": [
      "Final training  131/299 loss: 0.8612 time 61.46s\n",
      "Wed Dec  6 17:07:37 2023 Epoch: 132\n"
     ]
    },
    {
     "name": "stderr",
     "output_type": "stream",
     "text": [
      "100%|█████████████████████████████████████████████████████████████████████████████████| 257/257 [01:02<00:00,  4.09it/s]\n",
      "  0%|                                                                                           | 0/257 [00:00<?, ?it/s]"
     ]
    },
    {
     "name": "stdout",
     "output_type": "stream",
     "text": [
      "Final training  132/299 loss: 0.8599 time 62.90s\n",
      "Wed Dec  6 17:08:40 2023 Epoch: 133\n"
     ]
    },
    {
     "name": "stderr",
     "output_type": "stream",
     "text": [
      "100%|█████████████████████████████████████████████████████████████████████████████████| 257/257 [01:03<00:00,  4.06it/s]\n",
      "  0%|                                                                                           | 0/257 [00:00<?, ?it/s]"
     ]
    },
    {
     "name": "stdout",
     "output_type": "stream",
     "text": [
      "Final training  133/299 loss: 0.8872 time 63.27s\n",
      "Wed Dec  6 17:09:43 2023 Epoch: 134\n"
     ]
    },
    {
     "name": "stderr",
     "output_type": "stream",
     "text": [
      "100%|█████████████████████████████████████████████████████████████████████████████████| 257/257 [01:01<00:00,  4.16it/s]\n",
      "  0%|                                                                                           | 0/257 [00:00<?, ?it/s]"
     ]
    },
    {
     "name": "stdout",
     "output_type": "stream",
     "text": [
      "Final training  134/299 loss: 0.8560 time 61.81s\n",
      "Wed Dec  6 17:10:45 2023 Epoch: 135\n"
     ]
    },
    {
     "name": "stderr",
     "output_type": "stream",
     "text": [
      "100%|█████████████████████████████████████████████████████████████████████████████████| 257/257 [01:01<00:00,  4.21it/s]\n",
      "  0%|                                                                                           | 0/257 [00:00<?, ?it/s]"
     ]
    },
    {
     "name": "stdout",
     "output_type": "stream",
     "text": [
      "Final training  135/299 loss: 0.8521 time 61.07s\n",
      "Wed Dec  6 17:11:46 2023 Epoch: 136\n"
     ]
    },
    {
     "name": "stderr",
     "output_type": "stream",
     "text": [
      "100%|█████████████████████████████████████████████████████████████████████████████████| 257/257 [01:02<00:00,  4.10it/s]\n",
      "  0%|                                                                                           | 0/257 [00:00<?, ?it/s]"
     ]
    },
    {
     "name": "stdout",
     "output_type": "stream",
     "text": [
      "Final training  136/299 loss: 0.8716 time 62.64s\n",
      "Wed Dec  6 17:12:49 2023 Epoch: 137\n"
     ]
    },
    {
     "name": "stderr",
     "output_type": "stream",
     "text": [
      "100%|█████████████████████████████████████████████████████████████████████████████████| 257/257 [01:03<00:00,  4.07it/s]\n",
      "  0%|                                                                                           | 0/257 [00:00<?, ?it/s]"
     ]
    },
    {
     "name": "stdout",
     "output_type": "stream",
     "text": [
      "Final training  137/299 loss: 0.8495 time 63.20s\n",
      "Wed Dec  6 17:13:52 2023 Epoch: 138\n"
     ]
    },
    {
     "name": "stderr",
     "output_type": "stream",
     "text": [
      "100%|█████████████████████████████████████████████████████████████████████████████████| 257/257 [01:02<00:00,  4.12it/s]\n",
      "  0%|                                                                                           | 0/257 [00:00<?, ?it/s]"
     ]
    },
    {
     "name": "stdout",
     "output_type": "stream",
     "text": [
      "Final training  138/299 loss: 0.8444 time 62.38s\n",
      "Wed Dec  6 17:14:54 2023 Epoch: 139\n"
     ]
    },
    {
     "name": "stderr",
     "output_type": "stream",
     "text": [
      "100%|█████████████████████████████████████████████████████████████████████████████████| 257/257 [01:01<00:00,  4.20it/s]\n",
      "  0%|                                                                                            | 0/37 [00:00<?, ?it/s]"
     ]
    },
    {
     "name": "stdout",
     "output_type": "stream",
     "text": [
      "Final training  139/299 loss: 0.8405 time 61.13s\n"
     ]
    },
    {
     "name": "stderr",
     "output_type": "stream",
     "text": [
      "100%|███████████████████████████████████████████████████████████████████████████████████| 37/37 [00:40<00:00,  1.08s/it]\n",
      "  0%|                                                                                           | 0/257 [00:00<?, ?it/s]"
     ]
    },
    {
     "name": "stdout",
     "output_type": "stream",
     "text": [
      "Final validation stats 139/299 , dice_tc: 0.0 , dice_wt: 0.0 , dice_et: 0.0 , Dice_Avg: 0.0 , time 40.05s\n",
      "Wed Dec  6 17:16:36 2023 Epoch: 140\n"
     ]
    },
    {
     "name": "stderr",
     "output_type": "stream",
     "text": [
      "100%|█████████████████████████████████████████████████████████████████████████████████| 257/257 [01:03<00:00,  4.05it/s]\n",
      "  0%|                                                                                           | 0/257 [00:00<?, ?it/s]"
     ]
    },
    {
     "name": "stdout",
     "output_type": "stream",
     "text": [
      "Final training  140/299 loss: 0.8327 time 63.48s\n",
      "Wed Dec  6 17:17:39 2023 Epoch: 141\n"
     ]
    },
    {
     "name": "stderr",
     "output_type": "stream",
     "text": [
      "100%|█████████████████████████████████████████████████████████████████████████████████| 257/257 [01:01<00:00,  4.15it/s]\n",
      "  0%|                                                                                           | 0/257 [00:00<?, ?it/s]"
     ]
    },
    {
     "name": "stdout",
     "output_type": "stream",
     "text": [
      "Final training  141/299 loss: 0.8547 time 61.86s\n",
      "Wed Dec  6 17:18:41 2023 Epoch: 142\n"
     ]
    },
    {
     "name": "stderr",
     "output_type": "stream",
     "text": [
      "100%|█████████████████████████████████████████████████████████████████████████████████| 257/257 [01:02<00:00,  4.10it/s]\n",
      "  0%|                                                                                           | 0/257 [00:00<?, ?it/s]"
     ]
    },
    {
     "name": "stdout",
     "output_type": "stream",
     "text": [
      "Final training  142/299 loss: 0.8379 time 62.75s\n",
      "Wed Dec  6 17:19:44 2023 Epoch: 143\n"
     ]
    },
    {
     "name": "stderr",
     "output_type": "stream",
     "text": [
      "100%|█████████████████████████████████████████████████████████████████████████████████| 257/257 [01:02<00:00,  4.13it/s]\n",
      "  0%|                                                                                           | 0/257 [00:00<?, ?it/s]"
     ]
    },
    {
     "name": "stdout",
     "output_type": "stream",
     "text": [
      "Final training  143/299 loss: 0.8716 time 62.18s\n",
      "Wed Dec  6 17:20:46 2023 Epoch: 144\n"
     ]
    },
    {
     "name": "stderr",
     "output_type": "stream",
     "text": [
      "100%|█████████████████████████████████████████████████████████████████████████████████| 257/257 [01:03<00:00,  4.03it/s]\n",
      "  0%|                                                                                           | 0/257 [00:00<?, ?it/s]"
     ]
    },
    {
     "name": "stdout",
     "output_type": "stream",
     "text": [
      "Final training  144/299 loss: 0.8457 time 63.81s\n",
      "Wed Dec  6 17:21:50 2023 Epoch: 145\n"
     ]
    },
    {
     "name": "stderr",
     "output_type": "stream",
     "text": [
      "100%|█████████████████████████████████████████████████████████████████████████████████| 257/257 [01:01<00:00,  4.18it/s]\n",
      "  0%|                                                                                           | 0/257 [00:00<?, ?it/s]"
     ]
    },
    {
     "name": "stdout",
     "output_type": "stream",
     "text": [
      "Final training  145/299 loss: 0.8482 time 61.54s\n",
      "Wed Dec  6 17:22:51 2023 Epoch: 146\n"
     ]
    },
    {
     "name": "stderr",
     "output_type": "stream",
     "text": [
      "100%|█████████████████████████████████████████████████████████████████████████████████| 257/257 [01:01<00:00,  4.16it/s]\n",
      "  0%|                                                                                           | 0/257 [00:00<?, ?it/s]"
     ]
    },
    {
     "name": "stdout",
     "output_type": "stream",
     "text": [
      "Final training  146/299 loss: 0.8716 time 61.74s\n",
      "Wed Dec  6 17:23:53 2023 Epoch: 147\n"
     ]
    },
    {
     "name": "stderr",
     "output_type": "stream",
     "text": [
      "100%|█████████████████████████████████████████████████████████████████████████████████| 257/257 [01:02<00:00,  4.09it/s]\n",
      "  0%|                                                                                           | 0/257 [00:00<?, ?it/s]"
     ]
    },
    {
     "name": "stdout",
     "output_type": "stream",
     "text": [
      "Final training  147/299 loss: 0.8158 time 62.89s\n",
      "Wed Dec  6 17:24:56 2023 Epoch: 148\n"
     ]
    },
    {
     "name": "stderr",
     "output_type": "stream",
     "text": [
      "100%|█████████████████████████████████████████████████████████████████████████████████| 257/257 [01:02<00:00,  4.10it/s]\n",
      "  0%|                                                                                           | 0/257 [00:00<?, ?it/s]"
     ]
    },
    {
     "name": "stdout",
     "output_type": "stream",
     "text": [
      "Final training  148/299 loss: 0.8820 time 62.70s\n",
      "Wed Dec  6 17:25:59 2023 Epoch: 149\n"
     ]
    },
    {
     "name": "stderr",
     "output_type": "stream",
     "text": [
      "100%|█████████████████████████████████████████████████████████████████████████████████| 257/257 [01:03<00:00,  4.07it/s]\n",
      "  0%|                                                                                            | 0/37 [00:00<?, ?it/s]"
     ]
    },
    {
     "name": "stdout",
     "output_type": "stream",
     "text": [
      "Final training  149/299 loss: 0.8859 time 63.18s\n"
     ]
    },
    {
     "name": "stderr",
     "output_type": "stream",
     "text": [
      "100%|███████████████████████████████████████████████████████████████████████████████████| 37/37 [00:40<00:00,  1.09s/it]\n",
      "  0%|                                                                                           | 0/257 [00:00<?, ?it/s]"
     ]
    },
    {
     "name": "stdout",
     "output_type": "stream",
     "text": [
      "Final validation stats 149/299 , dice_tc: 0.0 , dice_wt: 0.0 , dice_et: 0.0 , Dice_Avg: 0.0 , time 40.24s\n",
      "Wed Dec  6 17:27:42 2023 Epoch: 150\n"
     ]
    },
    {
     "name": "stderr",
     "output_type": "stream",
     "text": [
      "100%|█████████████████████████████████████████████████████████████████████████████████| 257/257 [01:04<00:00,  3.98it/s]\n",
      "  0%|                                                                                           | 0/257 [00:00<?, ?it/s]"
     ]
    },
    {
     "name": "stdout",
     "output_type": "stream",
     "text": [
      "Final training  150/299 loss: 0.8949 time 64.57s\n",
      "Wed Dec  6 17:28:47 2023 Epoch: 151\n"
     ]
    },
    {
     "name": "stderr",
     "output_type": "stream",
     "text": [
      "100%|█████████████████████████████████████████████████████████████████████████████████| 257/257 [01:01<00:00,  4.16it/s]\n",
      "  0%|                                                                                           | 0/257 [00:00<?, ?it/s]"
     ]
    },
    {
     "name": "stdout",
     "output_type": "stream",
     "text": [
      "Final training  151/299 loss: 0.8508 time 61.76s\n",
      "Wed Dec  6 17:29:48 2023 Epoch: 152\n"
     ]
    },
    {
     "name": "stderr",
     "output_type": "stream",
     "text": [
      "100%|█████████████████████████████████████████████████████████████████████████████████| 257/257 [01:02<00:00,  4.13it/s]\n",
      "  0%|                                                                                           | 0/257 [00:00<?, ?it/s]"
     ]
    },
    {
     "name": "stdout",
     "output_type": "stream",
     "text": [
      "Final training  152/299 loss: 0.8444 time 62.21s\n",
      "Wed Dec  6 17:30:51 2023 Epoch: 153\n"
     ]
    },
    {
     "name": "stderr",
     "output_type": "stream",
     "text": [
      "100%|█████████████████████████████████████████████████████████████████████████████████| 257/257 [01:02<00:00,  4.08it/s]\n",
      "  0%|                                                                                           | 0/257 [00:00<?, ?it/s]"
     ]
    },
    {
     "name": "stdout",
     "output_type": "stream",
     "text": [
      "Final training  153/299 loss: 0.8612 time 62.92s\n",
      "Wed Dec  6 17:31:53 2023 Epoch: 154\n"
     ]
    },
    {
     "name": "stderr",
     "output_type": "stream",
     "text": [
      "100%|█████████████████████████████████████████████████████████████████████████████████| 257/257 [01:02<00:00,  4.09it/s]\n",
      "  0%|                                                                                           | 0/257 [00:00<?, ?it/s]"
     ]
    },
    {
     "name": "stdout",
     "output_type": "stream",
     "text": [
      "Final training  154/299 loss: 0.8560 time 62.78s\n",
      "Wed Dec  6 17:32:56 2023 Epoch: 155\n"
     ]
    },
    {
     "name": "stderr",
     "output_type": "stream",
     "text": [
      "100%|█████████████████████████████████████████████████████████████████████████████████| 257/257 [01:01<00:00,  4.20it/s]\n",
      "  0%|                                                                                           | 0/257 [00:00<?, ?it/s]"
     ]
    },
    {
     "name": "stdout",
     "output_type": "stream",
     "text": [
      "Final training  155/299 loss: 0.8470 time 61.23s\n",
      "Wed Dec  6 17:33:57 2023 Epoch: 156\n"
     ]
    },
    {
     "name": "stderr",
     "output_type": "stream",
     "text": [
      "100%|█████████████████████████████████████████████████████████████████████████████████| 257/257 [01:03<00:00,  4.08it/s]\n",
      "  0%|                                                                                           | 0/257 [00:00<?, ?it/s]"
     ]
    },
    {
     "name": "stdout",
     "output_type": "stream",
     "text": [
      "Final training  156/299 loss: 0.8651 time 63.00s\n",
      "Wed Dec  6 17:35:00 2023 Epoch: 157\n"
     ]
    },
    {
     "name": "stderr",
     "output_type": "stream",
     "text": [
      "100%|█████████████████████████████████████████████████████████████████████████████████| 257/257 [01:03<00:00,  4.07it/s]\n",
      "  0%|                                                                                           | 0/257 [00:00<?, ?it/s]"
     ]
    },
    {
     "name": "stdout",
     "output_type": "stream",
     "text": [
      "Final training  157/299 loss: 0.8768 time 63.10s\n",
      "Wed Dec  6 17:36:04 2023 Epoch: 158\n"
     ]
    },
    {
     "name": "stderr",
     "output_type": "stream",
     "text": [
      "100%|█████████████████████████████████████████████████████████████████████████████████| 257/257 [01:02<00:00,  4.11it/s]\n",
      "  0%|                                                                                           | 0/257 [00:00<?, ?it/s]"
     ]
    },
    {
     "name": "stdout",
     "output_type": "stream",
     "text": [
      "Final training  158/299 loss: 0.8547 time 62.56s\n",
      "Wed Dec  6 17:37:06 2023 Epoch: 159\n"
     ]
    },
    {
     "name": "stderr",
     "output_type": "stream",
     "text": [
      "100%|█████████████████████████████████████████████████████████████████████████████████| 257/257 [01:01<00:00,  4.15it/s]\n",
      "  0%|                                                                                            | 0/37 [00:00<?, ?it/s]"
     ]
    },
    {
     "name": "stdout",
     "output_type": "stream",
     "text": [
      "Final training  159/299 loss: 0.8859 time 61.96s\n"
     ]
    },
    {
     "name": "stderr",
     "output_type": "stream",
     "text": [
      "100%|███████████████████████████████████████████████████████████████████████████████████| 37/37 [00:40<00:00,  1.08s/it]\n",
      "  0%|                                                                                           | 0/257 [00:00<?, ?it/s]"
     ]
    },
    {
     "name": "stdout",
     "output_type": "stream",
     "text": [
      "Final validation stats 159/299 , dice_tc: 0.0 , dice_wt: 0.0 , dice_et: 0.0 , Dice_Avg: 0.0 , time 40.09s\n",
      "Wed Dec  6 17:38:48 2023 Epoch: 160\n"
     ]
    },
    {
     "name": "stderr",
     "output_type": "stream",
     "text": [
      "100%|█████████████████████████████████████████████████████████████████████████████████| 257/257 [01:03<00:00,  4.04it/s]\n",
      "  0%|                                                                                           | 0/257 [00:00<?, ?it/s]"
     ]
    },
    {
     "name": "stdout",
     "output_type": "stream",
     "text": [
      "Final training  160/299 loss: 0.8444 time 63.63s\n",
      "Wed Dec  6 17:39:52 2023 Epoch: 161\n"
     ]
    },
    {
     "name": "stderr",
     "output_type": "stream",
     "text": [
      "100%|█████████████████████████████████████████████████████████████████████████████████| 257/257 [01:02<00:00,  4.10it/s]\n",
      "  0%|                                                                                           | 0/257 [00:00<?, ?it/s]"
     ]
    },
    {
     "name": "stdout",
     "output_type": "stream",
     "text": [
      "Final training  161/299 loss: 0.8560 time 62.74s\n",
      "Wed Dec  6 17:40:55 2023 Epoch: 162\n"
     ]
    },
    {
     "name": "stderr",
     "output_type": "stream",
     "text": [
      "100%|█████████████████████████████████████████████████████████████████████████████████| 257/257 [01:03<00:00,  4.04it/s]\n",
      "  0%|                                                                                           | 0/257 [00:00<?, ?it/s]"
     ]
    },
    {
     "name": "stdout",
     "output_type": "stream",
     "text": [
      "Final training  162/299 loss: 0.8612 time 63.62s\n",
      "Wed Dec  6 17:41:58 2023 Epoch: 163\n"
     ]
    },
    {
     "name": "stderr",
     "output_type": "stream",
     "text": [
      "100%|█████████████████████████████████████████████████████████████████████████████████| 257/257 [01:04<00:00,  4.00it/s]\n",
      "  0%|                                                                                           | 0/257 [00:00<?, ?it/s]"
     ]
    },
    {
     "name": "stdout",
     "output_type": "stream",
     "text": [
      "Final training  163/299 loss: 0.8521 time 64.33s\n",
      "Wed Dec  6 17:43:02 2023 Epoch: 164\n"
     ]
    },
    {
     "name": "stderr",
     "output_type": "stream",
     "text": [
      "100%|█████████████████████████████████████████████████████████████████████████████████| 257/257 [01:03<00:00,  4.07it/s]\n",
      "  0%|                                                                                           | 0/257 [00:00<?, ?it/s]"
     ]
    },
    {
     "name": "stdout",
     "output_type": "stream",
     "text": [
      "Final training  164/299 loss: 0.8612 time 63.22s\n",
      "Wed Dec  6 17:44:06 2023 Epoch: 165\n"
     ]
    },
    {
     "name": "stderr",
     "output_type": "stream",
     "text": [
      "100%|█████████████████████████████████████████████████████████████████████████████████| 257/257 [01:04<00:00,  3.98it/s]\n",
      "  0%|                                                                                           | 0/257 [00:00<?, ?it/s]"
     ]
    },
    {
     "name": "stdout",
     "output_type": "stream",
     "text": [
      "Final training  165/299 loss: 0.8508 time 64.54s\n",
      "Wed Dec  6 17:45:10 2023 Epoch: 166\n"
     ]
    },
    {
     "name": "stderr",
     "output_type": "stream",
     "text": [
      "100%|█████████████████████████████████████████████████████████████████████████████████| 257/257 [01:01<00:00,  4.15it/s]\n",
      "  0%|                                                                                           | 0/257 [00:00<?, ?it/s]"
     ]
    },
    {
     "name": "stdout",
     "output_type": "stream",
     "text": [
      "Final training  166/299 loss: 0.8482 time 61.92s\n",
      "Wed Dec  6 17:46:12 2023 Epoch: 167\n"
     ]
    },
    {
     "name": "stderr",
     "output_type": "stream",
     "text": [
      "100%|█████████████████████████████████████████████████████████████████████████████████| 257/257 [01:02<00:00,  4.09it/s]\n",
      "  0%|                                                                                           | 0/257 [00:00<?, ?it/s]"
     ]
    },
    {
     "name": "stdout",
     "output_type": "stream",
     "text": [
      "Final training  167/299 loss: 0.8612 time 62.79s\n",
      "Wed Dec  6 17:47:15 2023 Epoch: 168\n"
     ]
    },
    {
     "name": "stderr",
     "output_type": "stream",
     "text": [
      "100%|█████████████████████████████████████████████████████████████████████████████████| 257/257 [01:01<00:00,  4.15it/s]\n",
      "  0%|                                                                                           | 0/257 [00:00<?, ?it/s]"
     ]
    },
    {
     "name": "stdout",
     "output_type": "stream",
     "text": [
      "Final training  168/299 loss: 0.8716 time 61.88s\n",
      "Wed Dec  6 17:48:17 2023 Epoch: 169\n"
     ]
    },
    {
     "name": "stderr",
     "output_type": "stream",
     "text": [
      "100%|█████████████████████████████████████████████████████████████████████████████████| 257/257 [01:03<00:00,  4.03it/s]\n",
      "  0%|                                                                                            | 0/37 [00:00<?, ?it/s]"
     ]
    },
    {
     "name": "stdout",
     "output_type": "stream",
     "text": [
      "Final training  169/299 loss: 0.8275 time 63.85s\n"
     ]
    },
    {
     "name": "stderr",
     "output_type": "stream",
     "text": [
      "100%|███████████████████████████████████████████████████████████████████████████████████| 37/37 [00:41<00:00,  1.12s/it]\n",
      "  0%|                                                                                           | 0/257 [00:00<?, ?it/s]"
     ]
    },
    {
     "name": "stdout",
     "output_type": "stream",
     "text": [
      "Final validation stats 169/299 , dice_tc: 0.0 , dice_wt: 0.0 , dice_et: 0.0 , Dice_Avg: 0.0 , time 41.29s\n",
      "Wed Dec  6 17:50:02 2023 Epoch: 170\n"
     ]
    },
    {
     "name": "stderr",
     "output_type": "stream",
     "text": [
      "100%|█████████████████████████████████████████████████████████████████████████████████| 257/257 [01:03<00:00,  4.05it/s]\n",
      "  0%|                                                                                           | 0/257 [00:00<?, ?it/s]"
     ]
    },
    {
     "name": "stdout",
     "output_type": "stream",
     "text": [
      "Final training  170/299 loss: 0.8431 time 63.40s\n",
      "Wed Dec  6 17:51:05 2023 Epoch: 171\n"
     ]
    },
    {
     "name": "stderr",
     "output_type": "stream",
     "text": [
      "100%|█████████████████████████████████████████████████████████████████████████████████| 257/257 [01:03<00:00,  4.04it/s]\n",
      "  0%|                                                                                           | 0/257 [00:00<?, ?it/s]"
     ]
    },
    {
     "name": "stdout",
     "output_type": "stream",
     "text": [
      "Final training  171/299 loss: 0.8392 time 63.59s\n",
      "Wed Dec  6 17:52:09 2023 Epoch: 172\n"
     ]
    },
    {
     "name": "stderr",
     "output_type": "stream",
     "text": [
      "100%|█████████████████████████████████████████████████████████████████████████████████| 257/257 [01:02<00:00,  4.10it/s]\n",
      "  0%|                                                                                           | 0/257 [00:00<?, ?it/s]"
     ]
    },
    {
     "name": "stdout",
     "output_type": "stream",
     "text": [
      "Final training  172/299 loss: 0.8651 time 62.69s\n",
      "Wed Dec  6 17:53:12 2023 Epoch: 173\n"
     ]
    },
    {
     "name": "stderr",
     "output_type": "stream",
     "text": [
      "100%|█████████████████████████████████████████████████████████████████████████████████| 257/257 [01:01<00:00,  4.20it/s]\n",
      "  0%|                                                                                           | 0/257 [00:00<?, ?it/s]"
     ]
    },
    {
     "name": "stdout",
     "output_type": "stream",
     "text": [
      "Final training  173/299 loss: 0.8340 time 61.18s\n",
      "Wed Dec  6 17:54:13 2023 Epoch: 174\n"
     ]
    },
    {
     "name": "stderr",
     "output_type": "stream",
     "text": [
      "100%|█████████████████████████████████████████████████████████████████████████████████| 257/257 [01:01<00:00,  4.16it/s]\n",
      "  0%|                                                                                           | 0/257 [00:00<?, ?it/s]"
     ]
    },
    {
     "name": "stdout",
     "output_type": "stream",
     "text": [
      "Final training  174/299 loss: 0.8431 time 61.84s\n",
      "Wed Dec  6 17:55:15 2023 Epoch: 175\n"
     ]
    },
    {
     "name": "stderr",
     "output_type": "stream",
     "text": [
      "100%|█████████████████████████████████████████████████████████████████████████████████| 257/257 [01:01<00:00,  4.19it/s]\n",
      "  0%|                                                                                           | 0/257 [00:00<?, ?it/s]"
     ]
    },
    {
     "name": "stdout",
     "output_type": "stream",
     "text": [
      "Final training  175/299 loss: 0.8249 time 61.31s\n",
      "Wed Dec  6 17:56:16 2023 Epoch: 176\n"
     ]
    },
    {
     "name": "stderr",
     "output_type": "stream",
     "text": [
      "100%|█████████████████████████████████████████████████████████████████████████████████| 257/257 [01:01<00:00,  4.20it/s]\n",
      "  0%|                                                                                           | 0/257 [00:00<?, ?it/s]"
     ]
    },
    {
     "name": "stdout",
     "output_type": "stream",
     "text": [
      "Final training  176/299 loss: 0.8521 time 61.26s\n",
      "Wed Dec  6 17:57:17 2023 Epoch: 177\n"
     ]
    },
    {
     "name": "stderr",
     "output_type": "stream",
     "text": [
      "100%|█████████████████████████████████████████████████████████████████████████████████| 257/257 [01:02<00:00,  4.12it/s]\n",
      "  0%|                                                                                           | 0/257 [00:00<?, ?it/s]"
     ]
    },
    {
     "name": "stdout",
     "output_type": "stream",
     "text": [
      "Final training  177/299 loss: 0.8495 time 62.33s\n",
      "Wed Dec  6 17:58:20 2023 Epoch: 178\n"
     ]
    },
    {
     "name": "stderr",
     "output_type": "stream",
     "text": [
      "100%|█████████████████████████████████████████████████████████████████████████████████| 257/257 [01:02<00:00,  4.13it/s]\n",
      "  0%|                                                                                           | 0/257 [00:00<?, ?it/s]"
     ]
    },
    {
     "name": "stdout",
     "output_type": "stream",
     "text": [
      "Final training  178/299 loss: 0.8560 time 62.26s\n",
      "Wed Dec  6 17:59:22 2023 Epoch: 179\n"
     ]
    },
    {
     "name": "stderr",
     "output_type": "stream",
     "text": [
      "100%|█████████████████████████████████████████████████████████████████████████████████| 257/257 [01:01<00:00,  4.21it/s]\n",
      "  0%|                                                                                            | 0/37 [00:00<?, ?it/s]"
     ]
    },
    {
     "name": "stdout",
     "output_type": "stream",
     "text": [
      "Final training  179/299 loss: 0.8807 time 61.02s\n"
     ]
    },
    {
     "name": "stderr",
     "output_type": "stream",
     "text": [
      "100%|███████████████████████████████████████████████████████████████████████████████████| 37/37 [00:40<00:00,  1.09s/it]\n",
      "  0%|                                                                                           | 0/257 [00:00<?, ?it/s]"
     ]
    },
    {
     "name": "stdout",
     "output_type": "stream",
     "text": [
      "Final validation stats 179/299 , dice_tc: 0.0 , dice_wt: 0.0 , dice_et: 0.0 , Dice_Avg: 0.0 , time 40.17s\n",
      "Wed Dec  6 18:01:03 2023 Epoch: 180\n"
     ]
    },
    {
     "name": "stderr",
     "output_type": "stream",
     "text": [
      "100%|█████████████████████████████████████████████████████████████████████████████████| 257/257 [01:02<00:00,  4.09it/s]\n",
      "  0%|                                                                                           | 0/257 [00:00<?, ?it/s]"
     ]
    },
    {
     "name": "stdout",
     "output_type": "stream",
     "text": [
      "Final training  180/299 loss: 0.8547 time 62.77s\n",
      "Wed Dec  6 18:02:06 2023 Epoch: 181\n"
     ]
    },
    {
     "name": "stderr",
     "output_type": "stream",
     "text": [
      "100%|█████████████████████████████████████████████████████████████████████████████████| 257/257 [01:01<00:00,  4.17it/s]\n",
      "  0%|                                                                                           | 0/257 [00:00<?, ?it/s]"
     ]
    },
    {
     "name": "stdout",
     "output_type": "stream",
     "text": [
      "Final training  181/299 loss: 0.8288 time 61.67s\n",
      "Wed Dec  6 18:03:07 2023 Epoch: 182\n"
     ]
    },
    {
     "name": "stderr",
     "output_type": "stream",
     "text": [
      "100%|█████████████████████████████████████████████████████████████████████████████████| 257/257 [01:02<00:00,  4.13it/s]\n",
      "  0%|                                                                                           | 0/257 [00:00<?, ?it/s]"
     ]
    },
    {
     "name": "stdout",
     "output_type": "stream",
     "text": [
      "Final training  182/299 loss: 0.8470 time 62.16s\n",
      "Wed Dec  6 18:04:10 2023 Epoch: 183\n"
     ]
    },
    {
     "name": "stderr",
     "output_type": "stream",
     "text": [
      "100%|█████████████████████████████████████████████████████████████████████████████████| 257/257 [01:03<00:00,  4.02it/s]\n",
      "  0%|                                                                                           | 0/257 [00:00<?, ?it/s]"
     ]
    },
    {
     "name": "stdout",
     "output_type": "stream",
     "text": [
      "Final training  183/299 loss: 0.8677 time 63.95s\n",
      "Wed Dec  6 18:05:14 2023 Epoch: 184\n"
     ]
    },
    {
     "name": "stderr",
     "output_type": "stream",
     "text": [
      "100%|█████████████████████████████████████████████████████████████████████████████████| 257/257 [01:01<00:00,  4.15it/s]\n",
      "  0%|                                                                                           | 0/257 [00:00<?, ?it/s]"
     ]
    },
    {
     "name": "stdout",
     "output_type": "stream",
     "text": [
      "Final training  184/299 loss: 0.8612 time 61.96s\n",
      "Wed Dec  6 18:06:16 2023 Epoch: 185\n"
     ]
    },
    {
     "name": "stderr",
     "output_type": "stream",
     "text": [
      "100%|█████████████████████████████████████████████████████████████████████████████████| 257/257 [01:03<00:00,  4.04it/s]\n",
      "  0%|                                                                                           | 0/257 [00:00<?, ?it/s]"
     ]
    },
    {
     "name": "stdout",
     "output_type": "stream",
     "text": [
      "Final training  185/299 loss: 0.8703 time 63.58s\n",
      "Wed Dec  6 18:07:19 2023 Epoch: 186\n"
     ]
    },
    {
     "name": "stderr",
     "output_type": "stream",
     "text": [
      "100%|█████████████████████████████████████████████████████████████████████████████████| 257/257 [01:02<00:00,  4.10it/s]\n",
      "  0%|                                                                                           | 0/257 [00:00<?, ?it/s]"
     ]
    },
    {
     "name": "stdout",
     "output_type": "stream",
     "text": [
      "Final training  186/299 loss: 0.8755 time 62.62s\n",
      "Wed Dec  6 18:08:22 2023 Epoch: 187\n"
     ]
    },
    {
     "name": "stderr",
     "output_type": "stream",
     "text": [
      "100%|█████████████████████████████████████████████████████████████████████████████████| 257/257 [01:02<00:00,  4.12it/s]\n",
      "  0%|                                                                                           | 0/257 [00:00<?, ?it/s]"
     ]
    },
    {
     "name": "stdout",
     "output_type": "stream",
     "text": [
      "Final training  187/299 loss: 0.8534 time 62.38s\n",
      "Wed Dec  6 18:09:24 2023 Epoch: 188\n"
     ]
    },
    {
     "name": "stderr",
     "output_type": "stream",
     "text": [
      "100%|█████████████████████████████████████████████████████████████████████████████████| 257/257 [01:01<00:00,  4.18it/s]\n",
      "  0%|                                                                                           | 0/257 [00:00<?, ?it/s]"
     ]
    },
    {
     "name": "stdout",
     "output_type": "stream",
     "text": [
      "Final training  188/299 loss: 0.8301 time 61.50s\n",
      "Wed Dec  6 18:10:26 2023 Epoch: 189\n"
     ]
    },
    {
     "name": "stderr",
     "output_type": "stream",
     "text": [
      "100%|█████████████████████████████████████████████████████████████████████████████████| 257/257 [01:01<00:00,  4.19it/s]\n",
      "  0%|                                                                                            | 0/37 [00:00<?, ?it/s]"
     ]
    },
    {
     "name": "stdout",
     "output_type": "stream",
     "text": [
      "Final training  189/299 loss: 0.8470 time 61.29s\n"
     ]
    },
    {
     "name": "stderr",
     "output_type": "stream",
     "text": [
      "100%|███████████████████████████████████████████████████████████████████████████████████| 37/37 [00:40<00:00,  1.09s/it]\n",
      "  0%|                                                                                           | 0/257 [00:00<?, ?it/s]"
     ]
    },
    {
     "name": "stdout",
     "output_type": "stream",
     "text": [
      "Final validation stats 189/299 , dice_tc: 0.0 , dice_wt: 0.0 , dice_et: 0.0 , Dice_Avg: 0.0 , time 40.27s\n",
      "Wed Dec  6 18:12:07 2023 Epoch: 190\n"
     ]
    },
    {
     "name": "stderr",
     "output_type": "stream",
     "text": [
      "100%|█████████████████████████████████████████████████████████████████████████████████| 257/257 [01:03<00:00,  4.07it/s]\n",
      "  0%|                                                                                           | 0/257 [00:00<?, ?it/s]"
     ]
    },
    {
     "name": "stdout",
     "output_type": "stream",
     "text": [
      "Final training  190/299 loss: 0.8495 time 63.09s\n",
      "Wed Dec  6 18:13:10 2023 Epoch: 191\n"
     ]
    },
    {
     "name": "stderr",
     "output_type": "stream",
     "text": [
      "100%|█████████████████████████████████████████████████████████████████████████████████| 257/257 [01:02<00:00,  4.09it/s]\n",
      "  0%|                                                                                           | 0/257 [00:00<?, ?it/s]"
     ]
    },
    {
     "name": "stdout",
     "output_type": "stream",
     "text": [
      "Final training  191/299 loss: 0.8703 time 62.87s\n",
      "Wed Dec  6 18:14:13 2023 Epoch: 192\n"
     ]
    },
    {
     "name": "stderr",
     "output_type": "stream",
     "text": [
      "100%|█████████████████████████████████████████████████████████████████████████████████| 257/257 [01:03<00:00,  4.07it/s]\n",
      "  0%|                                                                                           | 0/257 [00:00<?, ?it/s]"
     ]
    },
    {
     "name": "stdout",
     "output_type": "stream",
     "text": [
      "Final training  192/299 loss: 0.8145 time 63.17s\n",
      "Wed Dec  6 18:15:16 2023 Epoch: 193\n"
     ]
    },
    {
     "name": "stderr",
     "output_type": "stream",
     "text": [
      "100%|█████████████████████████████████████████████████████████████████████████████████| 257/257 [01:02<00:00,  4.09it/s]\n",
      "  0%|                                                                                           | 0/257 [00:00<?, ?it/s]"
     ]
    },
    {
     "name": "stdout",
     "output_type": "stream",
     "text": [
      "Final training  193/299 loss: 0.8599 time 62.80s\n",
      "Wed Dec  6 18:16:19 2023 Epoch: 194\n"
     ]
    },
    {
     "name": "stderr",
     "output_type": "stream",
     "text": [
      "100%|█████████████████████████████████████████████████████████████████████████████████| 257/257 [01:02<00:00,  4.09it/s]\n",
      "  0%|                                                                                           | 0/257 [00:00<?, ?it/s]"
     ]
    },
    {
     "name": "stdout",
     "output_type": "stream",
     "text": [
      "Final training  194/299 loss: 0.8573 time 62.83s\n",
      "Wed Dec  6 18:17:22 2023 Epoch: 195\n"
     ]
    },
    {
     "name": "stderr",
     "output_type": "stream",
     "text": [
      "100%|█████████████████████████████████████████████████████████████████████████████████| 257/257 [01:02<00:00,  4.10it/s]\n",
      "  0%|                                                                                           | 0/257 [00:00<?, ?it/s]"
     ]
    },
    {
     "name": "stdout",
     "output_type": "stream",
     "text": [
      "Final training  195/299 loss: 0.8638 time 62.76s\n",
      "Wed Dec  6 18:18:25 2023 Epoch: 196\n"
     ]
    },
    {
     "name": "stderr",
     "output_type": "stream",
     "text": [
      "100%|█████████████████████████████████████████████████████████████████████████████████| 257/257 [01:01<00:00,  4.15it/s]\n",
      "  0%|                                                                                           | 0/257 [00:00<?, ?it/s]"
     ]
    },
    {
     "name": "stdout",
     "output_type": "stream",
     "text": [
      "Final training  196/299 loss: 0.8755 time 61.86s\n",
      "Wed Dec  6 18:19:27 2023 Epoch: 197\n"
     ]
    },
    {
     "name": "stderr",
     "output_type": "stream",
     "text": [
      "100%|█████████████████████████████████████████████████████████████████████████████████| 257/257 [01:02<00:00,  4.10it/s]\n",
      "  0%|                                                                                           | 0/257 [00:00<?, ?it/s]"
     ]
    },
    {
     "name": "stdout",
     "output_type": "stream",
     "text": [
      "Final training  197/299 loss: 0.8703 time 62.68s\n",
      "Wed Dec  6 18:20:29 2023 Epoch: 198\n"
     ]
    },
    {
     "name": "stderr",
     "output_type": "stream",
     "text": [
      "100%|█████████████████████████████████████████████████████████████████████████████████| 257/257 [01:03<00:00,  4.06it/s]\n",
      "  0%|                                                                                           | 0/257 [00:00<?, ?it/s]"
     ]
    },
    {
     "name": "stdout",
     "output_type": "stream",
     "text": [
      "Final training  198/299 loss: 0.8314 time 63.26s\n",
      "Wed Dec  6 18:21:33 2023 Epoch: 199\n"
     ]
    },
    {
     "name": "stderr",
     "output_type": "stream",
     "text": [
      "100%|█████████████████████████████████████████████████████████████████████████████████| 257/257 [01:04<00:00,  4.01it/s]\n",
      "  0%|                                                                                            | 0/37 [00:00<?, ?it/s]"
     ]
    },
    {
     "name": "stdout",
     "output_type": "stream",
     "text": [
      "Final training  199/299 loss: 0.8599 time 64.13s\n"
     ]
    },
    {
     "name": "stderr",
     "output_type": "stream",
     "text": [
      "100%|███████████████████████████████████████████████████████████████████████████████████| 37/37 [00:40<00:00,  1.10s/it]\n",
      "  0%|                                                                                           | 0/257 [00:00<?, ?it/s]"
     ]
    },
    {
     "name": "stdout",
     "output_type": "stream",
     "text": [
      "Final validation stats 199/299 , dice_tc: 0.0 , dice_wt: 0.0 , dice_et: 0.0 , Dice_Avg: 0.0 , time 40.70s\n",
      "Wed Dec  6 18:23:17 2023 Epoch: 200\n"
     ]
    },
    {
     "name": "stderr",
     "output_type": "stream",
     "text": [
      "100%|█████████████████████████████████████████████████████████████████████████████████| 257/257 [01:02<00:00,  4.11it/s]\n",
      "  0%|                                                                                           | 0/257 [00:00<?, ?it/s]"
     ]
    },
    {
     "name": "stdout",
     "output_type": "stream",
     "text": [
      "Final training  200/299 loss: 0.8418 time 62.47s\n",
      "Wed Dec  6 18:24:20 2023 Epoch: 201\n"
     ]
    },
    {
     "name": "stderr",
     "output_type": "stream",
     "text": [
      "100%|█████████████████████████████████████████████████████████████████████████████████| 257/257 [01:02<00:00,  4.12it/s]\n",
      "  0%|                                                                                           | 0/257 [00:00<?, ?it/s]"
     ]
    },
    {
     "name": "stdout",
     "output_type": "stream",
     "text": [
      "Final training  201/299 loss: 0.8366 time 62.40s\n",
      "Wed Dec  6 18:25:22 2023 Epoch: 202\n"
     ]
    },
    {
     "name": "stderr",
     "output_type": "stream",
     "text": [
      "100%|█████████████████████████████████████████████████████████████████████████████████| 257/257 [01:02<00:00,  4.14it/s]\n",
      "  0%|                                                                                           | 0/257 [00:00<?, ?it/s]"
     ]
    },
    {
     "name": "stdout",
     "output_type": "stream",
     "text": [
      "Final training  202/299 loss: 0.8599 time 62.01s\n",
      "Wed Dec  6 18:26:24 2023 Epoch: 203\n"
     ]
    },
    {
     "name": "stderr",
     "output_type": "stream",
     "text": [
      "100%|█████████████████████████████████████████████████████████████████████████████████| 257/257 [01:07<00:00,  3.81it/s]\n",
      "  0%|                                                                                           | 0/257 [00:00<?, ?it/s]"
     ]
    },
    {
     "name": "stdout",
     "output_type": "stream",
     "text": [
      "Final training  203/299 loss: 0.8547 time 67.44s\n",
      "Wed Dec  6 18:27:32 2023 Epoch: 204\n"
     ]
    },
    {
     "name": "stderr",
     "output_type": "stream",
     "text": [
      "100%|█████████████████████████████████████████████████████████████████████████████████| 257/257 [01:03<00:00,  4.02it/s]\n",
      "  0%|                                                                                           | 0/257 [00:00<?, ?it/s]"
     ]
    },
    {
     "name": "stdout",
     "output_type": "stream",
     "text": [
      "Final training  204/299 loss: 0.8794 time 63.99s\n",
      "Wed Dec  6 18:28:36 2023 Epoch: 205\n"
     ]
    },
    {
     "name": "stderr",
     "output_type": "stream",
     "text": [
      "100%|█████████████████████████████████████████████████████████████████████████████████| 257/257 [01:02<00:00,  4.09it/s]\n",
      "  0%|                                                                                           | 0/257 [00:00<?, ?it/s]"
     ]
    },
    {
     "name": "stdout",
     "output_type": "stream",
     "text": [
      "Final training  205/299 loss: 0.8275 time 62.84s\n",
      "Wed Dec  6 18:29:38 2023 Epoch: 206\n"
     ]
    },
    {
     "name": "stderr",
     "output_type": "stream",
     "text": [
      "100%|█████████████████████████████████████████████████████████████████████████████████| 257/257 [01:01<00:00,  4.15it/s]\n",
      "  0%|                                                                                           | 0/257 [00:00<?, ?it/s]"
     ]
    },
    {
     "name": "stdout",
     "output_type": "stream",
     "text": [
      "Final training  206/299 loss: 0.8560 time 61.86s\n",
      "Wed Dec  6 18:30:40 2023 Epoch: 207\n"
     ]
    },
    {
     "name": "stderr",
     "output_type": "stream",
     "text": [
      "100%|█████████████████████████████████████████████████████████████████████████████████| 257/257 [01:04<00:00,  4.02it/s]\n",
      "  0%|                                                                                           | 0/257 [00:00<?, ?it/s]"
     ]
    },
    {
     "name": "stdout",
     "output_type": "stream",
     "text": [
      "Final training  207/299 loss: 0.8482 time 64.01s\n",
      "Wed Dec  6 18:31:44 2023 Epoch: 208\n"
     ]
    },
    {
     "name": "stderr",
     "output_type": "stream",
     "text": [
      "100%|█████████████████████████████████████████████████████████████████████████████████| 257/257 [01:01<00:00,  4.18it/s]\n",
      "  0%|                                                                                           | 0/257 [00:00<?, ?it/s]"
     ]
    },
    {
     "name": "stdout",
     "output_type": "stream",
     "text": [
      "Final training  208/299 loss: 0.8340 time 61.52s\n",
      "Wed Dec  6 18:32:46 2023 Epoch: 209\n"
     ]
    },
    {
     "name": "stderr",
     "output_type": "stream",
     "text": [
      "100%|█████████████████████████████████████████████████████████████████████████████████| 257/257 [01:02<00:00,  4.09it/s]\n",
      "  0%|                                                                                            | 0/37 [00:00<?, ?it/s]"
     ]
    },
    {
     "name": "stdout",
     "output_type": "stream",
     "text": [
      "Final training  209/299 loss: 0.8560 time 62.91s\n"
     ]
    },
    {
     "name": "stderr",
     "output_type": "stream",
     "text": [
      "100%|███████████████████████████████████████████████████████████████████████████████████| 37/37 [00:40<00:00,  1.09s/it]\n",
      "  0%|                                                                                           | 0/257 [00:00<?, ?it/s]"
     ]
    },
    {
     "name": "stdout",
     "output_type": "stream",
     "text": [
      "Final validation stats 209/299 , dice_tc: 0.0 , dice_wt: 0.0 , dice_et: 0.0 , Dice_Avg: 0.0 , time 40.20s\n",
      "Wed Dec  6 18:34:29 2023 Epoch: 210\n"
     ]
    },
    {
     "name": "stderr",
     "output_type": "stream",
     "text": [
      "100%|█████████████████████████████████████████████████████████████████████████████████| 257/257 [01:02<00:00,  4.09it/s]\n",
      "  0%|                                                                                           | 0/257 [00:00<?, ?it/s]"
     ]
    },
    {
     "name": "stdout",
     "output_type": "stream",
     "text": [
      "Final training  210/299 loss: 0.8690 time 62.91s\n",
      "Wed Dec  6 18:35:32 2023 Epoch: 211\n"
     ]
    },
    {
     "name": "stderr",
     "output_type": "stream",
     "text": [
      "100%|█████████████████████████████████████████████████████████████████████████████████| 257/257 [01:02<00:00,  4.14it/s]\n",
      "  0%|                                                                                           | 0/257 [00:00<?, ?it/s]"
     ]
    },
    {
     "name": "stdout",
     "output_type": "stream",
     "text": [
      "Final training  211/299 loss: 0.8366 time 62.10s\n",
      "Wed Dec  6 18:36:34 2023 Epoch: 212\n"
     ]
    },
    {
     "name": "stderr",
     "output_type": "stream",
     "text": [
      "100%|█████████████████████████████████████████████████████████████████████████████████| 257/257 [01:02<00:00,  4.11it/s]\n",
      "  0%|                                                                                           | 0/257 [00:00<?, ?it/s]"
     ]
    },
    {
     "name": "stdout",
     "output_type": "stream",
     "text": [
      "Final training  212/299 loss: 0.8560 time 62.58s\n",
      "Wed Dec  6 18:37:37 2023 Epoch: 213\n"
     ]
    },
    {
     "name": "stderr",
     "output_type": "stream",
     "text": [
      "100%|█████████████████████████████████████████████████████████████████████████████████| 257/257 [01:02<00:00,  4.09it/s]\n",
      "  0%|                                                                                           | 0/257 [00:00<?, ?it/s]"
     ]
    },
    {
     "name": "stdout",
     "output_type": "stream",
     "text": [
      "Final training  213/299 loss: 0.8521 time 62.83s\n",
      "Wed Dec  6 18:38:39 2023 Epoch: 214\n"
     ]
    },
    {
     "name": "stderr",
     "output_type": "stream",
     "text": [
      "100%|█████████████████████████████████████████████████████████████████████████████████| 257/257 [01:01<00:00,  4.21it/s]\n",
      "  0%|                                                                                           | 0/257 [00:00<?, ?it/s]"
     ]
    },
    {
     "name": "stdout",
     "output_type": "stream",
     "text": [
      "Final training  214/299 loss: 0.8807 time 61.07s\n",
      "Wed Dec  6 18:39:40 2023 Epoch: 215\n"
     ]
    },
    {
     "name": "stderr",
     "output_type": "stream",
     "text": [
      "100%|█████████████████████████████████████████████████████████████████████████████████| 257/257 [01:01<00:00,  4.20it/s]\n",
      "  0%|                                                                                           | 0/257 [00:00<?, ?it/s]"
     ]
    },
    {
     "name": "stdout",
     "output_type": "stream",
     "text": [
      "Final training  215/299 loss: 0.8560 time 61.23s\n",
      "Wed Dec  6 18:40:42 2023 Epoch: 216\n"
     ]
    },
    {
     "name": "stderr",
     "output_type": "stream",
     "text": [
      "100%|█████████████████████████████████████████████████████████████████████████████████| 257/257 [01:01<00:00,  4.16it/s]\n",
      "  0%|                                                                                           | 0/257 [00:00<?, ?it/s]"
     ]
    },
    {
     "name": "stdout",
     "output_type": "stream",
     "text": [
      "Final training  216/299 loss: 0.8444 time 61.72s\n",
      "Wed Dec  6 18:41:43 2023 Epoch: 217\n"
     ]
    },
    {
     "name": "stderr",
     "output_type": "stream",
     "text": [
      "100%|█████████████████████████████████████████████████████████████████████████████████| 257/257 [01:03<00:00,  4.07it/s]\n",
      "  0%|                                                                                           | 0/257 [00:00<?, ?it/s]"
     ]
    },
    {
     "name": "stdout",
     "output_type": "stream",
     "text": [
      "Final training  217/299 loss: 0.8392 time 63.11s\n",
      "Wed Dec  6 18:42:47 2023 Epoch: 218\n"
     ]
    },
    {
     "name": "stderr",
     "output_type": "stream",
     "text": [
      "100%|█████████████████████████████████████████████████████████████████████████████████| 257/257 [01:02<00:00,  4.14it/s]\n",
      "  0%|                                                                                           | 0/257 [00:00<?, ?it/s]"
     ]
    },
    {
     "name": "stdout",
     "output_type": "stream",
     "text": [
      "Final training  218/299 loss: 0.8872 time 62.10s\n",
      "Wed Dec  6 18:43:49 2023 Epoch: 219\n"
     ]
    },
    {
     "name": "stderr",
     "output_type": "stream",
     "text": [
      "100%|█████████████████████████████████████████████████████████████████████████████████| 257/257 [01:08<00:00,  3.76it/s]\n",
      "  0%|                                                                                            | 0/37 [00:00<?, ?it/s]"
     ]
    },
    {
     "name": "stdout",
     "output_type": "stream",
     "text": [
      "Final training  219/299 loss: 0.8482 time 68.30s\n"
     ]
    },
    {
     "name": "stderr",
     "output_type": "stream",
     "text": [
      "100%|███████████████████████████████████████████████████████████████████████████████████| 37/37 [00:40<00:00,  1.11s/it]\n",
      "  0%|                                                                                           | 0/257 [00:00<?, ?it/s]"
     ]
    },
    {
     "name": "stdout",
     "output_type": "stream",
     "text": [
      "Final validation stats 219/299 , dice_tc: 0.0 , dice_wt: 0.0 , dice_et: 0.0 , Dice_Avg: 0.0 , time 40.99s\n",
      "Wed Dec  6 18:45:38 2023 Epoch: 220\n"
     ]
    },
    {
     "name": "stderr",
     "output_type": "stream",
     "text": [
      "100%|█████████████████████████████████████████████████████████████████████████████████| 257/257 [01:03<00:00,  4.04it/s]\n",
      "  0%|                                                                                           | 0/257 [00:00<?, ?it/s]"
     ]
    },
    {
     "name": "stdout",
     "output_type": "stream",
     "text": [
      "Final training  220/299 loss: 0.8586 time 63.58s\n",
      "Wed Dec  6 18:46:42 2023 Epoch: 221\n"
     ]
    },
    {
     "name": "stderr",
     "output_type": "stream",
     "text": [
      "100%|█████████████████████████████████████████████████████████████████████████████████| 257/257 [01:03<00:00,  4.05it/s]\n",
      "  0%|                                                                                           | 0/257 [00:00<?, ?it/s]"
     ]
    },
    {
     "name": "stdout",
     "output_type": "stream",
     "text": [
      "Final training  221/299 loss: 0.8599 time 63.42s\n",
      "Wed Dec  6 18:47:45 2023 Epoch: 222\n"
     ]
    },
    {
     "name": "stderr",
     "output_type": "stream",
     "text": [
      "100%|█████████████████████████████████████████████████████████████████████████████████| 257/257 [01:00<00:00,  4.23it/s]\n",
      "  0%|                                                                                           | 0/257 [00:00<?, ?it/s]"
     ]
    },
    {
     "name": "stdout",
     "output_type": "stream",
     "text": [
      "Final training  222/299 loss: 0.8314 time 60.81s\n",
      "Wed Dec  6 18:48:46 2023 Epoch: 223\n"
     ]
    },
    {
     "name": "stderr",
     "output_type": "stream",
     "text": [
      "100%|█████████████████████████████████████████████████████████████████████████████████| 257/257 [01:03<00:00,  4.05it/s]\n",
      "  0%|                                                                                           | 0/257 [00:00<?, ?it/s]"
     ]
    },
    {
     "name": "stdout",
     "output_type": "stream",
     "text": [
      "Final training  223/299 loss: 0.8872 time 63.45s\n",
      "Wed Dec  6 18:49:49 2023 Epoch: 224\n"
     ]
    },
    {
     "name": "stderr",
     "output_type": "stream",
     "text": [
      "100%|█████████████████████████████████████████████████████████████████████████████████| 257/257 [01:03<00:00,  4.05it/s]\n",
      "  0%|                                                                                           | 0/257 [00:00<?, ?it/s]"
     ]
    },
    {
     "name": "stdout",
     "output_type": "stream",
     "text": [
      "Final training  224/299 loss: 0.8651 time 63.52s\n",
      "Wed Dec  6 18:50:53 2023 Epoch: 225\n"
     ]
    },
    {
     "name": "stderr",
     "output_type": "stream",
     "text": [
      "100%|█████████████████████████████████████████████████████████████████████████████████| 257/257 [01:02<00:00,  4.12it/s]\n",
      "  0%|                                                                                           | 0/257 [00:00<?, ?it/s]"
     ]
    },
    {
     "name": "stdout",
     "output_type": "stream",
     "text": [
      "Final training  225/299 loss: 0.8470 time 62.37s\n",
      "Wed Dec  6 18:51:55 2023 Epoch: 226\n"
     ]
    },
    {
     "name": "stderr",
     "output_type": "stream",
     "text": [
      "100%|█████████████████████████████████████████████████████████████████████████████████| 257/257 [01:03<00:00,  4.04it/s]\n",
      "  0%|                                                                                           | 0/257 [00:00<?, ?it/s]"
     ]
    },
    {
     "name": "stdout",
     "output_type": "stream",
     "text": [
      "Final training  226/299 loss: 0.8249 time 63.56s\n",
      "Wed Dec  6 18:52:59 2023 Epoch: 227\n"
     ]
    },
    {
     "name": "stderr",
     "output_type": "stream",
     "text": [
      "100%|█████████████████████████████████████████████████████████████████████████████████| 257/257 [01:01<00:00,  4.20it/s]\n",
      "  0%|                                                                                           | 0/257 [00:00<?, ?it/s]"
     ]
    },
    {
     "name": "stdout",
     "output_type": "stream",
     "text": [
      "Final training  227/299 loss: 0.8210 time 61.16s\n",
      "Wed Dec  6 18:54:00 2023 Epoch: 228\n"
     ]
    },
    {
     "name": "stderr",
     "output_type": "stream",
     "text": [
      "100%|█████████████████████████████████████████████████████████████████████████████████| 257/257 [01:01<00:00,  4.15it/s]\n",
      "  0%|                                                                                           | 0/257 [00:00<?, ?it/s]"
     ]
    },
    {
     "name": "stdout",
     "output_type": "stream",
     "text": [
      "Final training  228/299 loss: 0.8547 time 61.89s\n",
      "Wed Dec  6 18:55:02 2023 Epoch: 229\n"
     ]
    },
    {
     "name": "stderr",
     "output_type": "stream",
     "text": [
      "100%|█████████████████████████████████████████████████████████████████████████████████| 257/257 [01:03<00:00,  4.04it/s]\n",
      "  0%|                                                                                            | 0/37 [00:00<?, ?it/s]"
     ]
    },
    {
     "name": "stdout",
     "output_type": "stream",
     "text": [
      "Final training  229/299 loss: 0.8444 time 63.62s\n"
     ]
    },
    {
     "name": "stderr",
     "output_type": "stream",
     "text": [
      "100%|███████████████████████████████████████████████████████████████████████████████████| 37/37 [00:40<00:00,  1.09s/it]\n",
      "  0%|                                                                                           | 0/257 [00:00<?, ?it/s]"
     ]
    },
    {
     "name": "stdout",
     "output_type": "stream",
     "text": [
      "Final validation stats 229/299 , dice_tc: 0.0 , dice_wt: 0.0 , dice_et: 0.0 , Dice_Avg: 0.0 , time 40.16s\n",
      "Wed Dec  6 18:56:45 2023 Epoch: 230\n"
     ]
    },
    {
     "name": "stderr",
     "output_type": "stream",
     "text": [
      "100%|█████████████████████████████████████████████████████████████████████████████████| 257/257 [01:03<00:00,  4.02it/s]\n",
      "  0%|                                                                                           | 0/257 [00:00<?, ?it/s]"
     ]
    },
    {
     "name": "stdout",
     "output_type": "stream",
     "text": [
      "Final training  230/299 loss: 0.8534 time 63.98s\n",
      "Wed Dec  6 18:57:49 2023 Epoch: 231\n"
     ]
    },
    {
     "name": "stderr",
     "output_type": "stream",
     "text": [
      "100%|█████████████████████████████████████████████████████████████████████████████████| 257/257 [01:02<00:00,  4.09it/s]\n",
      "  0%|                                                                                           | 0/257 [00:00<?, ?it/s]"
     ]
    },
    {
     "name": "stdout",
     "output_type": "stream",
     "text": [
      "Final training  231/299 loss: 0.8444 time 62.87s\n",
      "Wed Dec  6 18:58:52 2023 Epoch: 232\n"
     ]
    },
    {
     "name": "stderr",
     "output_type": "stream",
     "text": [
      "100%|█████████████████████████████████████████████████████████████████████████████████| 257/257 [01:03<00:00,  4.06it/s]\n",
      "  0%|                                                                                           | 0/257 [00:00<?, ?it/s]"
     ]
    },
    {
     "name": "stdout",
     "output_type": "stream",
     "text": [
      "Final training  232/299 loss: 0.8755 time 63.27s\n",
      "Wed Dec  6 18:59:56 2023 Epoch: 233\n"
     ]
    },
    {
     "name": "stderr",
     "output_type": "stream",
     "text": [
      "100%|█████████████████████████████████████████████████████████████████████████████████| 257/257 [01:03<00:00,  4.07it/s]\n",
      "  0%|                                                                                           | 0/257 [00:00<?, ?it/s]"
     ]
    },
    {
     "name": "stdout",
     "output_type": "stream",
     "text": [
      "Final training  233/299 loss: 0.8651 time 63.09s\n",
      "Wed Dec  6 19:00:59 2023 Epoch: 234\n"
     ]
    },
    {
     "name": "stderr",
     "output_type": "stream",
     "text": [
      "100%|█████████████████████████████████████████████████████████████████████████████████| 257/257 [01:06<00:00,  3.88it/s]\n",
      "  0%|                                                                                           | 0/257 [00:00<?, ?it/s]"
     ]
    },
    {
     "name": "stdout",
     "output_type": "stream",
     "text": [
      "Final training  234/299 loss: 0.8327 time 66.19s\n",
      "Wed Dec  6 19:02:05 2023 Epoch: 235\n"
     ]
    },
    {
     "name": "stderr",
     "output_type": "stream",
     "text": [
      "100%|█████████████████████████████████████████████████████████████████████████████████| 257/257 [01:02<00:00,  4.12it/s]\n",
      "  0%|                                                                                           | 0/257 [00:00<?, ?it/s]"
     ]
    },
    {
     "name": "stdout",
     "output_type": "stream",
     "text": [
      "Final training  235/299 loss: 0.8586 time 62.41s\n",
      "Wed Dec  6 19:03:07 2023 Epoch: 236\n"
     ]
    },
    {
     "name": "stderr",
     "output_type": "stream",
     "text": [
      "100%|█████████████████████████████████████████████████████████████████████████████████| 257/257 [01:01<00:00,  4.15it/s]\n",
      "  0%|                                                                                           | 0/257 [00:00<?, ?it/s]"
     ]
    },
    {
     "name": "stdout",
     "output_type": "stream",
     "text": [
      "Final training  236/299 loss: 0.8534 time 61.86s\n",
      "Wed Dec  6 19:04:09 2023 Epoch: 237\n"
     ]
    },
    {
     "name": "stderr",
     "output_type": "stream",
     "text": [
      "100%|█████████████████████████████████████████████████████████████████████████████████| 257/257 [01:02<00:00,  4.12it/s]\n",
      "  0%|                                                                                           | 0/257 [00:00<?, ?it/s]"
     ]
    },
    {
     "name": "stdout",
     "output_type": "stream",
     "text": [
      "Final training  237/299 loss: 0.8599 time 62.38s\n",
      "Wed Dec  6 19:05:12 2023 Epoch: 238\n"
     ]
    },
    {
     "name": "stderr",
     "output_type": "stream",
     "text": [
      "100%|█████████████████████████████████████████████████████████████████████████████████| 257/257 [01:03<00:00,  4.07it/s]\n",
      "  0%|                                                                                           | 0/257 [00:00<?, ?it/s]"
     ]
    },
    {
     "name": "stdout",
     "output_type": "stream",
     "text": [
      "Final training  238/299 loss: 0.8457 time 63.12s\n",
      "Wed Dec  6 19:06:15 2023 Epoch: 239\n"
     ]
    },
    {
     "name": "stderr",
     "output_type": "stream",
     "text": [
      "100%|█████████████████████████████████████████████████████████████████████████████████| 257/257 [01:01<00:00,  4.15it/s]\n",
      "  0%|                                                                                            | 0/37 [00:00<?, ?it/s]"
     ]
    },
    {
     "name": "stdout",
     "output_type": "stream",
     "text": [
      "Final training  239/299 loss: 0.8586 time 61.97s\n"
     ]
    },
    {
     "name": "stderr",
     "output_type": "stream",
     "text": [
      "100%|███████████████████████████████████████████████████████████████████████████████████| 37/37 [00:40<00:00,  1.10s/it]\n",
      "  0%|                                                                                           | 0/257 [00:00<?, ?it/s]"
     ]
    },
    {
     "name": "stdout",
     "output_type": "stream",
     "text": [
      "Final validation stats 239/299 , dice_tc: 0.0 , dice_wt: 0.0 , dice_et: 0.0 , Dice_Avg: 0.0 , time 40.57s\n",
      "Wed Dec  6 19:07:57 2023 Epoch: 240\n"
     ]
    },
    {
     "name": "stderr",
     "output_type": "stream",
     "text": [
      "100%|█████████████████████████████████████████████████████████████████████████████████| 257/257 [01:02<00:00,  4.10it/s]\n",
      "  0%|                                                                                           | 0/257 [00:00<?, ?it/s]"
     ]
    },
    {
     "name": "stdout",
     "output_type": "stream",
     "text": [
      "Final training  240/299 loss: 0.8560 time 62.64s\n",
      "Wed Dec  6 19:09:00 2023 Epoch: 241\n"
     ]
    },
    {
     "name": "stderr",
     "output_type": "stream",
     "text": [
      "100%|█████████████████████████████████████████████████████████████████████████████████| 257/257 [01:02<00:00,  4.11it/s]\n",
      "  0%|                                                                                           | 0/257 [00:00<?, ?it/s]"
     ]
    },
    {
     "name": "stdout",
     "output_type": "stream",
     "text": [
      "Final training  241/299 loss: 0.8638 time 62.57s\n",
      "Wed Dec  6 19:10:02 2023 Epoch: 242\n"
     ]
    },
    {
     "name": "stderr",
     "output_type": "stream",
     "text": [
      "100%|█████████████████████████████████████████████████████████████████████████████████| 257/257 [01:04<00:00,  4.01it/s]\n",
      "  0%|                                                                                           | 0/257 [00:00<?, ?it/s]"
     ]
    },
    {
     "name": "stdout",
     "output_type": "stream",
     "text": [
      "Final training  242/299 loss: 0.8781 time 64.13s\n",
      "Wed Dec  6 19:11:07 2023 Epoch: 243\n"
     ]
    },
    {
     "name": "stderr",
     "output_type": "stream",
     "text": [
      "100%|█████████████████████████████████████████████████████████████████████████████████| 257/257 [01:02<00:00,  4.10it/s]\n",
      "  0%|                                                                                           | 0/257 [00:00<?, ?it/s]"
     ]
    },
    {
     "name": "stdout",
     "output_type": "stream",
     "text": [
      "Final training  243/299 loss: 0.8599 time 62.61s\n",
      "Wed Dec  6 19:12:09 2023 Epoch: 244\n"
     ]
    },
    {
     "name": "stderr",
     "output_type": "stream",
     "text": [
      "100%|█████████████████████████████████████████████████████████████████████████████████| 257/257 [01:02<00:00,  4.10it/s]\n",
      "  0%|                                                                                           | 0/257 [00:00<?, ?it/s]"
     ]
    },
    {
     "name": "stdout",
     "output_type": "stream",
     "text": [
      "Final training  244/299 loss: 0.8612 time 62.68s\n",
      "Wed Dec  6 19:13:12 2023 Epoch: 245\n"
     ]
    },
    {
     "name": "stderr",
     "output_type": "stream",
     "text": [
      "100%|█████████████████████████████████████████████████████████████████████████████████| 257/257 [01:02<00:00,  4.12it/s]\n",
      "  0%|                                                                                           | 0/257 [00:00<?, ?it/s]"
     ]
    },
    {
     "name": "stdout",
     "output_type": "stream",
     "text": [
      "Final training  245/299 loss: 0.8470 time 62.45s\n",
      "Wed Dec  6 19:14:14 2023 Epoch: 246\n"
     ]
    },
    {
     "name": "stderr",
     "output_type": "stream",
     "text": [
      "100%|█████████████████████████████████████████████████████████████████████████████████| 257/257 [01:04<00:00,  4.00it/s]\n",
      "  0%|                                                                                           | 0/257 [00:00<?, ?it/s]"
     ]
    },
    {
     "name": "stdout",
     "output_type": "stream",
     "text": [
      "Final training  246/299 loss: 0.8405 time 64.25s\n",
      "Wed Dec  6 19:15:19 2023 Epoch: 247\n"
     ]
    },
    {
     "name": "stderr",
     "output_type": "stream",
     "text": [
      "100%|█████████████████████████████████████████████████████████████████████████████████| 257/257 [01:03<00:00,  4.05it/s]\n",
      "  0%|                                                                                           | 0/257 [00:00<?, ?it/s]"
     ]
    },
    {
     "name": "stdout",
     "output_type": "stream",
     "text": [
      "Final training  247/299 loss: 0.8457 time 63.49s\n",
      "Wed Dec  6 19:16:22 2023 Epoch: 248\n"
     ]
    },
    {
     "name": "stderr",
     "output_type": "stream",
     "text": [
      "100%|█████████████████████████████████████████████████████████████████████████████████| 257/257 [01:07<00:00,  3.78it/s]\n",
      "  0%|                                                                                           | 0/257 [00:00<?, ?it/s]"
     ]
    },
    {
     "name": "stdout",
     "output_type": "stream",
     "text": [
      "Final training  248/299 loss: 0.8599 time 67.97s\n",
      "Wed Dec  6 19:17:30 2023 Epoch: 249\n"
     ]
    },
    {
     "name": "stderr",
     "output_type": "stream",
     "text": [
      "100%|█████████████████████████████████████████████████████████████████████████████████| 257/257 [01:01<00:00,  4.15it/s]\n",
      "  0%|                                                                                            | 0/37 [00:00<?, ?it/s]"
     ]
    },
    {
     "name": "stdout",
     "output_type": "stream",
     "text": [
      "Final training  249/299 loss: 0.8418 time 61.96s\n"
     ]
    },
    {
     "name": "stderr",
     "output_type": "stream",
     "text": [
      "100%|███████████████████████████████████████████████████████████████████████████████████| 37/37 [00:41<00:00,  1.13s/it]\n",
      "  0%|                                                                                           | 0/257 [00:00<?, ?it/s]"
     ]
    },
    {
     "name": "stdout",
     "output_type": "stream",
     "text": [
      "Final validation stats 249/299 , dice_tc: 0.0 , dice_wt: 0.0 , dice_et: 0.0 , Dice_Avg: 0.0 , time 41.76s\n",
      "Wed Dec  6 19:19:14 2023 Epoch: 250\n"
     ]
    },
    {
     "name": "stderr",
     "output_type": "stream",
     "text": [
      "100%|█████████████████████████████████████████████████████████████████████████████████| 257/257 [01:03<00:00,  4.07it/s]\n",
      "  0%|                                                                                           | 0/257 [00:00<?, ?it/s]"
     ]
    },
    {
     "name": "stdout",
     "output_type": "stream",
     "text": [
      "Final training  250/299 loss: 0.8716 time 63.10s\n",
      "Wed Dec  6 19:20:17 2023 Epoch: 251\n"
     ]
    },
    {
     "name": "stderr",
     "output_type": "stream",
     "text": [
      "100%|█████████████████████████████████████████████████████████████████████████████████| 257/257 [01:03<00:00,  4.02it/s]\n",
      "  0%|                                                                                           | 0/257 [00:00<?, ?it/s]"
     ]
    },
    {
     "name": "stdout",
     "output_type": "stream",
     "text": [
      "Final training  251/299 loss: 0.8379 time 63.88s\n",
      "Wed Dec  6 19:21:21 2023 Epoch: 252\n"
     ]
    },
    {
     "name": "stderr",
     "output_type": "stream",
     "text": [
      "100%|█████████████████████████████████████████████████████████████████████████████████| 257/257 [01:03<00:00,  4.06it/s]\n",
      "  0%|                                                                                           | 0/257 [00:00<?, ?it/s]"
     ]
    },
    {
     "name": "stdout",
     "output_type": "stream",
     "text": [
      "Final training  252/299 loss: 0.8482 time 63.34s\n",
      "Wed Dec  6 19:22:24 2023 Epoch: 253\n"
     ]
    },
    {
     "name": "stderr",
     "output_type": "stream",
     "text": [
      "100%|█████████████████████████████████████████████████████████████████████████████████| 257/257 [01:03<00:00,  4.05it/s]\n",
      "  0%|                                                                                           | 0/257 [00:00<?, ?it/s]"
     ]
    },
    {
     "name": "stdout",
     "output_type": "stream",
     "text": [
      "Final training  253/299 loss: 0.8638 time 63.42s\n",
      "Wed Dec  6 19:23:27 2023 Epoch: 254\n"
     ]
    },
    {
     "name": "stderr",
     "output_type": "stream",
     "text": [
      "100%|█████████████████████████████████████████████████████████████████████████████████| 257/257 [01:02<00:00,  4.10it/s]\n",
      "  0%|                                                                                           | 0/257 [00:00<?, ?it/s]"
     ]
    },
    {
     "name": "stdout",
     "output_type": "stream",
     "text": [
      "Final training  254/299 loss: 0.8495 time 62.68s\n",
      "Wed Dec  6 19:24:30 2023 Epoch: 255\n"
     ]
    },
    {
     "name": "stderr",
     "output_type": "stream",
     "text": [
      "100%|█████████████████████████████████████████████████████████████████████████████████| 257/257 [01:04<00:00,  3.98it/s]\n",
      "  0%|                                                                                           | 0/257 [00:00<?, ?it/s]"
     ]
    },
    {
     "name": "stdout",
     "output_type": "stream",
     "text": [
      "Final training  255/299 loss: 0.8457 time 64.59s\n",
      "Wed Dec  6 19:25:35 2023 Epoch: 256\n"
     ]
    },
    {
     "name": "stderr",
     "output_type": "stream",
     "text": [
      "100%|█████████████████████████████████████████████████████████████████████████████████| 257/257 [01:02<00:00,  4.13it/s]\n",
      "  0%|                                                                                           | 0/257 [00:00<?, ?it/s]"
     ]
    },
    {
     "name": "stdout",
     "output_type": "stream",
     "text": [
      "Final training  256/299 loss: 0.8275 time 62.22s\n",
      "Wed Dec  6 19:26:37 2023 Epoch: 257\n"
     ]
    },
    {
     "name": "stderr",
     "output_type": "stream",
     "text": [
      "100%|█████████████████████████████████████████████████████████████████████████████████| 257/257 [01:04<00:00,  4.01it/s]\n",
      "  0%|                                                                                           | 0/257 [00:00<?, ?it/s]"
     ]
    },
    {
     "name": "stdout",
     "output_type": "stream",
     "text": [
      "Final training  257/299 loss: 0.8547 time 64.03s\n",
      "Wed Dec  6 19:27:41 2023 Epoch: 258\n"
     ]
    },
    {
     "name": "stderr",
     "output_type": "stream",
     "text": [
      "100%|█████████████████████████████████████████████████████████████████████████████████| 257/257 [01:03<00:00,  4.06it/s]\n",
      "  0%|                                                                                           | 0/257 [00:00<?, ?it/s]"
     ]
    },
    {
     "name": "stdout",
     "output_type": "stream",
     "text": [
      "Final training  258/299 loss: 0.8560 time 63.30s\n",
      "Wed Dec  6 19:28:44 2023 Epoch: 259\n"
     ]
    },
    {
     "name": "stderr",
     "output_type": "stream",
     "text": [
      "100%|█████████████████████████████████████████████████████████████████████████████████| 257/257 [01:03<00:00,  4.05it/s]\n",
      "  0%|                                                                                            | 0/37 [00:00<?, ?it/s]"
     ]
    },
    {
     "name": "stdout",
     "output_type": "stream",
     "text": [
      "Final training  259/299 loss: 0.8560 time 63.53s\n"
     ]
    },
    {
     "name": "stderr",
     "output_type": "stream",
     "text": [
      "100%|███████████████████████████████████████████████████████████████████████████████████| 37/37 [00:40<00:00,  1.09s/it]\n",
      "  0%|                                                                                           | 0/257 [00:00<?, ?it/s]"
     ]
    },
    {
     "name": "stdout",
     "output_type": "stream",
     "text": [
      "Final validation stats 259/299 , dice_tc: 0.0 , dice_wt: 0.0 , dice_et: 0.0 , Dice_Avg: 0.0 , time 40.15s\n",
      "Wed Dec  6 19:30:28 2023 Epoch: 260\n"
     ]
    },
    {
     "name": "stderr",
     "output_type": "stream",
     "text": [
      "100%|█████████████████████████████████████████████████████████████████████████████████| 257/257 [01:03<00:00,  4.06it/s]\n",
      "  0%|                                                                                           | 0/257 [00:00<?, ?it/s]"
     ]
    },
    {
     "name": "stdout",
     "output_type": "stream",
     "text": [
      "Final training  260/299 loss: 0.8470 time 63.38s\n",
      "Wed Dec  6 19:31:31 2023 Epoch: 261\n"
     ]
    },
    {
     "name": "stderr",
     "output_type": "stream",
     "text": [
      "100%|█████████████████████████████████████████████████████████████████████████████████| 257/257 [01:02<00:00,  4.08it/s]\n",
      "  0%|                                                                                           | 0/257 [00:00<?, ?it/s]"
     ]
    },
    {
     "name": "stdout",
     "output_type": "stream",
     "text": [
      "Final training  261/299 loss: 0.8586 time 62.98s\n",
      "Wed Dec  6 19:32:34 2023 Epoch: 262\n"
     ]
    },
    {
     "name": "stderr",
     "output_type": "stream",
     "text": [
      "100%|█████████████████████████████████████████████████████████████████████████████████| 257/257 [01:02<00:00,  4.09it/s]\n",
      "  0%|                                                                                           | 0/257 [00:00<?, ?it/s]"
     ]
    },
    {
     "name": "stdout",
     "output_type": "stream",
     "text": [
      "Final training  262/299 loss: 0.8625 time 62.78s\n",
      "Wed Dec  6 19:33:37 2023 Epoch: 263\n"
     ]
    },
    {
     "name": "stderr",
     "output_type": "stream",
     "text": [
      "100%|█████████████████████████████████████████████████████████████████████████████████| 257/257 [01:02<00:00,  4.10it/s]\n",
      "  0%|                                                                                           | 0/257 [00:00<?, ?it/s]"
     ]
    },
    {
     "name": "stdout",
     "output_type": "stream",
     "text": [
      "Final training  263/299 loss: 0.8405 time 62.75s\n",
      "Wed Dec  6 19:34:40 2023 Epoch: 264\n"
     ]
    },
    {
     "name": "stderr",
     "output_type": "stream",
     "text": [
      "100%|█████████████████████████████████████████████████████████████████████████████████| 257/257 [01:02<00:00,  4.13it/s]\n",
      "  0%|                                                                                           | 0/257 [00:00<?, ?it/s]"
     ]
    },
    {
     "name": "stdout",
     "output_type": "stream",
     "text": [
      "Final training  264/299 loss: 0.8210 time 62.17s\n",
      "Wed Dec  6 19:35:42 2023 Epoch: 265\n"
     ]
    },
    {
     "name": "stderr",
     "output_type": "stream",
     "text": [
      "100%|█████████████████████████████████████████████████████████████████████████████████| 257/257 [01:02<00:00,  4.09it/s]\n",
      "  0%|                                                                                           | 0/257 [00:00<?, ?it/s]"
     ]
    },
    {
     "name": "stdout",
     "output_type": "stream",
     "text": [
      "Final training  265/299 loss: 0.8418 time 62.82s\n",
      "Wed Dec  6 19:36:45 2023 Epoch: 266\n"
     ]
    },
    {
     "name": "stderr",
     "output_type": "stream",
     "text": [
      "100%|█████████████████████████████████████████████████████████████████████████████████| 257/257 [01:05<00:00,  3.92it/s]\n",
      "  0%|                                                                                           | 0/257 [00:00<?, ?it/s]"
     ]
    },
    {
     "name": "stdout",
     "output_type": "stream",
     "text": [
      "Final training  266/299 loss: 0.8327 time 65.55s\n",
      "Wed Dec  6 19:37:50 2023 Epoch: 267\n"
     ]
    },
    {
     "name": "stderr",
     "output_type": "stream",
     "text": [
      "100%|█████████████████████████████████████████████████████████████████████████████████| 257/257 [01:03<00:00,  4.06it/s]\n",
      "  0%|                                                                                           | 0/257 [00:00<?, ?it/s]"
     ]
    },
    {
     "name": "stdout",
     "output_type": "stream",
     "text": [
      "Final training  267/299 loss: 0.8405 time 63.27s\n",
      "Wed Dec  6 19:38:54 2023 Epoch: 268\n"
     ]
    },
    {
     "name": "stderr",
     "output_type": "stream",
     "text": [
      "100%|█████████████████████████████████████████████████████████████████████████████████| 257/257 [01:04<00:00,  4.01it/s]\n",
      "  0%|                                                                                           | 0/257 [00:00<?, ?it/s]"
     ]
    },
    {
     "name": "stdout",
     "output_type": "stream",
     "text": [
      "Final training  268/299 loss: 0.8457 time 64.02s\n",
      "Wed Dec  6 19:39:58 2023 Epoch: 269\n"
     ]
    },
    {
     "name": "stderr",
     "output_type": "stream",
     "text": [
      "100%|█████████████████████████████████████████████████████████████████████████████████| 257/257 [01:01<00:00,  4.19it/s]\n",
      "  0%|                                                                                            | 0/37 [00:00<?, ?it/s]"
     ]
    },
    {
     "name": "stdout",
     "output_type": "stream",
     "text": [
      "Final training  269/299 loss: 0.8495 time 61.27s\n"
     ]
    },
    {
     "name": "stderr",
     "output_type": "stream",
     "text": [
      "100%|███████████████████████████████████████████████████████████████████████████████████| 37/37 [00:40<00:00,  1.09s/it]\n",
      "  0%|                                                                                           | 0/257 [00:00<?, ?it/s]"
     ]
    },
    {
     "name": "stdout",
     "output_type": "stream",
     "text": [
      "Final validation stats 269/299 , dice_tc: 0.0 , dice_wt: 0.0 , dice_et: 0.0 , Dice_Avg: 0.0 , time 40.21s\n",
      "Wed Dec  6 19:41:39 2023 Epoch: 270\n"
     ]
    },
    {
     "name": "stderr",
     "output_type": "stream",
     "text": [
      "100%|█████████████████████████████████████████████████████████████████████████████████| 257/257 [01:03<00:00,  4.04it/s]\n",
      "  0%|                                                                                           | 0/257 [00:00<?, ?it/s]"
     ]
    },
    {
     "name": "stdout",
     "output_type": "stream",
     "text": [
      "Final training  270/299 loss: 0.8755 time 63.62s\n",
      "Wed Dec  6 19:42:43 2023 Epoch: 271\n"
     ]
    },
    {
     "name": "stderr",
     "output_type": "stream",
     "text": [
      "100%|█████████████████████████████████████████████████████████████████████████████████| 257/257 [01:01<00:00,  4.18it/s]\n",
      "  0%|                                                                                           | 0/257 [00:00<?, ?it/s]"
     ]
    },
    {
     "name": "stdout",
     "output_type": "stream",
     "text": [
      "Final training  271/299 loss: 0.8301 time 61.51s\n",
      "Wed Dec  6 19:43:44 2023 Epoch: 272\n"
     ]
    },
    {
     "name": "stderr",
     "output_type": "stream",
     "text": [
      "100%|█████████████████████████████████████████████████████████████████████████████████| 257/257 [01:01<00:00,  4.16it/s]\n",
      "  0%|                                                                                           | 0/257 [00:00<?, ?it/s]"
     ]
    },
    {
     "name": "stdout",
     "output_type": "stream",
     "text": [
      "Final training  272/299 loss: 0.8664 time 61.85s\n",
      "Wed Dec  6 19:44:46 2023 Epoch: 273\n"
     ]
    },
    {
     "name": "stderr",
     "output_type": "stream",
     "text": [
      "100%|█████████████████████████████████████████████████████████████████████████████████| 257/257 [01:03<00:00,  4.06it/s]\n",
      "  0%|                                                                                           | 0/257 [00:00<?, ?it/s]"
     ]
    },
    {
     "name": "stdout",
     "output_type": "stream",
     "text": [
      "Final training  273/299 loss: 0.8547 time 63.28s\n",
      "Wed Dec  6 19:45:49 2023 Epoch: 274\n"
     ]
    },
    {
     "name": "stderr",
     "output_type": "stream",
     "text": [
      "100%|█████████████████████████████████████████████████████████████████████████████████| 257/257 [01:02<00:00,  4.13it/s]\n",
      "  0%|                                                                                           | 0/257 [00:00<?, ?it/s]"
     ]
    },
    {
     "name": "stdout",
     "output_type": "stream",
     "text": [
      "Final training  274/299 loss: 0.8833 time 62.25s\n",
      "Wed Dec  6 19:46:52 2023 Epoch: 275\n"
     ]
    },
    {
     "name": "stderr",
     "output_type": "stream",
     "text": [
      "100%|█████████████████████████████████████████████████████████████████████████████████| 257/257 [01:01<00:00,  4.15it/s]\n",
      "  0%|                                                                                           | 0/257 [00:00<?, ?it/s]"
     ]
    },
    {
     "name": "stdout",
     "output_type": "stream",
     "text": [
      "Final training  275/299 loss: 0.8379 time 61.89s\n",
      "Wed Dec  6 19:47:54 2023 Epoch: 276\n"
     ]
    },
    {
     "name": "stderr",
     "output_type": "stream",
     "text": [
      "100%|█████████████████████████████████████████████████████████████████████████████████| 257/257 [01:03<00:00,  4.07it/s]\n",
      "  0%|                                                                                           | 0/257 [00:00<?, ?it/s]"
     ]
    },
    {
     "name": "stdout",
     "output_type": "stream",
     "text": [
      "Final training  276/299 loss: 0.8405 time 63.20s\n",
      "Wed Dec  6 19:48:57 2023 Epoch: 277\n"
     ]
    },
    {
     "name": "stderr",
     "output_type": "stream",
     "text": [
      "100%|█████████████████████████████████████████████████████████████████████████████████| 257/257 [01:02<00:00,  4.10it/s]\n",
      "  0%|                                                                                           | 0/257 [00:00<?, ?it/s]"
     ]
    },
    {
     "name": "stdout",
     "output_type": "stream",
     "text": [
      "Final training  277/299 loss: 0.8586 time 62.66s\n",
      "Wed Dec  6 19:49:59 2023 Epoch: 278\n"
     ]
    },
    {
     "name": "stderr",
     "output_type": "stream",
     "text": [
      "100%|█████████████████████████████████████████████████████████████████████████████████| 257/257 [01:03<00:00,  4.04it/s]\n",
      "  0%|                                                                                           | 0/257 [00:00<?, ?it/s]"
     ]
    },
    {
     "name": "stdout",
     "output_type": "stream",
     "text": [
      "Final training  278/299 loss: 0.8664 time 63.66s\n",
      "Wed Dec  6 19:51:03 2023 Epoch: 279\n"
     ]
    },
    {
     "name": "stderr",
     "output_type": "stream",
     "text": [
      "100%|█████████████████████████████████████████████████████████████████████████████████| 257/257 [01:03<00:00,  4.02it/s]\n",
      "  0%|                                                                                            | 0/37 [00:00<?, ?it/s]"
     ]
    },
    {
     "name": "stdout",
     "output_type": "stream",
     "text": [
      "Final training  279/299 loss: 0.8716 time 63.87s\n"
     ]
    },
    {
     "name": "stderr",
     "output_type": "stream",
     "text": [
      "100%|███████████████████████████████████████████████████████████████████████████████████| 37/37 [00:40<00:00,  1.09s/it]\n",
      "  0%|                                                                                           | 0/257 [00:00<?, ?it/s]"
     ]
    },
    {
     "name": "stdout",
     "output_type": "stream",
     "text": [
      "Final validation stats 279/299 , dice_tc: 0.0 , dice_wt: 0.0 , dice_et: 0.0 , Dice_Avg: 0.0 , time 40.17s\n",
      "Wed Dec  6 19:52:47 2023 Epoch: 280\n"
     ]
    },
    {
     "name": "stderr",
     "output_type": "stream",
     "text": [
      "100%|█████████████████████████████████████████████████████████████████████████████████| 257/257 [01:02<00:00,  4.09it/s]\n",
      "  0%|                                                                                           | 0/257 [00:00<?, ?it/s]"
     ]
    },
    {
     "name": "stdout",
     "output_type": "stream",
     "text": [
      "Final training  280/299 loss: 0.8470 time 62.78s\n",
      "Wed Dec  6 19:53:50 2023 Epoch: 281\n"
     ]
    },
    {
     "name": "stderr",
     "output_type": "stream",
     "text": [
      "100%|█████████████████████████████████████████████████████████████████████████████████| 257/257 [01:01<00:00,  4.16it/s]\n",
      "  0%|                                                                                           | 0/257 [00:00<?, ?it/s]"
     ]
    },
    {
     "name": "stdout",
     "output_type": "stream",
     "text": [
      "Final training  281/299 loss: 0.8482 time 61.80s\n",
      "Wed Dec  6 19:54:52 2023 Epoch: 282\n"
     ]
    },
    {
     "name": "stderr",
     "output_type": "stream",
     "text": [
      "100%|█████████████████████████████████████████████████████████████████████████████████| 257/257 [01:01<00:00,  4.15it/s]\n",
      "  0%|                                                                                           | 0/257 [00:00<?, ?it/s]"
     ]
    },
    {
     "name": "stdout",
     "output_type": "stream",
     "text": [
      "Final training  282/299 loss: 0.8560 time 61.93s\n",
      "Wed Dec  6 19:55:54 2023 Epoch: 283\n"
     ]
    },
    {
     "name": "stderr",
     "output_type": "stream",
     "text": [
      "100%|█████████████████████████████████████████████████████████████████████████████████| 257/257 [01:02<00:00,  4.12it/s]\n",
      "  0%|                                                                                           | 0/257 [00:00<?, ?it/s]"
     ]
    },
    {
     "name": "stdout",
     "output_type": "stream",
     "text": [
      "Final training  283/299 loss: 0.8353 time 62.36s\n",
      "Wed Dec  6 19:56:56 2023 Epoch: 284\n"
     ]
    },
    {
     "name": "stderr",
     "output_type": "stream",
     "text": [
      "100%|█████████████████████████████████████████████████████████████████████████████████| 257/257 [01:01<00:00,  4.20it/s]\n",
      "  0%|                                                                                           | 0/257 [00:00<?, ?it/s]"
     ]
    },
    {
     "name": "stdout",
     "output_type": "stream",
     "text": [
      "Final training  284/299 loss: 0.8612 time 61.25s\n",
      "Wed Dec  6 19:57:57 2023 Epoch: 285\n"
     ]
    },
    {
     "name": "stderr",
     "output_type": "stream",
     "text": [
      "100%|█████████████████████████████████████████████████████████████████████████████████| 257/257 [01:01<00:00,  4.15it/s]\n",
      "  0%|                                                                                           | 0/257 [00:00<?, ?it/s]"
     ]
    },
    {
     "name": "stdout",
     "output_type": "stream",
     "text": [
      "Final training  285/299 loss: 0.8716 time 61.92s\n",
      "Wed Dec  6 19:58:59 2023 Epoch: 286\n"
     ]
    },
    {
     "name": "stderr",
     "output_type": "stream",
     "text": [
      "100%|█████████████████████████████████████████████████████████████████████████████████| 257/257 [01:03<00:00,  4.08it/s]\n",
      "  0%|                                                                                           | 0/257 [00:00<?, ?it/s]"
     ]
    },
    {
     "name": "stdout",
     "output_type": "stream",
     "text": [
      "Final training  286/299 loss: 0.8677 time 63.01s\n",
      "Wed Dec  6 20:00:02 2023 Epoch: 287\n"
     ]
    },
    {
     "name": "stderr",
     "output_type": "stream",
     "text": [
      "100%|█████████████████████████████████████████████████████████████████████████████████| 257/257 [01:05<00:00,  3.89it/s]\n",
      "  0%|                                                                                           | 0/257 [00:00<?, ?it/s]"
     ]
    },
    {
     "name": "stdout",
     "output_type": "stream",
     "text": [
      "Final training  287/299 loss: 0.8223 time 66.00s\n",
      "Wed Dec  6 20:01:08 2023 Epoch: 288\n"
     ]
    },
    {
     "name": "stderr",
     "output_type": "stream",
     "text": [
      "100%|█████████████████████████████████████████████████████████████████████████████████| 257/257 [01:03<00:00,  4.05it/s]\n",
      "  0%|                                                                                           | 0/257 [00:00<?, ?it/s]"
     ]
    },
    {
     "name": "stdout",
     "output_type": "stream",
     "text": [
      "Final training  288/299 loss: 0.8560 time 63.52s\n",
      "Wed Dec  6 20:02:12 2023 Epoch: 289\n"
     ]
    },
    {
     "name": "stderr",
     "output_type": "stream",
     "text": [
      "100%|█████████████████████████████████████████████████████████████████████████████████| 257/257 [01:03<00:00,  4.03it/s]\n",
      "  0%|                                                                                            | 0/37 [00:00<?, ?it/s]"
     ]
    },
    {
     "name": "stdout",
     "output_type": "stream",
     "text": [
      "Final training  289/299 loss: 0.8405 time 63.71s\n"
     ]
    },
    {
     "name": "stderr",
     "output_type": "stream",
     "text": [
      "100%|███████████████████████████████████████████████████████████████████████████████████| 37/37 [00:40<00:00,  1.09s/it]\n",
      "  0%|                                                                                           | 0/257 [00:00<?, ?it/s]"
     ]
    },
    {
     "name": "stdout",
     "output_type": "stream",
     "text": [
      "Final validation stats 289/299 , dice_tc: 0.0 , dice_wt: 0.0 , dice_et: 0.0 , Dice_Avg: 0.0 , time 40.33s\n",
      "Wed Dec  6 20:03:56 2023 Epoch: 290\n"
     ]
    },
    {
     "name": "stderr",
     "output_type": "stream",
     "text": [
      "100%|█████████████████████████████████████████████████████████████████████████████████| 257/257 [01:02<00:00,  4.09it/s]\n",
      "  0%|                                                                                           | 0/257 [00:00<?, ?it/s]"
     ]
    },
    {
     "name": "stdout",
     "output_type": "stream",
     "text": [
      "Final training  290/299 loss: 0.8495 time 62.79s\n",
      "Wed Dec  6 20:04:59 2023 Epoch: 291\n"
     ]
    },
    {
     "name": "stderr",
     "output_type": "stream",
     "text": [
      "100%|█████████████████████████████████████████████████████████████████████████████████| 257/257 [01:02<00:00,  4.08it/s]\n",
      "  0%|                                                                                           | 0/257 [00:00<?, ?it/s]"
     ]
    },
    {
     "name": "stdout",
     "output_type": "stream",
     "text": [
      "Final training  291/299 loss: 0.8392 time 62.99s\n",
      "Wed Dec  6 20:06:02 2023 Epoch: 292\n"
     ]
    },
    {
     "name": "stderr",
     "output_type": "stream",
     "text": [
      "100%|█████████████████████████████████████████████████████████████████████████████████| 257/257 [01:07<00:00,  3.81it/s]\n",
      "  0%|                                                                                           | 0/257 [00:00<?, ?it/s]"
     ]
    },
    {
     "name": "stdout",
     "output_type": "stream",
     "text": [
      "Final training  292/299 loss: 0.8470 time 67.37s\n",
      "Wed Dec  6 20:07:09 2023 Epoch: 293\n"
     ]
    },
    {
     "name": "stderr",
     "output_type": "stream",
     "text": [
      "100%|█████████████████████████████████████████████████████████████████████████████████| 257/257 [01:03<00:00,  4.05it/s]\n",
      "  0%|                                                                                           | 0/257 [00:00<?, ?it/s]"
     ]
    },
    {
     "name": "stdout",
     "output_type": "stream",
     "text": [
      "Final training  293/299 loss: 0.8119 time 63.43s\n",
      "Wed Dec  6 20:08:12 2023 Epoch: 294\n"
     ]
    },
    {
     "name": "stderr",
     "output_type": "stream",
     "text": [
      "100%|█████████████████████████████████████████████████████████████████████████████████| 257/257 [01:02<00:00,  4.10it/s]\n",
      "  0%|                                                                                           | 0/257 [00:00<?, ?it/s]"
     ]
    },
    {
     "name": "stdout",
     "output_type": "stream",
     "text": [
      "Final training  294/299 loss: 0.8586 time 62.68s\n",
      "Wed Dec  6 20:09:15 2023 Epoch: 295\n"
     ]
    },
    {
     "name": "stderr",
     "output_type": "stream",
     "text": [
      "100%|█████████████████████████████████████████████████████████████████████████████████| 257/257 [01:07<00:00,  3.81it/s]\n",
      "  0%|                                                                                           | 0/257 [00:00<?, ?it/s]"
     ]
    },
    {
     "name": "stdout",
     "output_type": "stream",
     "text": [
      "Final training  295/299 loss: 0.8677 time 67.46s\n",
      "Wed Dec  6 20:10:22 2023 Epoch: 296\n"
     ]
    },
    {
     "name": "stderr",
     "output_type": "stream",
     "text": [
      "100%|█████████████████████████████████████████████████████████████████████████████████| 257/257 [01:04<00:00,  3.99it/s]\n",
      "  0%|                                                                                           | 0/257 [00:00<?, ?it/s]"
     ]
    },
    {
     "name": "stdout",
     "output_type": "stream",
     "text": [
      "Final training  296/299 loss: 0.8379 time 64.36s\n",
      "Wed Dec  6 20:11:27 2023 Epoch: 297\n"
     ]
    },
    {
     "name": "stderr",
     "output_type": "stream",
     "text": [
      "100%|█████████████████████████████████████████████████████████████████████████████████| 257/257 [01:02<00:00,  4.10it/s]\n",
      "  0%|                                                                                           | 0/257 [00:00<?, ?it/s]"
     ]
    },
    {
     "name": "stdout",
     "output_type": "stream",
     "text": [
      "Final training  297/299 loss: 0.8703 time 62.72s\n",
      "Wed Dec  6 20:12:30 2023 Epoch: 298\n"
     ]
    },
    {
     "name": "stderr",
     "output_type": "stream",
     "text": [
      "100%|█████████████████████████████████████████████████████████████████████████████████| 257/257 [01:03<00:00,  4.08it/s]\n",
      "  0%|                                                                                           | 0/257 [00:00<?, ?it/s]"
     ]
    },
    {
     "name": "stdout",
     "output_type": "stream",
     "text": [
      "Final training  298/299 loss: 0.8664 time 63.04s\n",
      "Wed Dec  6 20:13:33 2023 Epoch: 299\n"
     ]
    },
    {
     "name": "stderr",
     "output_type": "stream",
     "text": [
      "100%|█████████████████████████████████████████████████████████████████████████████████| 257/257 [01:02<00:00,  4.14it/s]\n",
      "  0%|                                                                                            | 0/37 [00:00<?, ?it/s]"
     ]
    },
    {
     "name": "stdout",
     "output_type": "stream",
     "text": [
      "Final training  299/299 loss: 0.8470 time 62.13s\n"
     ]
    },
    {
     "name": "stderr",
     "output_type": "stream",
     "text": [
      "100%|███████████████████████████████████████████████████████████████████████████████████| 37/37 [00:40<00:00,  1.09s/it]"
     ]
    },
    {
     "name": "stdout",
     "output_type": "stream",
     "text": [
      "Final validation stats 299/299 , dice_tc: 0.0 , dice_wt: 0.0 , dice_et: 0.0 , Dice_Avg: 0.0 , time 40.17s\n",
      "Training Finished !, Best Accuracy:  0.63589984\n"
     ]
    },
    {
     "name": "stderr",
     "output_type": "stream",
     "text": [
      "\n"
     ]
    }
   ],
   "source": [
    "start_epoch = 0\n",
    "\n",
    "(\n",
    "    val_acc_max,\n",
    "    dices_tc,\n",
    "    dices_wt,\n",
    "    dices_et,\n",
    "    dices_avg,\n",
    "    loss_epochs,\n",
    "    trains_epoch,\n",
    ") = trainer(\n",
    "    model=model,\n",
    "    train_loader=train_loader,\n",
    "    val_loader=val_loader,\n",
    "    optimizer=optimizer,\n",
    "    loss_func=dice_loss,\n",
    "    acc_func=dice_acc,\n",
    "    scheduler=scheduler,\n",
    "    model_inferer=model_inferer,\n",
    "    start_epoch=start_epoch,\n",
    "    post_sigmoid=post_sigmoid,\n",
    "    post_pred=post_pred,\n",
    ")"
   ]
  },
  {
   "cell_type": "code",
   "execution_count": 16,
   "metadata": {
    "id": "Ms_qbv02Fcbu",
    "outputId": "e99fda7c-a558-4939-f2f4-65339ccd4a8e"
   },
   "outputs": [
    {
     "name": "stdout",
     "output_type": "stream",
     "text": [
      "train completed, best average dice: 0.6359 \n"
     ]
    }
   ],
   "source": [
    "print(f\"train completed, best average dice: {val_acc_max:.4f} \")\n",
    "# Final validation stats 29/299 , dice_tc: 0.65526664 , dice_wt: 0.70935154 , dice_et: 0.5430814 , Dice_Avg: 0.63589984 , time 40.37s"
   ]
  },
  {
   "cell_type": "markdown",
   "metadata": {
    "id": "w5cn0NdXFcbu"
   },
   "source": [
    "### Plot the loss and Dice metric"
   ]
  },
  {
   "cell_type": "code",
   "execution_count": 17,
   "metadata": {
    "id": "BvkyYx-WFcbu",
    "outputId": "e017748a-876f-4fed-8d1e-6febd48988f4"
   },
   "outputs": [
    {
     "data": {
      "image/png": "[encoded data removed]",
      "text/plain": [
       "<Figure size 1200x600 with 2 Axes>"
      ]
     },
     "metadata": {},
     "output_type": "display_data"
    },
    {
     "data": {
      "image/png": "[encoded data removed]",
      "text/plain": [
       "<Figure size 1800x600 with 3 Axes>"
      ]
     },
     "metadata": {},
     "output_type": "display_data"
    }
   ],
   "source": [
    "plt.figure(\"train\", (12, 6))\n",
    "plt.subplot(1, 2, 1)\n",
    "plt.title(\"Epoch Average Loss\")\n",
    "plt.xlabel(\"epoch\")\n",
    "plt.plot(trains_epoch, loss_epochs, color=\"red\")\n",
    "plt.subplot(1, 2, 2)\n",
    "plt.title(\"Val Mean Dice\")\n",
    "plt.xlabel(\"epoch\")\n",
    "plt.plot(trains_epoch, dices_avg, color=\"green\")\n",
    "plt.show()\n",
    "plt.figure(\"train\", (18, 6))\n",
    "plt.subplot(1, 3, 1)\n",
    "plt.title(\"Val Mean Dice TC\")\n",
    "plt.xlabel(\"epoch\")\n",
    "plt.plot(trains_epoch, dices_tc, color=\"blue\")\n",
    "plt.subplot(1, 3, 2)\n",
    "plt.title(\"Val Mean Dice WT\")\n",
    "plt.xlabel(\"epoch\")\n",
    "plt.plot(trains_epoch, dices_wt, color=\"brown\")\n",
    "plt.subplot(1, 3, 3)\n",
    "plt.title(\"Val Mean Dice ET\")\n",
    "plt.xlabel(\"epoch\")\n",
    "plt.plot(trains_epoch, dices_et, color=\"purple\")\n",
    "plt.show()"
   ]
  },
  {
   "cell_type": "markdown",
   "metadata": {
    "id": "EpUWcO0HFcbu"
   },
   "source": [
    "## Create test set dataloader"
   ]
  },
  {
   "cell_type": "code",
   "execution_count": 18,
   "metadata": {
    "id": "CeMqr52AFcbu"
   },
   "outputs": [],
   "source": [
    "case_num = \"001\"\n",
    "\n",
    "test_files = [\n",
    "    {\n",
    "        \"image\": [\n",
    "            os.path.join(\n",
    "                data_dir,\n",
    "                \"MICCAI_BraTS2020_TrainingData/BraTS20_Training_\" + case_num + \"/BraTS20_Training_\" + case_num + \"_flair.nii\",\n",
    "            ),\n",
    "            os.path.join(\n",
    "                data_dir,\n",
    "                \"MICCAI_BraTS2020_TrainingData/BraTS20_Training_\" + case_num + \"/BraTS20_Training_\" + case_num + \"_t1ce.nii\",\n",
    "            ),\n",
    "            os.path.join(\n",
    "                data_dir,\n",
    "                \"MICCAI_BraTS2020_TrainingData/BraTS20_Training_\" + case_num + \"/BraTS20_Training_\" + case_num + \"_t1.nii\",\n",
    "            ),\n",
    "            os.path.join(\n",
    "                data_dir,\n",
    "                \"MICCAI_BraTS2020_TrainingData/BraTS20_Training_\" + case_num + \"/BraTS20_Training_\" + case_num + \"_t2.nii\",\n",
    "            ),\n",
    "        ],\n",
    "        \"label\": os.path.join(\n",
    "            data_dir,\n",
    "            \"MICCAI_BraTS2020_TrainingData/BraTS20_Training_\" + case_num + \"/BraTS20_Training_\" + case_num + \"_seg.nii\",\n",
    "        ),\n",
    "    }\n",
    "]\n",
    "\n",
    "test_transform = transforms.Compose(\n",
    "    [\n",
    "        transforms.LoadImaged(keys=[\"image\", \"label\"]),\n",
    "        transforms.ConvertToMultiChannelBasedOnBratsClassesd(keys=\"label\"),\n",
    "        transforms.NormalizeIntensityd(keys=\"image\", nonzero=True, channel_wise=True),\n",
    "    ]\n",
    ")\n",
    "\n",
    "test_ds = data.Dataset(data=test_files, transform=test_transform)\n",
    "\n",
    "test_loader = data.DataLoader(\n",
    "    test_ds,\n",
    "    batch_size=1,\n",
    "    shuffle=False,\n",
    "    num_workers=8,\n",
    "    pin_memory=True,\n",
    ")"
   ]
  },
  {
   "cell_type": "markdown",
   "metadata": {
    "id": "XBkxCDLaFcbu"
   },
   "source": [
    "## Load the best saved checkpoint and perform inference\n",
    "\n",
    "We select a single case from the validation set and perform inference to compare the model segmentation output with the corresponding label."
   ]
  },
  {
   "cell_type": "code",
   "execution_count": 20,
   "metadata": {
    "id": "GCzByyNDFcbu"
   },
   "outputs": [],
   "source": [
    "model.load_state_dict(torch.load(os.path.join('./', \"model.pt\"))[\"state_dict\"])\n",
    "model.to(device)\n",
    "model.eval()\n",
    "\n",
    "model_inferer_test = partial(\n",
    "    sliding_window_inference,\n",
    "    roi_size=[roi[0], roi[1], roi[2]],\n",
    "    sw_batch_size=1,\n",
    "    predictor=model,\n",
    "    overlap=0.6,\n",
    ")\n",
    "\n",
    "\n",
    "with torch.no_grad():\n",
    "    for batch_data in test_loader:\n",
    "        image = batch_data[\"image\"].cuda()\n",
    "        prob = torch.sigmoid(model_inferer_test(image))\n",
    "        seg = prob[0].detach().cpu().numpy()\n",
    "        seg = (seg > 0.5).astype(np.int8)\n",
    "        seg_out = np.zeros((seg.shape[1], seg.shape[2], seg.shape[3]))\n",
    "        seg_out[seg[1] == 1] = 2\n",
    "        seg_out[seg[0] == 1] = 1\n",
    "        seg_out[seg[2] == 1] = 4"
   ]
  },
  {
   "cell_type": "markdown",
   "metadata": {
    "id": "b4gYmGRaFcbu"
   },
   "source": [
    "## Visualize segmentation output and compare with label"
   ]
  },
  {
   "cell_type": "code",
   "execution_count": 21,
   "metadata": {
    "id": "p54isGO3Fcbu",
    "outputId": "1b7e2aff-6155-4d22-ec3b-e16c6e783ccf"
   },
   "outputs": [
    {
     "data": {
      "image/png": "[encoded data removed]",
      "text/plain": [
       "<Figure size 1800x600 with 3 Axes>"
      ]
     },
     "metadata": {},
     "output_type": "display_data"
    }
   ],
   "source": [
    "slice_num = 67\n",
    "img_add = os.path.join(\n",
    "    data_dir,\n",
    "    \"MICCAI_BraTS2020_TrainingData/BraTS20_Training_\" + case_num + \"/BraTS20_Training_\" + case_num + \"_t1ce.nii\",\n",
    ")\n",
    "label_add = os.path.join(\n",
    "    data_dir,\n",
    "    \"MICCAI_BraTS2020_TrainingData/BraTS20_Training_\" + case_num + \"/BraTS20_Training_\" + case_num + \"_seg.nii\",\n",
    ")\n",
    "img = nib.load(img_add).get_fdata()\n",
    "label = nib.load(label_add).get_fdata()\n",
    "plt.figure(\"image\", (18, 6))\n",
    "plt.subplot(1, 3, 1)\n",
    "plt.title(\"image\")\n",
    "plt.imshow(img[:, :, slice_num], cmap=\"gray\")\n",
    "plt.subplot(1, 3, 2)\n",
    "plt.title(\"label\")\n",
    "plt.imshow(label[:, :, slice_num])\n",
    "plt.subplot(1, 3, 3)\n",
    "plt.title(\"segmentation\")\n",
    "plt.imshow(seg_out[:, :, slice_num])\n",
    "plt.show()"
   ]
  },
  {
   "cell_type": "markdown",
   "metadata": {
    "id": "qGQUBXDvFcbu"
   },
   "source": [
    "## Cleanup data directory\n",
    "\n",
    "Remove directory if a temporary was used."
   ]
  },
  {
   "cell_type": "code",
   "execution_count": null,
   "metadata": {
    "id": "LJokdw4kFcbu"
   },
   "outputs": [],
   "source": [
    "if directory is None:\n",
    "    shutil.rmtree(root_dir)"
   ]
  }
 ],
 "metadata": {
  "colab": {
   "provenance": []
  },
  "kernelspec": {
   "display_name": "Python 3 (ipykernel)",
   "language": "python",
   "name": "python3"
  },
  "language_info": {
   "codemirror_mode": {
    "name": "ipython",
    "version": 3
   },
   "file_extension": ".py",
   "mimetype": "text/x-python",
   "name": "python",
   "nbconvert_exporter": "python",
   "pygments_lexer": "ipython3",
   "version": "3.8.18"
  }
 },
 "nbformat": 4,
 "nbformat_minor": 4
}
