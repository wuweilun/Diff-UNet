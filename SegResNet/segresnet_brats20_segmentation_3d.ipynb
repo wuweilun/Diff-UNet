{
 "cells": [
  {
   "cell_type": "markdown",
   "metadata": {
    "id": "CaH5GnU7Fcbp"
   },
   "source": [
    " ## Download from google drive & create json file\n",
    "\n"
   ]
  },
  {
   "cell_type": "code",
   "execution_count": 1,
   "metadata": {
    "id": "dLYVdw8d8g04"
   },
   "outputs": [],
   "source": [
    "# !gdown 1VFZDI21HXbVQRJOawGxAiQZxFERysLC4 -O datasets.zip\n",
    "\n",
    "# !unzip ./datasets.zip"
   ]
  },
  {
   "cell_type": "code",
   "execution_count": 2,
   "metadata": {
    "id": "fs8IsUzX8jW9"
   },
   "outputs": [],
   "source": [
    "# import os\n",
    "# import json\n",
    "\n",
    "# # Set the path to data directory\n",
    "# data_dir = \"./BraTS2020_TrainingData/MICCAI_BraTS2020_TrainingData/\"\n",
    "\n",
    "# base_dir = \"MICCAI_BraTS2020_TrainingData/\"\n",
    "# # Get a list of all directories in the data directory\n",
    "# all_dirs = os.listdir(data_dir)\n",
    "\n",
    "# # Create a list of all file paths by joining data directory and directory names\n",
    "# all_paths = [os.path.join(data_dir, d) for d in all_dirs]\n",
    "\n",
    "# # Calculate sizes for training, validation, and test sets\n",
    "# size = len(all_paths)\n",
    "# train_size = int(0.7 * size)\n",
    "# val_size = int(0.1 * size)\n",
    "\n",
    "# # Split the file paths into training, validation, and test sets\n",
    "# train_files = all_paths[:train_size]\n",
    "# val_files = all_paths[train_size:train_size + val_size]\n",
    "# test_files = all_paths[train_size + val_size:]\n",
    "\n",
    "# # Function to extract ID from file path\n",
    "# def extract_id_from_path(file_path):\n",
    "#     return file_path.split(\"/\")[-1]\n",
    "\n",
    "# # Create a list for training samples\n",
    "# training_samples = []\n",
    "# for file_path in train_files:\n",
    "#     id = extract_id_from_path(file_path)\n",
    "#     if \"csv\" in id:\n",
    "#       continue\n",
    "#     sample = {\n",
    "#         \"fold\": 0,  # Set fold to 0 to indicate it's in the training set\n",
    "#         \"image\": [\n",
    "#             os.path.join(base_dir, f\"{id}/{id}_flair.nii\"),\n",
    "#             os.path.join(base_dir, f\"{id}/{id}_t1ce.nii\"),\n",
    "#             os.path.join(base_dir, f\"{id}/{id}_t1.nii\"),\n",
    "#             os.path.join(base_dir, f\"{id}/{id}_t2.nii\")\n",
    "#         ],\n",
    "#         \"label\": os.path.join(base_dir, f\"{id}/{id}_seg.nii\")\n",
    "#     }\n",
    "#     training_samples.append(sample)\n",
    "\n",
    "# # Create a list for validation samples\n",
    "# validation_samples = []\n",
    "# for file_path in val_files:\n",
    "#     id = extract_id_from_path(file_path)\n",
    "#     if \"csv\" in id:\n",
    "#       continue\n",
    "#     sample = {\n",
    "#         \"fold\": 1,  # Set fold to 1 to indicate it's in the validation set\n",
    "#         \"image\": [\n",
    "#             os.path.join(base_dir, f\"{id}/{id}_flair.nii\"),\n",
    "#             os.path.join(base_dir, f\"{id}/{id}_t1ce.nii\"),\n",
    "#             os.path.join(base_dir, f\"{id}/{id}_t1.nii\"),\n",
    "#             os.path.join(base_dir, f\"{id}/{id}_t2.nii\")\n",
    "#         ],\n",
    "#         \"label\": os.path.join(base_dir, f\"{id}/{id}_seg.nii\")\n",
    "#     }\n",
    "#     validation_samples.append(sample)\n",
    "\n",
    "# # Create a list for test samples\n",
    "# test_samples = []\n",
    "# for file_path in test_files:\n",
    "#     id = extract_id_from_path(file_path)\n",
    "#     if \"csv\" in id:\n",
    "#       continue\n",
    "#     sample = {\n",
    "#         \"fold\": 2,  # Set fold to 2 to indicate it's in the test set\n",
    "#         \"image\": [\n",
    "#             os.path.join(base_dir, f\"{id}/{id}_flair.nii\"),\n",
    "#             os.path.join(base_dir, f\"{id}/{id}_t1ce.nii\"),\n",
    "#             os.path.join(base_dir, f\"{id}/{id}_t1.nii\"),\n",
    "#             os.path.join(base_dir, f\"{id}/{id}_t2.nii\")\n",
    "#         ],\n",
    "#         \"label\": os.path.join(base_dir, f\"{id}/{id}_seg.nii\")\n",
    "#     }\n",
    "#     test_samples.append(sample)\n",
    "\n",
    "# # Combine all samples into one list\n",
    "# all_samples = training_samples + validation_samples + test_samples\n",
    "\n",
    "# # Create JSON data structure\n",
    "# all_data = {\"training\": all_samples}\n",
    "\n",
    "# # Convert the dictionary to a JSON string\n",
    "# json_data = json.dumps(all_data, indent=4)\n",
    "\n",
    "# # Write the JSON string to a file\n",
    "# with open('brats20_folds.json', 'w') as json_file:\n",
    "#     json_file.write(json_data)\n"
   ]
  },
  {
   "cell_type": "markdown",
   "metadata": {
    "id": "ZGf-j0zUFcbp"
   },
   "source": [
    "## Setup environment"
   ]
  },
  {
   "cell_type": "code",
   "execution_count": 3,
   "metadata": {
    "colab": {
     "base_uri": "https://localhost:8080/"
    },
    "id": "e7x-8xwJ_p5N",
    "outputId": "9a1cb7a3-861f-47e1-d1f7-ba576944d405"
   },
   "outputs": [],
   "source": [
    "# !pip install -r requirements.txt"
   ]
  },
  {
   "cell_type": "code",
   "execution_count": 4,
   "metadata": {
    "colab": {
     "base_uri": "https://localhost:8080/"
    },
    "id": "gVVatpxMFcbq",
    "outputId": "f73466b1-e82e-4007-bf16-d7f426bac616"
   },
   "outputs": [],
   "source": [
    "!python -c \"import monai\" || pip install -q \"monai-weekly[nibabel]\"\n",
    "!python -c \"import matplotlib\" || pip install -q matplotlib\n",
    "%matplotlib inline"
   ]
  },
  {
   "cell_type": "markdown",
   "metadata": {
    "id": "i2a6wQobFcbq"
   },
   "source": [
    "## Setup imports"
   ]
  },
  {
   "cell_type": "code",
   "execution_count": 1,
   "metadata": {
    "colab": {
     "base_uri": "https://localhost:8080/"
    },
    "id": "yKvZy_a3Fcbq",
    "outputId": "3418161a-37e3-43de-b3ca-1dc146a95ba4"
   },
   "outputs": [
    {
     "name": "stdout",
     "output_type": "stream",
     "text": [
      "MONAI version: 0.8.1+271.g07de215c\n",
      "Numpy version: 1.23.5\n",
      "Pytorch version: 1.12.1\n",
      "MONAI flags: HAS_EXT = False, USE_COMPILED = False\n",
      "MONAI rev id: 07de215caf79dabec20ac53fb38d9f2df36f182a\n",
      "MONAI __file__: /home/pippi/anaconda3/envs/DLCV/lib/python3.8/site-packages/monai/__init__.py\n",
      "\n",
      "Optional dependencies:\n",
      "Pytorch Ignite version: NOT INSTALLED or UNKNOWN VERSION.\n",
      "Nibabel version: 3.1.1\n",
      "scikit-image version: NOT INSTALLED or UNKNOWN VERSION.\n",
      "Pillow version: 9.4.0\n",
      "Tensorboard version: 2.14.0\n",
      "gdown version: 4.7.1\n",
      "TorchVision version: 0.13.1\n",
      "tqdm version: 4.59.0\n",
      "lmdb version: NOT INSTALLED or UNKNOWN VERSION.\n",
      "psutil version: 5.9.0\n",
      "pandas version: NOT INSTALLED or UNKNOWN VERSION.\n",
      "einops version: 0.4.1\n",
      "transformers version: NOT INSTALLED or UNKNOWN VERSION.\n",
      "mlflow version: NOT INSTALLED or UNKNOWN VERSION.\n",
      "pynrrd version: NOT INSTALLED or UNKNOWN VERSION.\n",
      "\n",
      "For details about installing the optional dependencies, please visit:\n",
      "    https://docs.monai.io/en/latest/installation.html#installing-the-recommended-dependencies\n",
      "\n"
     ]
    }
   ],
   "source": [
    "import os\n",
    "import json\n",
    "import shutil\n",
    "import tempfile\n",
    "import time\n",
    "\n",
    "import matplotlib.pyplot as plt\n",
    "import numpy as np\n",
    "import nibabel as nib\n",
    "\n",
    "from monai.losses import DiceLoss\n",
    "from monai.inferers import sliding_window_inference\n",
    "from monai import transforms\n",
    "from monai.transforms import (\n",
    "    AsDiscrete,\n",
    "    Activations,\n",
    ")\n",
    "\n",
    "from monai.config import print_config\n",
    "from monai.metrics import DiceMetric\n",
    "from monai.utils.enums import MetricReduction\n",
    "from monai.networks.nets import SegResNet\n",
    "from monai import data\n",
    "from monai.data import decollate_batch\n",
    "from functools import partial\n",
    "\n",
    "import torch\n",
    "from tqdm import tqdm\n",
    "\n",
    "\n",
    "print_config()"
   ]
  },
  {
   "cell_type": "markdown",
   "metadata": {
    "id": "VY8MFeDUFcbr"
   },
   "source": [
    "## Setup data directory\n",
    "\n",
    "You can specify a directory with the `MONAI_DATA_DIRECTORY` environment variable.  \n",
    "This allows you to save results and reuse downloads.  \n",
    "If not specified a temporary directory will be used."
   ]
  },
  {
   "cell_type": "code",
   "execution_count": 2,
   "metadata": {
    "colab": {
     "base_uri": "https://localhost:8080/"
    },
    "id": "fn5oyNpgFcbr",
    "outputId": "7820ccb7-a30b-4f76-f513-f03d4ef7ff42"
   },
   "outputs": [
    {
     "name": "stdout",
     "output_type": "stream",
     "text": [
      "/tmp/tmp_zc7j_kw\n"
     ]
    }
   ],
   "source": [
    "directory = os.environ.get(\"MONAI_DATA_DIRECTORY\")\n",
    "root_dir = tempfile.mkdtemp() if directory is None else directory\n",
    "print(root_dir)"
   ]
  },
  {
   "cell_type": "markdown",
   "metadata": {
    "id": "SA3zMgzgFcbr"
   },
   "source": [
    "## Setup average meter, fold reader, checkpoint saver"
   ]
  },
  {
   "cell_type": "code",
   "execution_count": 3,
   "metadata": {
    "id": "lpkpkff3Fcbs"
   },
   "outputs": [],
   "source": [
    "class AverageMeter(object):\n",
    "    def __init__(self):\n",
    "        self.reset()\n",
    "\n",
    "    def reset(self):\n",
    "        self.val = 0\n",
    "        self.avg = 0\n",
    "        self.sum = 0\n",
    "        self.count = 0\n",
    "\n",
    "    def update(self, val, n=1):\n",
    "        self.val = val\n",
    "        self.sum += val * n\n",
    "        self.count += n\n",
    "        self.avg = np.where(self.count > 0, self.sum / self.count, self.sum)\n",
    "\n",
    "# Add test data\n",
    "def datafold_read(datalist, basedir, fold=0, key=\"training\"):\n",
    "    with open(datalist) as f:\n",
    "        json_data = json.load(f)\n",
    "\n",
    "    json_data = json_data[key]\n",
    "\n",
    "    for d in json_data:\n",
    "        for k in d:\n",
    "            if isinstance(d[k], list):\n",
    "                d[k] = [os.path.join(basedir, iv) for iv in d[k]]\n",
    "                #print([os.path.join(basedir, iv) for iv in d[k]])\n",
    "            elif isinstance(d[k], str):\n",
    "                d[k] = os.path.join(basedir, d[k]) if len(d[k]) > 0 else d[k]\n",
    "\n",
    "    tr = []\n",
    "    val = []\n",
    "    test = []\n",
    "    for d in json_data:\n",
    "        if \"fold\" in d and d[\"fold\"] == fold:\n",
    "            val.append(d)\n",
    "        elif \"fold\" in d and d[\"fold\"] == 2:\n",
    "            test.append(d)\n",
    "        else:\n",
    "            tr.append(d)\n",
    "\n",
    "    return tr, val, test\n",
    "\n",
    "\n",
    "def save_checkpoint(model, epoch, filename=\"model.pt\", best_acc=0, dir_add=root_dir):\n",
    "    state_dict = model.state_dict()\n",
    "    save_dict = {\"epoch\": epoch, \"best_acc\": best_acc, \"state_dict\": state_dict}\n",
    "    filename = os.path.join(dir_add, filename)\n",
    "    torch.save(save_dict, filename)\n",
    "    print(\"Saving checkpoint\", filename)"
   ]
  },
  {
   "cell_type": "markdown",
   "metadata": {
    "id": "gc1oP2ATFcbs"
   },
   "source": [
    "## Setup dataloader"
   ]
  },
  {
   "cell_type": "code",
   "execution_count": 4,
   "metadata": {
    "id": "j2r5-m_TFcbs"
   },
   "outputs": [],
   "source": [
    "# Add test dataloader\n",
    "def get_loader(batch_size, data_dir, json_list, fold, roi):\n",
    "    data_dir = data_dir\n",
    "    datalist_json = json_list\n",
    "    train_files, validation_files, test_files = datafold_read(datalist=datalist_json, basedir=data_dir, fold=fold)\n",
    "    print(len(train_files), len(validation_files), len(test_files))\n",
    "    train_transform = transforms.Compose(\n",
    "        [\n",
    "            transforms.LoadImaged(keys=[\"image\", \"label\"]),\n",
    "            transforms.ConvertToMultiChannelBasedOnBratsClassesd(keys=\"label\"),\n",
    "            transforms.CropForegroundd(\n",
    "                keys=[\"image\", \"label\"],\n",
    "                source_key=\"image\",\n",
    "                k_divisible=[roi[0], roi[1], roi[2]],\n",
    "            ),\n",
    "            transforms.RandSpatialCropd(\n",
    "                keys=[\"image\", \"label\"],\n",
    "                roi_size=[roi[0], roi[1], roi[2]],\n",
    "                random_size=False,\n",
    "            ),\n",
    "            transforms.RandFlipd(keys=[\"image\", \"label\"], prob=0.5, spatial_axis=0),\n",
    "            transforms.RandFlipd(keys=[\"image\", \"label\"], prob=0.5, spatial_axis=1),\n",
    "            transforms.RandFlipd(keys=[\"image\", \"label\"], prob=0.5, spatial_axis=2),\n",
    "            transforms.NormalizeIntensityd(keys=\"image\", nonzero=True, channel_wise=True),\n",
    "            transforms.RandScaleIntensityd(keys=\"image\", factors=0.1, prob=1.0),\n",
    "            transforms.RandShiftIntensityd(keys=\"image\", offsets=0.1, prob=1.0),\n",
    "        ]\n",
    "    )\n",
    "    val_transform = transforms.Compose(\n",
    "        [\n",
    "            transforms.LoadImaged(keys=[\"image\", \"label\"]),\n",
    "            transforms.ConvertToMultiChannelBasedOnBratsClassesd(keys=\"label\"),\n",
    "            transforms.NormalizeIntensityd(keys=\"image\", nonzero=True, channel_wise=True),\n",
    "        ]\n",
    "    )\n",
    "\n",
    "    train_ds = data.Dataset(data=train_files, transform=train_transform)\n",
    "\n",
    "    train_loader = data.DataLoader(\n",
    "        train_ds,\n",
    "        batch_size=batch_size,\n",
    "        shuffle=True,\n",
    "        num_workers=8,\n",
    "        pin_memory=True,\n",
    "    )\n",
    "    val_ds = data.Dataset(data=validation_files, transform=val_transform)\n",
    "    val_loader = data.DataLoader(\n",
    "        val_ds,\n",
    "        batch_size=1,\n",
    "        shuffle=False,\n",
    "        num_workers=8,\n",
    "        pin_memory=True,\n",
    "    )\n",
    "\n",
    "    test_ds = data.Dataset(data=test_files, transform=val_transform)\n",
    "    test_loader = data.DataLoader(\n",
    "        test_ds,\n",
    "        batch_size=1,\n",
    "        shuffle=False,\n",
    "        num_workers=8,\n",
    "        pin_memory=True,\n",
    "    )\n",
    "    print(len(train_loader), len(val_loader), len(test_loader))\n",
    "    return train_loader, val_loader, test_loader"
   ]
  },
  {
   "cell_type": "markdown",
   "metadata": {
    "id": "vJlF4Z40Fcbs"
   },
   "source": [
    "## Set dataset root directory and hyper-parameters\n",
    "\n",
    "The following hyper-parameters are set for the purpose of this tutorial. However, additional changes, as described below, maybe beneficial.\n",
    "\n",
    "If GPU memory is not sufficient, reduce sw_batch_size to 2 or batch_size to 1.\n",
    "\n",
    "Decrease val_every (validation frequency) to 1 for obtaining more accurate checkpoints."
   ]
  },
  {
   "cell_type": "code",
   "execution_count": 5,
   "metadata": {
    "colab": {
     "base_uri": "https://localhost:8080/"
    },
    "id": "XU646YB5Fcbs",
    "outputId": "68524474-f16b-470b-f983-e5e492be15d8"
   },
   "outputs": [
    {
     "name": "stdout",
     "output_type": "stream",
     "text": [
      "257 37 75\n",
      "257 37 75\n"
     ]
    }
   ],
   "source": [
    "data_dir = \"./BraTS2020_TrainingData\"\n",
    "json_list = \"./brats20_folds.json\"\n",
    "roi = (240, 240, 160)\n",
    "batch_size = 1\n",
    "sw_batch_size = 1\n",
    "fold = 1\n",
    "infer_overlap = 0.5\n",
    "max_epochs = 300\n",
    "val_every = 10\n",
    "train_loader, val_loader, test_loader = get_loader(batch_size, data_dir, json_list, fold, roi)"
   ]
  },
  {
   "cell_type": "markdown",
   "metadata": {
    "id": "dfEUUKw2Fcbs"
   },
   "source": [
    "## Check data shape and visualize"
   ]
  },
  {
   "cell_type": "code",
   "execution_count": 6,
   "metadata": {
    "colab": {
     "base_uri": "https://localhost:8080/",
     "height": 405
    },
    "id": "JTemPhuBFcbs",
    "outputId": "8ad6f39a-f82c-4773-bdf8-1968f964f349"
   },
   "outputs": [
    {
     "ename": "FileNotFoundError",
     "evalue": "No such file or no access: './BraTS2020_TrainingData/MICCAI_BraTS2020_TrainingData/BraTS20_Training_001/BraTS20_Training_001_flair.nii'",
     "output_type": "error",
     "traceback": [
      "\u001b[0;31m---------------------------------------------------------------------------\u001b[0m",
      "\u001b[0;31mFileNotFoundError\u001b[0m                         Traceback (most recent call last)",
      "File \u001b[0;32m~/anaconda3/envs/DLCV/lib/python3.8/site-packages/nibabel/loadsave.py:42\u001b[0m, in \u001b[0;36mload\u001b[0;34m(filename, **kwargs)\u001b[0m\n\u001b[1;32m     41\u001b[0m \u001b[38;5;28;01mtry\u001b[39;00m:\n\u001b[0;32m---> 42\u001b[0m     stat_result \u001b[38;5;241m=\u001b[39m \u001b[43mos\u001b[49m\u001b[38;5;241;43m.\u001b[39;49m\u001b[43mstat\u001b[49m\u001b[43m(\u001b[49m\u001b[43mfilename\u001b[49m\u001b[43m)\u001b[49m\n\u001b[1;32m     43\u001b[0m \u001b[38;5;28;01mexcept\u001b[39;00m \u001b[38;5;167;01mOSError\u001b[39;00m:\n",
      "\u001b[0;31mFileNotFoundError\u001b[0m: [Errno 2] No such file or directory: './BraTS2020_TrainingData/MICCAI_BraTS2020_TrainingData/BraTS20_Training_001/BraTS20_Training_001_flair.nii'",
      "\nDuring handling of the above exception, another exception occurred:\n",
      "\u001b[0;31mFileNotFoundError\u001b[0m                         Traceback (most recent call last)",
      "Cell \u001b[0;32mIn[6], line 3\u001b[0m\n\u001b[1;32m      1\u001b[0m img_add \u001b[38;5;241m=\u001b[39m os\u001b[38;5;241m.\u001b[39mpath\u001b[38;5;241m.\u001b[39mjoin(data_dir, \u001b[38;5;124m\"\u001b[39m\u001b[38;5;124mMICCAI_BraTS2020_TrainingData/BraTS20_Training_001/BraTS20_Training_001_flair.nii\u001b[39m\u001b[38;5;124m\"\u001b[39m)\n\u001b[1;32m      2\u001b[0m label_add \u001b[38;5;241m=\u001b[39m os\u001b[38;5;241m.\u001b[39mpath\u001b[38;5;241m.\u001b[39mjoin(data_dir, \u001b[38;5;124m\"\u001b[39m\u001b[38;5;124mMICCAI_BraTS2020_TrainingData/BraTS20_Training_001/BraTS20_Training_001_seg.nii\u001b[39m\u001b[38;5;124m\"\u001b[39m)\n\u001b[0;32m----> 3\u001b[0m img \u001b[38;5;241m=\u001b[39m \u001b[43mnib\u001b[49m\u001b[38;5;241;43m.\u001b[39;49m\u001b[43mload\u001b[49m\u001b[43m(\u001b[49m\u001b[43mimg_add\u001b[49m\u001b[43m)\u001b[49m\u001b[38;5;241m.\u001b[39mget_fdata()\n\u001b[1;32m      4\u001b[0m label \u001b[38;5;241m=\u001b[39m nib\u001b[38;5;241m.\u001b[39mload(label_add)\u001b[38;5;241m.\u001b[39mget_fdata()\n\u001b[1;32m      5\u001b[0m \u001b[38;5;28mprint\u001b[39m(\u001b[38;5;124mf\u001b[39m\u001b[38;5;124m\"\u001b[39m\u001b[38;5;124mimage shape: \u001b[39m\u001b[38;5;132;01m{\u001b[39;00mimg\u001b[38;5;241m.\u001b[39mshape\u001b[38;5;132;01m}\u001b[39;00m\u001b[38;5;124m, label shape: \u001b[39m\u001b[38;5;132;01m{\u001b[39;00mlabel\u001b[38;5;241m.\u001b[39mshape\u001b[38;5;132;01m}\u001b[39;00m\u001b[38;5;124m\"\u001b[39m)\n",
      "File \u001b[0;32m~/anaconda3/envs/DLCV/lib/python3.8/site-packages/nibabel/loadsave.py:44\u001b[0m, in \u001b[0;36mload\u001b[0;34m(filename, **kwargs)\u001b[0m\n\u001b[1;32m     42\u001b[0m     stat_result \u001b[38;5;241m=\u001b[39m os\u001b[38;5;241m.\u001b[39mstat(filename)\n\u001b[1;32m     43\u001b[0m \u001b[38;5;28;01mexcept\u001b[39;00m \u001b[38;5;167;01mOSError\u001b[39;00m:\n\u001b[0;32m---> 44\u001b[0m     \u001b[38;5;28;01mraise\u001b[39;00m \u001b[38;5;167;01mFileNotFoundError\u001b[39;00m(\u001b[38;5;124m\"\u001b[39m\u001b[38;5;124mNo such file or no access: \u001b[39m\u001b[38;5;124m'\u001b[39m\u001b[38;5;132;01m%s\u001b[39;00m\u001b[38;5;124m'\u001b[39m\u001b[38;5;124m\"\u001b[39m \u001b[38;5;241m%\u001b[39m filename)\n\u001b[1;32m     45\u001b[0m \u001b[38;5;28;01mif\u001b[39;00m stat_result\u001b[38;5;241m.\u001b[39mst_size \u001b[38;5;241m<\u001b[39m\u001b[38;5;241m=\u001b[39m \u001b[38;5;241m0\u001b[39m:\n\u001b[1;32m     46\u001b[0m     \u001b[38;5;28;01mraise\u001b[39;00m ImageFileError(\u001b[38;5;124m\"\u001b[39m\u001b[38;5;124mEmpty file: \u001b[39m\u001b[38;5;124m'\u001b[39m\u001b[38;5;132;01m%s\u001b[39;00m\u001b[38;5;124m'\u001b[39m\u001b[38;5;124m\"\u001b[39m \u001b[38;5;241m%\u001b[39m filename)\n",
      "\u001b[0;31mFileNotFoundError\u001b[0m: No such file or no access: './BraTS2020_TrainingData/MICCAI_BraTS2020_TrainingData/BraTS20_Training_001/BraTS20_Training_001_flair.nii'"
     ]
    }
   ],
   "source": [
    "img_add = os.path.join(data_dir, \"MICCAI_BraTS2020_TrainingData/BraTS20_Training_001/BraTS20_Training_001_flair.nii\")\n",
    "label_add = os.path.join(data_dir, \"MICCAI_BraTS2020_TrainingData/BraTS20_Training_001/BraTS20_Training_001_seg.nii\")\n",
    "img = nib.load(img_add).get_fdata()\n",
    "label = nib.load(label_add).get_fdata()\n",
    "print(f\"image shape: {img.shape}, label shape: {label.shape}\")\n",
    "plt.figure(\"image\", (18, 6))\n",
    "plt.subplot(1, 2, 1)\n",
    "plt.title(\"image\")\n",
    "plt.imshow(img[:, :, 78], cmap=\"gray\")\n",
    "plt.subplot(1, 2, 2)\n",
    "plt.title(\"label\")\n",
    "plt.imshow(label[:, :, 78])\n",
    "plt.show()"
   ]
  },
  {
   "cell_type": "markdown",
   "metadata": {
    "id": "GCET1ddvFcbt"
   },
   "source": [
    "## Create SegResNet model"
   ]
  },
  {
   "cell_type": "code",
   "execution_count": 9,
   "metadata": {
    "id": "ofPNDBJnFcbt"
   },
   "outputs": [],
   "source": [
    "os.environ[\"CUDA_DEVICE_ORDER\"] = \"PCI_BUS_ID\"\n",
    "device = torch.device(\"cuda\" if torch.cuda.is_available() else \"cpu\")\n",
    "\n",
    "model = SegResNet(\n",
    "    blocks_down=[1, 2, 2, 4],\n",
    "    blocks_up=[1, 1, 1],\n",
    "    init_filters=16,\n",
    "    in_channels=4,\n",
    "    out_channels=3,\n",
    "    dropout_prob=0.2,\n",
    ").to(device)"
   ]
  },
  {
   "cell_type": "markdown",
   "metadata": {
    "id": "AdKxtFOmFcbt"
   },
   "source": [
    "## Optimizer and loss function"
   ]
  },
  {
   "cell_type": "code",
   "execution_count": 12,
   "metadata": {
    "id": "eDoFuHenFcbt"
   },
   "outputs": [],
   "source": [
    "torch.backends.cudnn.benchmark = True\n",
    "dice_loss = DiceLoss(smooth_nr=0, smooth_dr=1e-5, squared_pred=True, to_onehot_y=False, sigmoid=True)\n",
    "post_sigmoid = Activations(sigmoid=True)\n",
    "post_pred = AsDiscrete(argmax=False, threshold=0.5)\n",
    "dice_acc = DiceMetric(include_background=True, reduction=MetricReduction.MEAN_BATCH, get_not_nans=True)\n",
    "model_inferer = partial(\n",
    "    sliding_window_inference,\n",
    "    roi_size=[roi[0], roi[1], roi[2]],\n",
    "    sw_batch_size=sw_batch_size,\n",
    "    predictor=model,\n",
    "    overlap=infer_overlap,\n",
    ")\n",
    "\n",
    "optimizer = torch.optim.Adam(model.parameters(), lr=1e-4, weight_decay=1e-5)\n",
    "scheduler = torch.optim.lr_scheduler.CosineAnnealingLR(optimizer, T_max=max_epochs)"
   ]
  },
  {
   "cell_type": "markdown",
   "metadata": {
    "id": "ukkP4tq_Fcbt"
   },
   "source": [
    "## Define Train and Validation Epoch"
   ]
  },
  {
   "cell_type": "code",
   "execution_count": 13,
   "metadata": {
    "id": "p7Kl6o_YFcbt",
    "scrolled": true
   },
   "outputs": [],
   "source": [
    "def train_epoch(model, loader, optimizer, epoch, loss_func):\n",
    "    model.train()\n",
    "    # start_time = time.time()\n",
    "    run_loss = AverageMeter()\n",
    "    for batch_data in tqdm(loader):\n",
    "        data, target = batch_data[\"image\"].to(device), batch_data[\"label\"].to(device)\n",
    "        logits = model(data)\n",
    "        loss = loss_func(logits, target)\n",
    "        loss.backward()\n",
    "        optimizer.step()\n",
    "        run_loss.update(loss.item(), n=batch_size)\n",
    "        # print(\n",
    "        #     \"Epoch {}/{} {}/{}\".format(epoch, max_epochs, idx, len(loader)),\n",
    "        #     \"loss: {:.4f}\".format(run_loss.avg),\n",
    "        #     \"time {:.2f}s\".format(time.time() - start_time),\n",
    "        # )\n",
    "        # start_time = time.time()\n",
    "    return run_loss.avg\n",
    "\n",
    "\n",
    "def val_epoch(\n",
    "    model,\n",
    "    loader,\n",
    "    epoch,\n",
    "    acc_func,\n",
    "    model_inferer=None,\n",
    "    post_sigmoid=None,\n",
    "    post_pred=None,\n",
    "):\n",
    "    model.eval()\n",
    "    # start_time = time.time()\n",
    "    run_acc = AverageMeter()\n",
    "\n",
    "    with torch.no_grad():\n",
    "        for batch_data in tqdm(loader):\n",
    "            data, target = batch_data[\"image\"].to(device), batch_data[\"label\"].to(device)\n",
    "            logits = model_inferer(data)\n",
    "            val_labels_list = decollate_batch(target)\n",
    "            val_outputs_list = decollate_batch(logits)\n",
    "            val_output_convert = [post_pred(post_sigmoid(val_pred_tensor)) for val_pred_tensor in val_outputs_list]\n",
    "            acc_func.reset()\n",
    "            acc_func(y_pred=val_output_convert, y=val_labels_list)\n",
    "            acc, not_nans = acc_func.aggregate()\n",
    "            run_acc.update(acc.cpu().numpy(), n=not_nans.cpu().numpy())\n",
    "            dice_tc = run_acc.avg[0]\n",
    "            dice_wt = run_acc.avg[1]\n",
    "            dice_et = run_acc.avg[2]\n",
    "            # print(\n",
    "            #     \"Val {}/{} {}/{}\".format(epoch, max_epochs, idx, len(loader)),\n",
    "            #     \", dice_tc:\",\n",
    "            #     dice_tc,\n",
    "            #     \", dice_wt:\",\n",
    "            #     dice_wt,\n",
    "            #     \", dice_et:\",\n",
    "            #     dice_et,\n",
    "            #     \", time {:.2f}s\".format(time.time() - start_time),\n",
    "            # )\n",
    "            # start_time = time.time()\n",
    "\n",
    "    return run_acc.avg"
   ]
  },
  {
   "cell_type": "markdown",
   "metadata": {
    "id": "rrjd-L2LFcbt"
   },
   "source": [
    "## Define Trainer"
   ]
  },
  {
   "cell_type": "code",
   "execution_count": 14,
   "metadata": {
    "id": "Chpps4_VFcbt"
   },
   "outputs": [],
   "source": [
    "def trainer(\n",
    "    model,\n",
    "    train_loader,\n",
    "    val_loader,\n",
    "    optimizer,\n",
    "    loss_func,\n",
    "    acc_func,\n",
    "    scheduler,\n",
    "    model_inferer=None,\n",
    "    start_epoch=0,\n",
    "    post_sigmoid=None,\n",
    "    post_pred=None,\n",
    "):\n",
    "    val_acc_max = 0.0\n",
    "    dices_tc = []\n",
    "    dices_wt = []\n",
    "    dices_et = []\n",
    "    dices_avg = []\n",
    "    loss_epochs = []\n",
    "    trains_epoch = []\n",
    "    for epoch in range(start_epoch, max_epochs):\n",
    "        print(time.ctime(), \"Epoch:\", epoch)\n",
    "        epoch_time = time.time()\n",
    "        train_loss = train_epoch(\n",
    "            model,\n",
    "            train_loader,\n",
    "            optimizer,\n",
    "            epoch=epoch,\n",
    "            loss_func=loss_func,\n",
    "        )\n",
    "        print(\n",
    "            \"Final training  {}/{}\".format(epoch, max_epochs - 1),\n",
    "            \"loss: {:.4f}\".format(train_loss),\n",
    "            \"time {:.2f}s\".format(time.time() - epoch_time),\n",
    "        )\n",
    "\n",
    "        if (epoch + 1) % val_every == 0 or epoch == 0:\n",
    "            loss_epochs.append(train_loss)\n",
    "            trains_epoch.append(int(epoch))\n",
    "            epoch_time = time.time()\n",
    "            val_acc = val_epoch(\n",
    "                model,\n",
    "                val_loader,\n",
    "                epoch=epoch,\n",
    "                acc_func=acc_func,\n",
    "                model_inferer=model_inferer,\n",
    "                post_sigmoid=post_sigmoid,\n",
    "                post_pred=post_pred,\n",
    "            )\n",
    "            dice_tc = val_acc[0]\n",
    "            dice_wt = val_acc[1]\n",
    "            dice_et = val_acc[2]\n",
    "            val_avg_acc = np.mean(val_acc)\n",
    "            print(\n",
    "                \"Final validation stats {}/{}\".format(epoch, max_epochs - 1),\n",
    "                \", dice_tc:\",\n",
    "                dice_tc,\n",
    "                \", dice_wt:\",\n",
    "                dice_wt,\n",
    "                \", dice_et:\",\n",
    "                dice_et,\n",
    "                \", Dice_Avg:\",\n",
    "                val_avg_acc,\n",
    "                \", time {:.2f}s\".format(time.time() - epoch_time),\n",
    "            )\n",
    "            dices_tc.append(dice_tc)\n",
    "            dices_wt.append(dice_wt)\n",
    "            dices_et.append(dice_et)\n",
    "            dices_avg.append(val_avg_acc)\n",
    "            if val_avg_acc > val_acc_max:\n",
    "                print(\"new best ({:.6f} --> {:.6f}). \".format(val_acc_max, val_avg_acc))\n",
    "                val_acc_max = val_avg_acc\n",
    "                save_checkpoint(\n",
    "                    model,\n",
    "                    epoch,\n",
    "                    best_acc=val_acc_max,\n",
    "                    dir_add = './'\n",
    "                )\n",
    "            scheduler.step()\n",
    "    print(\"Training Finished !, Best Accuracy: \", val_acc_max)\n",
    "    return (\n",
    "        val_acc_max,\n",
    "        dices_tc,\n",
    "        dices_wt,\n",
    "        dices_et,\n",
    "        dices_avg,\n",
    "        loss_epochs,\n",
    "        trains_epoch,\n",
    "    )"
   ]
  },
  {
   "cell_type": "markdown",
   "metadata": {
    "id": "GqEzVFM2Fcbt"
   },
   "source": [
    "## Execute training"
   ]
  },
  {
   "cell_type": "code",
   "execution_count": 15,
   "metadata": {
    "colab": {
     "base_uri": "https://localhost:8080/"
    },
    "id": "lLJIjEnvFcbt",
    "outputId": "70bec748-e3fd-4425-8d45-26d494dc08e1",
    "scrolled": true
   },
   "outputs": [],
   "source": [
    "# start_epoch = 0\n",
    "\n",
    "# (\n",
    "#     val_acc_max,\n",
    "#     dices_tc,\n",
    "#     dices_wt,\n",
    "#     dices_et,\n",
    "#     dices_avg,\n",
    "#     loss_epochs,\n",
    "#     trains_epoch,\n",
    "# ) = trainer(\n",
    "#     model=model,\n",
    "#     train_loader=train_loader,\n",
    "#     val_loader=val_loader,\n",
    "#     optimizer=optimizer,\n",
    "#     loss_func=dice_loss,\n",
    "#     acc_func=dice_acc,\n",
    "#     scheduler=scheduler,\n",
    "#     model_inferer=model_inferer,\n",
    "#     start_epoch=start_epoch,\n",
    "#     post_sigmoid=post_sigmoid,\n",
    "#     post_pred=post_pred,\n",
    "# )"
   ]
  },
  {
   "cell_type": "code",
   "execution_count": 16,
   "metadata": {
    "id": "Ms_qbv02Fcbu",
    "outputId": "e99fda7c-a558-4939-f2f4-65339ccd4a8e"
   },
   "outputs": [],
   "source": [
    "# print(f\"train completed, best average dice: {val_acc_max:.4f} \")\n",
    "# Final validation stats 59/299 , dice_tc: 0.68023705 , dice_wt: 0.78890765 , dice_et: 0.56848985 , Dice_Avg: 0.67921156 , time 12.75s"
   ]
  },
  {
   "cell_type": "markdown",
   "metadata": {
    "id": "w5cn0NdXFcbu"
   },
   "source": [
    "### Plot the loss and Dice metric"
   ]
  },
  {
   "cell_type": "code",
   "execution_count": 17,
   "metadata": {
    "id": "BvkyYx-WFcbu",
    "outputId": "e017748a-876f-4fed-8d1e-6febd48988f4"
   },
   "outputs": [],
   "source": [
    "# plt.figure(\"train\", (12, 6))\n",
    "# plt.subplot(1, 2, 1)\n",
    "# plt.title(\"Epoch Average Loss\")\n",
    "# plt.xlabel(\"epoch\")\n",
    "# plt.plot(trains_epoch, loss_epochs, color=\"red\")\n",
    "# plt.subplot(1, 2, 2)\n",
    "# plt.title(\"Val Mean Dice\")\n",
    "# plt.xlabel(\"epoch\")\n",
    "# plt.plot(trains_epoch, dices_avg, color=\"green\")\n",
    "# plt.show()\n",
    "# plt.figure(\"train\", (18, 6))\n",
    "# plt.subplot(1, 3, 1)\n",
    "# plt.title(\"Val Mean Dice TC\")\n",
    "# plt.xlabel(\"epoch\")\n",
    "# plt.plot(trains_epoch, dices_tc, color=\"blue\")\n",
    "# plt.subplot(1, 3, 2)\n",
    "# plt.title(\"Val Mean Dice WT\")\n",
    "# plt.xlabel(\"epoch\")\n",
    "# plt.plot(trains_epoch, dices_wt, color=\"brown\")\n",
    "# plt.subplot(1, 3, 3)\n",
    "# plt.title(\"Val Mean Dice ET\")\n",
    "# plt.xlabel(\"epoch\")\n",
    "# plt.plot(trains_epoch, dices_et, color=\"purple\")\n",
    "# plt.show()"
   ]
  },
  {
   "cell_type": "markdown",
   "metadata": {
    "id": "EpUWcO0HFcbu"
   },
   "source": [
    "## Create test set dataloader"
   ]
  },
  {
   "cell_type": "code",
   "execution_count": 18,
   "metadata": {
    "id": "CeMqr52AFcbu"
   },
   "outputs": [],
   "source": [
    "case_num = \"001\"\n",
    "\n",
    "test_files = [\n",
    "    {\n",
    "        \"image\": [\n",
    "            os.path.join(\n",
    "                data_dir,\n",
    "                \"MICCAI_BraTS2020_TrainingData/BraTS20_Training_\" + case_num + \"/BraTS20_Training_\" + case_num + \"_flair.nii\",\n",
    "            ),\n",
    "            os.path.join(\n",
    "                data_dir,\n",
    "                \"MICCAI_BraTS2020_TrainingData/BraTS20_Training_\" + case_num + \"/BraTS20_Training_\" + case_num + \"_t1ce.nii\",\n",
    "            ),\n",
    "            os.path.join(\n",
    "                data_dir,\n",
    "                \"MICCAI_BraTS2020_TrainingData/BraTS20_Training_\" + case_num + \"/BraTS20_Training_\" + case_num + \"_t1.nii\",\n",
    "            ),\n",
    "            os.path.join(\n",
    "                data_dir,\n",
    "                \"MICCAI_BraTS2020_TrainingData/BraTS20_Training_\" + case_num + \"/BraTS20_Training_\" + case_num + \"_t2.nii\",\n",
    "            ),\n",
    "        ],\n",
    "        \"label\": os.path.join(\n",
    "            data_dir,\n",
    "            \"MICCAI_BraTS2020_TrainingData/BraTS20_Training_\" + case_num + \"/BraTS20_Training_\" + case_num + \"_seg.nii\",\n",
    "        ),\n",
    "    }\n",
    "]\n",
    "\n",
    "test_transform = transforms.Compose(\n",
    "    [\n",
    "        transforms.LoadImaged(keys=[\"image\", \"label\"]),\n",
    "        transforms.ConvertToMultiChannelBasedOnBratsClassesd(keys=\"label\"),\n",
    "        transforms.NormalizeIntensityd(keys=\"image\", nonzero=True, channel_wise=True),\n",
    "    ]\n",
    ")\n",
    "\n",
    "test_ds = data.Dataset(data=test_files, transform=test_transform)\n",
    "\n",
    "test_loader = data.DataLoader(\n",
    "    test_ds,\n",
    "    batch_size=1,\n",
    "    shuffle=False,\n",
    "    num_workers=8,\n",
    "    pin_memory=True,\n",
    ")"
   ]
  },
  {
   "cell_type": "markdown",
   "metadata": {
    "id": "XBkxCDLaFcbu"
   },
   "source": [
    "## Load the best saved checkpoint and perform inference\n",
    "\n",
    "We select a single case from the validation set and perform inference to compare the model segmentation output with the corresponding label."
   ]
  },
  {
   "cell_type": "code",
   "execution_count": 19,
   "metadata": {
    "id": "GCzByyNDFcbu"
   },
   "outputs": [],
   "source": [
    "model.load_state_dict(torch.load(os.path.join('./', \"model.pt\"))[\"state_dict\"])\n",
    "model.to(device)\n",
    "model.eval()\n",
    "\n",
    "model_inferer_test = partial(\n",
    "    sliding_window_inference,\n",
    "    roi_size=[roi[0], roi[1], roi[2]],\n",
    "    sw_batch_size=1,\n",
    "    predictor=model,\n",
    "    overlap=0.6,\n",
    ")\n",
    "\n",
    "\n",
    "with torch.no_grad():\n",
    "    for batch_data in test_loader:\n",
    "        image = batch_data[\"image\"].cuda()\n",
    "        prob = torch.sigmoid(model_inferer_test(image))\n",
    "        seg = prob[0].detach().cpu().numpy()\n",
    "        seg = (seg > 0.5).astype(np.int8)\n",
    "        seg_out = np.zeros((seg.shape[1], seg.shape[2], seg.shape[3]))\n",
    "        seg_out[seg[1] == 1] = 2\n",
    "        seg_out[seg[0] == 1] = 1\n",
    "        seg_out[seg[2] == 1] = 4"
   ]
  },
  {
   "cell_type": "markdown",
   "metadata": {
    "id": "b4gYmGRaFcbu"
   },
   "source": [
    "## Visualize segmentation output and compare with label"
   ]
  },
  {
   "cell_type": "code",
   "execution_count": 20,
   "metadata": {
    "id": "p54isGO3Fcbu",
    "outputId": "1b7e2aff-6155-4d22-ec3b-e16c6e783ccf"
   },
   "outputs": [
    {
     "data": {
      "image/png": "[encoded data removed]",
      "text/plain": [
       "<Figure size 1800x600 with 3 Axes>"
      ]
     },
     "metadata": {},
     "output_type": "display_data"
    }
   ],
   "source": [
    "slice_num = 67\n",
    "img_add = os.path.join(\n",
    "    data_dir,\n",
    "    \"MICCAI_BraTS2020_TrainingData/BraTS20_Training_\" + case_num + \"/BraTS20_Training_\" + case_num + \"_t1ce.nii\",\n",
    ")\n",
    "label_add = os.path.join(\n",
    "    data_dir,\n",
    "    \"MICCAI_BraTS2020_TrainingData/BraTS20_Training_\" + case_num + \"/BraTS20_Training_\" + case_num + \"_seg.nii\",\n",
    ")\n",
    "img = nib.load(img_add).get_fdata()\n",
    "label = nib.load(label_add).get_fdata()\n",
    "plt.figure(\"image\", (18, 6))\n",
    "plt.subplot(1, 3, 1)\n",
    "plt.title(\"image\")\n",
    "plt.imshow(img[:, :, slice_num], cmap=\"gray\")\n",
    "plt.subplot(1, 3, 2)\n",
    "plt.title(\"label\")\n",
    "plt.imshow(label[:, :, slice_num])\n",
    "plt.subplot(1, 3, 3)\n",
    "plt.title(\"segmentation\")\n",
    "plt.imshow(seg_out[:, :, slice_num])\n",
    "plt.show()"
   ]
  },
  {
   "cell_type": "markdown",
   "metadata": {
    "id": "qGQUBXDvFcbu"
   },
   "source": [
    "## Cleanup data directory\n",
    "\n",
    "Remove directory if a temporary was used."
   ]
  },
  {
   "cell_type": "code",
   "execution_count": 21,
   "metadata": {
    "id": "LJokdw4kFcbu"
   },
   "outputs": [],
   "source": [
    "if directory is None:\n",
    "    shutil.rmtree(root_dir)"
   ]
  },
  {
   "cell_type": "code",
   "execution_count": null,
   "metadata": {},
   "outputs": [],
   "source": []
  }
 ],
 "metadata": {
  "colab": {
   "provenance": []
  },
  "kernelspec": {
   "display_name": "Python 3 (ipykernel)",
   "language": "python",
   "name": "python3"
  },
  "language_info": {
   "codemirror_mode": {
    "name": "ipython",
    "version": 3
   },
   "file_extension": ".py",
   "mimetype": "text/x-python",
   "name": "python",
   "nbconvert_exporter": "python",
   "pygments_lexer": "ipython3",
   "version": "3.8.18"
  }
 },
 "nbformat": 4,
 "nbformat_minor": 4
}
