{
 "cells": [
  {
   "cell_type": "markdown",
   "metadata": {
    "id": "uDEshHrupPju"
   },
   "source": [
    "## Training on colab\n"
   ]
  },
  {
   "cell_type": "code",
   "execution_count": 1,
   "metadata": {
    "colab": {
     "base_uri": "https://localhost:8080/"
    },
    "executionInfo": {
     "elapsed": 942,
     "status": "ok",
     "timestamp": 1701606558949,
     "user": {
      "displayName": "吳韋論",
      "userId": "04977449950677227697"
     },
     "user_tz": -480
    },
    "id": "yyVyk8_Dp2y-",
    "outputId": "32dbe415-c4e3-4283-e027-b1860c1ed4e8"
   },
   "outputs": [
    {
     "name": "stdout",
     "output_type": "stream",
     "text": [
      "Cloning into 'MIP_Tumor_Segmentation'...\n",
      "remote: Enumerating objects: 48, done.\u001b[K\n",
      "remote: Counting objects: 100% (48/48), done.\u001b[K\n",
      "remote: Compressing objects: 100% (43/43), done.\u001b[K\n",
      "remote: Total 48 (delta 3), reused 48 (delta 3), pack-reused 0\u001b[K\n",
      "Receiving objects: 100% (48/48), 66.66 KiB | 1.42 MiB/s, done.\n",
      "Resolving deltas: 100% (3/3), done.\n"
     ]
    }
   ],
   "source": [
    "!git clone https://github.com/wuweilun/MIP_Tumor_Segmentation.git"
   ]
  },
  {
   "cell_type": "code",
   "execution_count": 2,
   "metadata": {
    "colab": {
     "base_uri": "https://localhost:8080/"
    },
    "executionInfo": {
     "elapsed": 359,
     "status": "ok",
     "timestamp": 1701606617061,
     "user": {
      "displayName": "吳韋論",
      "userId": "04977449950677227697"
     },
     "user_tz": -480
    },
    "id": "G74KksVxXvnl",
    "outputId": "476bb3da-9014-4cb3-821a-b22f4b78f303"
   },
   "outputs": [
    {
     "name": "stdout",
     "output_type": "stream",
     "text": [
      "/content/MIP_Tumor_Segmentation/Diff-UNet\n"
     ]
    }
   ],
   "source": [
    "%cd MIP_Tumor_Segmentation/Diff-UNet/"
   ]
  },
  {
   "cell_type": "code",
   "execution_count": null,
   "metadata": {
    "id": "QnChePL6bB3_"
   },
   "outputs": [],
   "source": [
    "!pip install monai\n",
    "!pip install SimpleITK\n",
    "!pip install medpy"
   ]
  },
  {
   "cell_type": "code",
   "execution_count": null,
   "metadata": {
    "id": "I5_gOXn3Xcin"
   },
   "outputs": [],
   "source": [
    "!gdown 1VFZDI21HXbVQRJOawGxAiQZxFERysLC4 -O datasets.zip\n",
    "\n",
    "!unzip ./datasets.zip"
   ]
  },
  {
   "cell_type": "code",
   "execution_count": null,
   "metadata": {
    "id": "SyJT9kuYZ0mg"
   },
   "outputs": [],
   "source": [
    "!python train.py"
   ]
  }
 ],
 "metadata": {
  "accelerator": "GPU",
  "colab": {
   "authorship_tag": "ABX9TyN4vQJjAo2ENbtQBkRgA5Xi",
   "gpuType": "T4",
   "provenance": []
  },
  "kernelspec": {
   "display_name": "Python 3 (ipykernel)",
   "language": "python",
   "name": "python3"
  },
  "language_info": {
   "codemirror_mode": {
    "name": "ipython",
    "version": 3
   },
   "file_extension": ".py",
   "mimetype": "text/x-python",
   "name": "python",
   "nbconvert_exporter": "python",
   "pygments_lexer": "ipython3",
   "version": "3.8.18"
  }
 },
 "nbformat": 4,
 "nbformat_minor": 4
}
