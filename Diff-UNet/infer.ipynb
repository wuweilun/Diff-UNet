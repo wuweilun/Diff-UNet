{
 "cells": [
  {
   "cell_type": "code",
   "execution_count": 1,
   "id": "7kvA8NTcPnyw",
   "metadata": {
    "colab": {
     "base_uri": "https://localhost:8080/"
    },
    "id": "7kvA8NTcPnyw",
    "outputId": "e13f42f0-ab20-46b6-8f04-7c8b426fc3da"
   },
   "outputs": [],
   "source": [
    "# !git clone https://github.com/wuweilun/MIP_Tumor_Segmentation.git"
   ]
  },
  {
   "cell_type": "code",
   "execution_count": 2,
   "id": "rtVPPY7RPqte",
   "metadata": {
    "colab": {
     "base_uri": "https://localhost:8080/"
    },
    "id": "rtVPPY7RPqte",
    "outputId": "68f4e14d-8629-4179-d4bb-1f1ef385d223"
   },
   "outputs": [],
   "source": [
    "# %cd MIP_Tumor_Segmentation/Diff-UNet/"
   ]
  },
  {
   "cell_type": "code",
   "execution_count": 3,
   "id": "BuDGZvPuPyFZ",
   "metadata": {
    "colab": {
     "base_uri": "https://localhost:8080/"
    },
    "id": "BuDGZvPuPyFZ",
    "outputId": "c1a913bc-c6dd-4463-e366-c9ad38a7931d"
   },
   "outputs": [],
   "source": [
    "# !gdown 1VFZDI21HXbVQRJOawGxAiQZxFERysLC4 -O datasets.zip\n",
    "\n",
    "# !unzip ./datasets.zip"
   ]
  },
  {
   "cell_type": "code",
   "execution_count": 4,
   "id": "Ov_toHHnPTID",
   "metadata": {
    "colab": {
     "base_uri": "https://localhost:8080/"
    },
    "id": "Ov_toHHnPTID",
    "outputId": "ab8c8b50-66bb-459b-efd4-0db4565a400d"
   },
   "outputs": [],
   "source": [
    "# !pip install monai\n",
    "# !pip install SimpleITK\n",
    "# !pip install medpy"
   ]
  },
  {
   "cell_type": "code",
   "execution_count": 5,
   "id": "LqAyq9RGR3eN",
   "metadata": {
    "colab": {
     "base_uri": "https://localhost:8080/"
    },
    "id": "LqAyq9RGR3eN",
    "outputId": "036817b4-65a5-43be-ac43-ea735a919fc9"
   },
   "outputs": [],
   "source": [
    "# !wget -O best_model_0.8563.pt https://www.dropbox.com/scl/fi/3fwvac3f87rdeitlh44e0/best_model_0.8563.pt?rlkey=s15sgse0domp8l0te6w1ggary&dl=1"
   ]
  },
  {
   "cell_type": "code",
   "execution_count": 6,
   "id": "34571c10-d956-4edc-91e9-1b75bc191f01",
   "metadata": {
    "id": "34571c10-d956-4edc-91e9-1b75bc191f01"
   },
   "outputs": [],
   "source": [
    "import numpy as np\n",
    "from dataset.brats_data_utils_multi_label import get_loader_brats, PretrainDataset\n",
    "import torch\n",
    "import torch.nn as nn\n",
    "from monai.inferers import SlidingWindowInferer\n",
    "from light_training.evaluation.metric import dice\n",
    "from light_training.trainer import Trainer\n",
    "from monai.utils import set_determinism\n",
    "from light_training.evaluation.metric import dice, hausdorff_distance_95, recall, fscore\n",
    "import argparse\n",
    "import yaml\n",
    "from guided_diffusion.gaussian_diffusion import get_named_beta_schedule, ModelMeanType, ModelVarType,LossType\n",
    "from guided_diffusion.respace import SpacedDiffusion, space_timesteps\n",
    "from guided_diffusion.resample import UniformSampler\n",
    "from unet.basic_unet_denose import BasicUNetDe\n",
    "from unet.basic_unet import BasicUNetEncoder\n",
    "\n",
    "set_determinism(123)\n",
    "import os\n",
    "from monai import transforms, data\n",
    "from tqdm import tqdm\n",
    "import time\n",
    "from functools import partial\n",
    "from monai.inferers import sliding_window_inference\n",
    "\n",
    "max_epoch = 300\n",
    "batch_size = 2\n",
    "val_every = 10\n",
    "device = \"cuda\"\n",
    "\n",
    "number_modality = 4\n",
    "number_targets = 3 ## WT, TC, ET\n"
   ]
  },
  {
   "cell_type": "code",
   "execution_count": 7,
   "id": "29702a1c-5313-4a41-82ba-becd1b3114d1",
   "metadata": {
    "id": "29702a1c-5313-4a41-82ba-becd1b3114d1"
   },
   "outputs": [],
   "source": [
    "def compute_uncer(pred_out):\n",
    "    pred_out = torch.sigmoid(pred_out)\n",
    "    pred_out[pred_out < 0.001] = 0.001\n",
    "    uncer_out = - pred_out * torch.log(pred_out)\n",
    "    return uncer_out\n",
    "\n",
    "class DiffUNet(nn.Module):\n",
    "    def __init__(self) -> None:\n",
    "        super().__init__()\n",
    "        self.embed_model = BasicUNetEncoder(3, number_modality, number_targets, [64, 64, 128, 256, 512, 64])\n",
    "\n",
    "        self.model = BasicUNetDe(3, number_modality + number_targets, number_targets, [64, 64, 128, 256, 512, 64],\n",
    "                                act = (\"LeakyReLU\", {\"negative_slope\": 0.1, \"inplace\": False}))\n",
    "\n",
    "        betas = get_named_beta_schedule(\"linear\", 1000)\n",
    "        self.diffusion = SpacedDiffusion(use_timesteps=space_timesteps(1000, [1000]),\n",
    "                                            betas=betas,\n",
    "                                            model_mean_type=ModelMeanType.START_X,\n",
    "                                            model_var_type=ModelVarType.FIXED_LARGE,\n",
    "                                            loss_type=LossType.MSE,\n",
    "                                            )\n",
    "\n",
    "        self.sample_diffusion = SpacedDiffusion(use_timesteps=space_timesteps(1000, [10]),\n",
    "                                            betas=betas,\n",
    "                                            model_mean_type=ModelMeanType.START_X,\n",
    "                                            model_var_type=ModelVarType.FIXED_LARGE,\n",
    "                                            loss_type=LossType.MSE,\n",
    "                                            )\n",
    "        self.sampler = UniformSampler(1000)\n",
    "\n",
    "    def forward(self, image=None, x=None, pred_type=None, step=None, embedding=None):\n",
    "        if pred_type == \"q_sample\":\n",
    "            noise = torch.randn_like(x).to(x.device)\n",
    "            t, weight = self.sampler.sample(x.shape[0], x.device)\n",
    "            return self.diffusion.q_sample(x, t, noise=noise), t, noise\n",
    "\n",
    "        elif pred_type == \"denoise\":\n",
    "            embeddings = self.embed_model(image)\n",
    "            return self.model(x, t=step, image=image, embedding=embedding)\n",
    "\n",
    "        elif pred_type == \"ddim_sample\":\n",
    "            embeddings = self.embed_model(image)\n",
    "\n",
    "            uncer_step = 4\n",
    "            sample_outputs = []\n",
    "            for i in range(uncer_step):\n",
    "                sample_outputs.append(self.sample_diffusion.ddim_sample_loop(self.model, (1, number_targets, 96, 96, 96), model_kwargs={\"image\": image, \"embeddings\": embeddings}))\n",
    "\n",
    "            sample_return = torch.zeros((1, number_targets, 96, 96, 96))\n",
    "\n",
    "            for index in range(10):\n",
    "#\n",
    "                uncer_out = 0\n",
    "                for i in range(uncer_step):\n",
    "                    uncer_out += sample_outputs[i][\"all_model_outputs\"][index]\n",
    "                uncer_out = uncer_out / uncer_step\n",
    "                uncer = compute_uncer(uncer_out).cpu()\n",
    "\n",
    "                w = torch.exp(torch.sigmoid(torch.tensor((index + 1) / 10)) * (1 - uncer))\n",
    "\n",
    "                for i in range(uncer_step):\n",
    "                    sample_return += w * sample_outputs[i][\"all_samples\"][index].cpu()\n",
    "\n",
    "            return sample_return.to(\"cuda\")\n",
    "\n",
    "class BraTSTrainer(Trainer):\n",
    "    def __init__(self, env_type, max_epochs, batch_size, device=\"cuda\", val_every=1, num_gpus=1, logdir=\"./logs/\", master_ip='localhost', master_port=17750, training_script=\"train.py\"):\n",
    "        super().__init__(env_type, max_epochs, batch_size, device, val_every, num_gpus, logdir, master_ip, master_port, training_script)\n",
    "        self.window_infer = SlidingWindowInferer(roi_size=[96, 96, 96],\n",
    "                                        sw_batch_size=1,\n",
    "                                        overlap=0.5)\n",
    "        # self.window_infer = sliding_window_inference(roi_size=[96, 96, 96],\n",
    "        #                                 sw_batch_size=1,\n",
    "        #                                 overlap=0.5)\n",
    "\n",
    "        self.model = DiffUNet()\n",
    "\n",
    "    def get_input(self, batch):\n",
    "        image = batch[\"image\"]\n",
    "        label = batch[\"label\"]\n",
    "\n",
    "        label = label.float()\n",
    "        return image, label\n",
    "\n",
    "    def validation_step(self, batch):\n",
    "        image, label = self.get_input(batch)\n",
    "\n",
    "        output = self.window_infer(image, self.model, pred_type=\"ddim_sample\")\n",
    "        output = torch.sigmoid(output)\n",
    "\n",
    "        output = (output > 0.5).float().cpu().numpy()\n",
    "\n",
    "        target = label.cpu().numpy()\n",
    "        o = output[:, 1]\n",
    "        t = target[:, 1] # ce\n",
    "        wt = dice(o, t)\n",
    "        wt_hd = hausdorff_distance_95(o, t)\n",
    "        wt_recall = recall(o, t)\n",
    "\n",
    "        # core\n",
    "        o = output[:, 0]\n",
    "        t = target[:, 0]\n",
    "        tc = dice(o, t)\n",
    "        tc_hd = hausdorff_distance_95(o, t)\n",
    "        tc_recall = recall(o, t)\n",
    "\n",
    "        # active\n",
    "        o = output[:, 2]\n",
    "        t = target[:, 2]\n",
    "\n",
    "        et = dice(o, t)\n",
    "        et_hd = hausdorff_distance_95(o, t)\n",
    "        et_recall = recall(o, t)\n",
    "\n",
    "        print(f\"wt is {wt}, tc is {tc}, et is {et}\")\n",
    "        return [wt, tc, et, wt_hd, tc_hd, et_hd, wt_recall, tc_recall, et_recall]"
   ]
  },
  {
   "cell_type": "code",
   "execution_count": 8,
   "id": "f77b0257-d076-4696-9516-5352fc189039",
   "metadata": {
    "colab": {
     "base_uri": "https://localhost:8080/"
    },
    "id": "f77b0257-d076-4696-9516-5352fc189039",
    "outputId": "9eb6350f-8ff0-456e-993c-81a24db2949c"
   },
   "outputs": [
    {
     "name": "stdout",
     "output_type": "stream",
     "text": [
      "BasicUNet features: (64, 64, 128, 256, 512, 64).\n",
      "BasicUNet features: (64, 64, 128, 256, 512, 64).\n",
      "model parameters are loaded successed.\n",
      "OK\n"
     ]
    }
   ],
   "source": [
    "trainer = BraTSTrainer(env_type=\"pytorch\",\n",
    "                                    max_epochs=max_epoch,\n",
    "                                    batch_size=batch_size,\n",
    "                                    device=device,\n",
    "                                    val_every=val_every,\n",
    "                                    num_gpus=1,\n",
    "                                    master_port=17751,)\n",
    "logdir = \"./best_model_0.8563.pt\"\n",
    "trainer.load_state_dict(logdir)\n",
    "trainer.model.to(device)\n",
    "print(\"OK\")"
   ]
  },
  {
   "cell_type": "code",
   "execution_count": 9,
   "id": "94f64861-7fea-4bb2-abc5-92c764815441",
   "metadata": {
    "id": "94f64861-7fea-4bb2-abc5-92c764815441"
   },
   "outputs": [],
   "source": [
    "case_num = \"003\"\n",
    "data_dir = \"./BraTS2020_TrainingData\"\n",
    "# test_files = [\n",
    "#     {\n",
    "#         \"image\": [\n",
    "#             os.path.join(\n",
    "#                 data_dir,\n",
    "#                 \"MICCAI_BraTS2020_TrainingData/BraTS20_Training_\" + case_num + \"/BraTS20_Training_\" + case_num + \"_flair.nii\",\n",
    "#             ),\n",
    "#             os.path.join(\n",
    "#                 data_dir,\n",
    "#                 \"MICCAI_BraTS2020_TrainingData/BraTS20_Training_\" + case_num + \"/BraTS20_Training_\" + case_num + \"_t1ce.nii\",\n",
    "#             ),\n",
    "#             os.path.join(\n",
    "#                 data_dir,\n",
    "#                 \"MICCAI_BraTS2020_TrainingData/BraTS20_Training_\" + case_num + \"/BraTS20_Training_\" + case_num + \"_t1.nii\",\n",
    "#             ),\n",
    "#             os.path.join(\n",
    "#                 data_dir,\n",
    "#                 \"MICCAI_BraTS2020_TrainingData/BraTS20_Training_\" + case_num + \"/BraTS20_Training_\" + case_num + \"_t2.nii\",\n",
    "#             ),\n",
    "#         ],\n",
    "#         \"label\": os.path.join(\n",
    "#             data_dir,\n",
    "#             \"MICCAI_BraTS2020_TrainingData/BraTS20_Training_\" + case_num + \"/BraTS20_Training_\" + case_num + \"_seg.nii\",\n",
    "#         ),\n",
    "#     }\n",
    "# ]\n",
    "test_files = ['./BraTS2020_TrainingData/MICCAI_BraTS2020_TrainingData/BraTS20_Training_' + case_num]\n",
    "\n",
    "# test_transform = transforms.Compose(\n",
    "#     [\n",
    "#         transforms.LoadImaged(keys=[\"image\", \"label\"]),\n",
    "#         transforms.ConvertToMultiChannelBasedOnBratsClassesd(keys=\"label\"),\n",
    "#         transforms.NormalizeIntensityd(keys=\"image\", nonzero=True, channel_wise=True),\n",
    "#     ]\n",
    "# )\n",
    "test_transform = transforms.Compose(\n",
    "    [   transforms.ConvertToMultiChannelBasedOnBratsClassesD(keys=[\"label\"]),\n",
    "        #transforms.CropForegroundd(keys=[\"image\", \"label\"], source_key=\"image\"),\n",
    "\n",
    "        transforms.NormalizeIntensityd(keys=\"image\", nonzero=True, channel_wise=True),\n",
    "        transforms.ToTensord(keys=[\"image\", \"label\"]),\n",
    "    ]\n",
    ")\n",
    "\n",
    "# test_ds = data.Dataset(data=test_files, transform=test_transform)\n",
    "test_ds = PretrainDataset(test_files, transform=test_transform)\n",
    "\n",
    "test_loader = data.DataLoader(\n",
    "    test_ds,\n",
    "    batch_size=1,\n",
    "    shuffle=False,\n",
    "    num_workers=1,\n",
    "    pin_memory=True,\n",
    ")"
   ]
  },
  {
   "cell_type": "code",
   "execution_count": 10,
   "id": "1348bdf1-25bd-42a6-8404-99de4b9b023b",
   "metadata": {
    "colab": {
     "base_uri": "https://localhost:8080/"
    },
    "id": "1348bdf1-25bd-42a6-8404-99de4b9b023b",
    "outputId": "a7f3b792-2b11-4151-d283-5f3ed7739145"
   },
   "outputs": [
    {
     "name": "stdout",
     "output_type": "stream",
     "text": [
      "1\n"
     ]
    }
   ],
   "source": [
    "# v_mean, _ = trainer.validation_single_gpu(val_dataset=test_ds)\n",
    "print(len(test_loader))"
   ]
  },
  {
   "cell_type": "code",
   "execution_count": 11,
   "id": "P29wnPHi4XiR",
   "metadata": {
    "colab": {
     "base_uri": "https://localhost:8080/"
    },
    "id": "P29wnPHi4XiR",
    "outputId": "55759671-e1c3-4a2e-ee30-c0dce87fdf04"
   },
   "outputs": [
    {
     "name": "stdout",
     "output_type": "stream",
     "text": [
      "torch.Size([1, 4, 155, 240, 240])\n"
     ]
    }
   ],
   "source": [
    "with torch.no_grad():\n",
    "    for batch_data in test_loader:\n",
    "        image = batch_data[\"image\"].to(device)\n",
    "        print(image.shape)"
   ]
  },
  {
   "cell_type": "code",
   "execution_count": 12,
   "id": "d75da0fb-69cd-46d9-8862-8e09419c900a",
   "metadata": {
    "colab": {
     "base_uri": "https://localhost:8080/"
    },
    "id": "d75da0fb-69cd-46d9-8862-8e09419c900a",
    "outputId": "90211cfd-e875-4d57-817e-2f9b3cd4b105"
   },
   "outputs": [
    {
     "name": "stdout",
     "output_type": "stream",
     "text": [
      "cuda\n",
      "time:  207.2354440689087\n"
     ]
    }
   ],
   "source": [
    "# model_inferer_test = partial(\n",
    "#     sliding_window_inference,\n",
    "#     roi_size=[96, 96, 96],\n",
    "#     sw_batch_size=1,\n",
    "#     predictor=trainer.model,\n",
    "#     overlap=0.6,\n",
    "# )\n",
    "\n",
    "print(device)\n",
    "start_time = time.time()\n",
    "with torch.no_grad():\n",
    "    for batch_data in test_loader:\n",
    "        image = batch_data[\"image\"].to(device)\n",
    "\n",
    "        output = trainer.window_infer(image, trainer.model, pred_type=\"ddim_sample\")\n",
    "        # output = torch.sigmoid(output).cpu().numpy()\n",
    "        # output = (output > 0.5).astype(np.int8)\n",
    "        # print(output.shape)\n",
    "        # output = output[0]\n",
    "        # print(output.shape)\n",
    "        # seg_out = np.zeros((output.shape[1], output.shape[2], output.shape[3]))\n",
    "        # seg_out[output[1] == 1] = 2\n",
    "        # seg_out[output[0] == 1] = 1\n",
    "        # seg_out[output[2] == 1] = 4\n",
    "\n",
    "        # prob = torch.sigmoid(model_inferer_test(image))\n",
    "        # seg = prob[0].detach().cpu().numpy()\n",
    "        # seg = (seg > 0.5).astype(np.int8)\n",
    "        # seg_out = np.zeros((seg.shape[1], seg.shape[2], seg.shape[3]))\n",
    "        # seg_out[seg[1] == 1] = 2\n",
    "        # seg_out[seg[0] == 1] = 1\n",
    "        # seg_out[seg[2] == 1] = 4\n",
    "\n",
    "print('time: ', time.time()-start_time)"
   ]
  },
  {
   "cell_type": "code",
   "execution_count": 13,
   "id": "tcVkme3mpYuS",
   "metadata": {
    "colab": {
     "base_uri": "https://localhost:8080/"
    },
    "id": "tcVkme3mpYuS",
    "outputId": "75dab01b-158f-4dba-ceaf-64f73d0a0432"
   },
   "outputs": [
    {
     "name": "stdout",
     "output_type": "stream",
     "text": [
      "torch.Size([1, 3, 155, 240, 240])\n",
      "(1, 3, 155, 240, 240)\n"
     ]
    }
   ],
   "source": [
    "seg = torch.sigmoid(output)\n",
    "print(seg.shape)\n",
    "seg = (seg > 0.5).float().cpu().numpy()\n",
    "print(seg.shape)\n",
    "# seg = seg[0]\n",
    "# print(seg.shape)"
   ]
  },
  {
   "cell_type": "code",
   "execution_count": 14,
   "id": "EzApbUAMqp9d",
   "metadata": {
    "colab": {
     "base_uri": "https://localhost:8080/"
    },
    "id": "EzApbUAMqp9d",
    "outputId": "fc95c94a-09ec-4c29-a1ae-b51125f73779"
   },
   "outputs": [],
   "source": [
    "# o = seg[:,1]\n",
    "# print(o.shape)\n",
    "# o = seg[:,0]\n",
    "# print(o.shape)\n",
    "# o = seg[:,2]\n",
    "# print(o.shape)"
   ]
  },
  {
   "cell_type": "code",
   "execution_count": 15,
   "id": "DOnzPfRNrxir",
   "metadata": {
    "id": "DOnzPfRNrxir"
   },
   "outputs": [],
   "source": [
    "seg_out = np.zeros((seg.shape[2], seg.shape[3], seg.shape[4]))\n",
    "seg_out[seg[:,1][0] == 1] = 2\n",
    "seg_out[seg[:,0][0] == 1] = 1\n",
    "seg_out[seg[:,2][0] == 1] = 4"
   ]
  },
  {
   "cell_type": "code",
   "execution_count": 16,
   "id": "UCpz1s9J5o8n",
   "metadata": {
    "colab": {
     "base_uri": "https://localhost:8080/"
    },
    "id": "UCpz1s9J5o8n",
    "outputId": "514c43c6-ced4-4a49-c3bf-9818d124bce3"
   },
   "outputs": [
    {
     "name": "stdout",
     "output_type": "stream",
     "text": [
      "torch.Size([1, 3, 155, 240, 240])\n"
     ]
    }
   ],
   "source": [
    "for batch_data in test_loader:\n",
    "    label = batch_data[\"label\"]\n",
    "print(label.shape)\n",
    "label_out = np.zeros((label.shape[2], label.shape[3], label.shape[4]))\n",
    "label_out[label[:,1][0] == 1] = 2\n",
    "label_out[label[:,0][0] == 1] = 1\n",
    "label_out[label[:,2][0] == 1] = 4"
   ]
  },
  {
   "cell_type": "code",
   "execution_count": 17,
   "id": "8LLcX3yZ9Ktr",
   "metadata": {
    "colab": {
     "base_uri": "https://localhost:8080/"
    },
    "id": "8LLcX3yZ9Ktr",
    "outputId": "55b982e4-5989-4f07-86ee-0d86d4a9c85f"
   },
   "outputs": [],
   "source": [
    "# import SimpleITK as sitk\n",
    "# slice_num = 67\n",
    "# img_add = os.path.join(\n",
    "#     data_dir,\n",
    "#     \"MICCAI_BraTS2020_TrainingData/BraTS20_Training_\" + case_num + \"/BraTS20_Training_\" + case_num + \"_t1ce.nii\",\n",
    "# )\n",
    "# img_data = sitk.GetArrayFromImage(sitk.ReadImage(img_add))\n",
    "# print(img_data.shape)\n",
    "# img_data = np.expand_dims(np.array(img_data).astype(np.int32), axis=0)\n",
    "# print(img_data.shape)\n",
    "# img_data = test_transform(img_data)\n",
    "# print(img_data.shape)"
   ]
  },
  {
   "cell_type": "code",
   "execution_count": 18,
   "id": "eKLzTahjFG0K",
   "metadata": {
    "colab": {
     "base_uri": "https://localhost:8080/"
    },
    "id": "eKLzTahjFG0K",
    "outputId": "09384cbc-7151-403e-dc84-94febeab5b30"
   },
   "outputs": [
    {
     "name": "stdout",
     "output_type": "stream",
     "text": [
      "(240, 240, 155)\n"
     ]
    }
   ],
   "source": [
    "tmp = label_out.transpose(2, 1, 0)\n",
    "print(tmp.shape)"
   ]
  },
  {
   "cell_type": "code",
   "execution_count": 19,
   "id": "a7ca1470-cb63-45a8-97ac-d224f48ed93d",
   "metadata": {
    "colab": {
     "base_uri": "https://localhost:8080/",
     "height": 354
    },
    "id": "a7ca1470-cb63-45a8-97ac-d224f48ed93d",
    "outputId": "0b6cc72b-843d-43e5-e051-4e22fd0b7cf2"
   },
   "outputs": [
    {
     "name": "stdout",
     "output_type": "stream",
     "text": [
      "(240, 240, 155)\n",
      "(240, 240, 155)\n"
     ]
    },
    {
     "data": {
      "image/png": "[encoded data removed]",
      "text/plain": [
       "<Figure size 1800x600 with 3 Axes>"
      ]
     },
     "metadata": {},
     "output_type": "display_data"
    }
   ],
   "source": [
    "#print(seg_out.shape)\n",
    "# 240, 240, 155\n",
    "import nibabel as nib\n",
    "import matplotlib.pyplot as plt\n",
    "slice_num = 67\n",
    "img_add = os.path.join(\n",
    "    data_dir,\n",
    "    \"MICCAI_BraTS2020_TrainingData/BraTS20_Training_\" + case_num + \"/BraTS20_Training_\" + case_num + \"_t1ce.nii\",\n",
    ")\n",
    "label_add = os.path.join(\n",
    "    data_dir,\n",
    "    \"MICCAI_BraTS2020_TrainingData/BraTS20_Training_\" + case_num + \"/BraTS20_Training_\" + case_num + \"_seg.nii\",\n",
    ")\n",
    "img = nib.load(img_add).get_fdata()\n",
    "# label = nib.load(label_add).get_fdata()\n",
    "label_out = label_out.transpose(2, 1, 0)\n",
    "seg_out = seg_out.transpose(2, 1, 0)\n",
    "print(label_out.shape)\n",
    "print(seg_out.shape)\n",
    "# print(label.shape)\n",
    "plt.figure(\"image\", (18, 6))\n",
    "plt.subplot(1, 3, 1)\n",
    "plt.title(\"image\")\n",
    "plt.imshow(img[:, :, slice_num], cmap=\"gray\")\n",
    "plt.subplot(1, 3, 2)\n",
    "plt.title(\"label\")\n",
    "# plt.imshow(label_out[slice_num, :,:])\n",
    "plt.imshow(label_out[:,:,slice_num])\n",
    "plt.subplot(1, 3, 3)\n",
    "plt.title(\"segmentation\")\n",
    "# plt.imshow(seg_out[slice_num,:,:])\n",
    "plt.imshow(seg_out[:,:,slice_num])\n",
    "plt.show()"
   ]
  },
  {
   "cell_type": "code",
   "execution_count": null,
   "id": "396610e6-0b2c-4940-a4d2-aa9132fb27aa",
   "metadata": {
    "id": "396610e6-0b2c-4940-a4d2-aa9132fb27aa"
   },
   "outputs": [],
   "source": []
  }
 ],
 "metadata": {
  "accelerator": "GPU",
  "colab": {
   "gpuType": "T4",
   "provenance": []
  },
  "kernelspec": {
   "display_name": "Python 3 (ipykernel)",
   "language": "python",
   "name": "python3"
  },
  "language_info": {
   "codemirror_mode": {
    "name": "ipython",
    "version": 3
   },
   "file_extension": ".py",
   "mimetype": "text/x-python",
   "name": "python",
   "nbconvert_exporter": "python",
   "pygments_lexer": "ipython3",
   "version": "3.8.18"
  }
 },
 "nbformat": 4,
 "nbformat_minor": 5
}
